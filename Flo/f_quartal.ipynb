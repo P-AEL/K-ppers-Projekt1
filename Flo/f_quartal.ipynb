{
 "cells": [
  {
   "cell_type": "code",
   "execution_count": 30,
   "metadata": {},
   "outputs": [],
   "source": [
    "import pandas as pd"
   ]
  },
  {
   "cell_type": "code",
   "execution_count": 31,
   "metadata": {},
   "outputs": [],
   "source": [
    "df_org_data = pd.read_parquet(\"escooter_copy.parquet\")"
   ]
  },
  {
   "cell_type": "code",
   "execution_count": 32,
   "metadata": {},
   "outputs": [],
   "source": [
    "df_org_data.holiday = df_org_data.holiday.astype(bool)\n",
    "df_org_data.workingday = df_org_data.workingday.astype(bool)\n",
    "df_org_data.loc[df_org_data.temp >45, \"temp\"] = df_org_data.temp.div(100)"
   ]
  },
  {
   "cell_type": "code",
   "execution_count": 100,
   "metadata": {},
   "outputs": [],
   "source": [
    "df = df_org_data.copy()"
   ]
  },
  {
   "cell_type": "code",
   "execution_count": 101,
   "metadata": {},
   "outputs": [],
   "source": [
    "df = pd.get_dummies(df, prefix=[\"w\"])"
   ]
  },
  {
   "cell_type": "code",
   "execution_count": 102,
   "metadata": {},
   "outputs": [
    {
     "data": {
      "text/plain": [
       "Index(['datetime', 'holiday', 'workingday', 'temp', 'atemp', 'humidity',\n",
       "       'windspeed', 'registered_customer', 'w_clear, few clouds',\n",
       "       'w_cloudy, mist', 'w_heacy rain or thunderstorm or snow or ice pallets',\n",
       "       'w_light snow or rain or thunderstorm'],\n",
       "      dtype='object')"
      ]
     },
     "execution_count": 102,
     "metadata": {},
     "output_type": "execute_result"
    }
   ],
   "source": [
    "df.columns"
   ]
  },
  {
   "cell_type": "code",
   "execution_count": 175,
   "metadata": {},
   "outputs": [
    {
     "data": {
      "text/html": [
       "<div>\n",
       "<style scoped>\n",
       "    .dataframe tbody tr th:only-of-type {\n",
       "        vertical-align: middle;\n",
       "    }\n",
       "\n",
       "    .dataframe tbody tr th {\n",
       "        vertical-align: top;\n",
       "    }\n",
       "\n",
       "    .dataframe thead th {\n",
       "        text-align: right;\n",
       "    }\n",
       "</style>\n",
       "<table border=\"1\" class=\"dataframe\">\n",
       "  <thead>\n",
       "    <tr style=\"text-align: right;\">\n",
       "      <th></th>\n",
       "      <th>datetime</th>\n",
       "      <th>temp</th>\n",
       "      <th>atemp</th>\n",
       "    </tr>\n",
       "  </thead>\n",
       "  <tbody>\n",
       "    <tr>\n",
       "      <th>0</th>\n",
       "      <td>2020-01-01</td>\n",
       "      <td>12.659652</td>\n",
       "      <td>15.310553</td>\n",
       "    </tr>\n",
       "    <tr>\n",
       "      <th>1</th>\n",
       "      <td>2020-04-01</td>\n",
       "      <td>25.493169</td>\n",
       "      <td>29.358302</td>\n",
       "    </tr>\n",
       "    <tr>\n",
       "      <th>2</th>\n",
       "      <td>2020-07-01</td>\n",
       "      <td>29.662624</td>\n",
       "      <td>33.544944</td>\n",
       "    </tr>\n",
       "    <tr>\n",
       "      <th>3</th>\n",
       "      <td>2020-10-01</td>\n",
       "      <td>17.802373</td>\n",
       "      <td>21.359454</td>\n",
       "    </tr>\n",
       "    <tr>\n",
       "      <th>4</th>\n",
       "      <td>2021-01-01</td>\n",
       "      <td>16.117267</td>\n",
       "      <td>19.306695</td>\n",
       "    </tr>\n",
       "    <tr>\n",
       "      <th>5</th>\n",
       "      <td>2021-04-01</td>\n",
       "      <td>24.904063</td>\n",
       "      <td>28.766000</td>\n",
       "    </tr>\n",
       "    <tr>\n",
       "      <th>6</th>\n",
       "      <td>2021-07-01</td>\n",
       "      <td>29.931335</td>\n",
       "      <td>33.712607</td>\n",
       "    </tr>\n",
       "    <tr>\n",
       "      <th>7</th>\n",
       "      <td>2021-10-01</td>\n",
       "      <td>17.852364</td>\n",
       "      <td>21.333893</td>\n",
       "    </tr>\n",
       "    <tr>\n",
       "      <th>8</th>\n",
       "      <td>2022-01-01</td>\n",
       "      <td>10.090529</td>\n",
       "      <td>11.848860</td>\n",
       "    </tr>\n",
       "  </tbody>\n",
       "</table>\n",
       "</div>"
      ],
      "text/plain": [
       "    datetime       temp      atemp\n",
       "0 2020-01-01  12.659652  15.310553\n",
       "1 2020-04-01  25.493169  29.358302\n",
       "2 2020-07-01  29.662624  33.544944\n",
       "3 2020-10-01  17.802373  21.359454\n",
       "4 2021-01-01  16.117267  19.306695\n",
       "5 2021-04-01  24.904063  28.766000\n",
       "6 2021-07-01  29.931335  33.712607\n",
       "7 2021-10-01  17.852364  21.333893\n",
       "8 2022-01-01  10.090529  11.848860"
      ]
     },
     "execution_count": 175,
     "metadata": {},
     "output_type": "execute_result"
    }
   ],
   "source": [
    "df_temp = df.groupby(pd.Grouper(key= \"datetime\", freq= \"QS\")).agg(temp= (\"temp\", \"mean\"), atemp= (\"atemp\", \"mean\")).reset_index()\n",
    "df_temp"
   ]
  },
  {
   "cell_type": "code",
   "execution_count": 228,
   "metadata": {},
   "outputs": [
    {
     "data": {
      "text/html": [
       "<div>\n",
       "<style scoped>\n",
       "    .dataframe tbody tr th:only-of-type {\n",
       "        vertical-align: middle;\n",
       "    }\n",
       "\n",
       "    .dataframe tbody tr th {\n",
       "        vertical-align: top;\n",
       "    }\n",
       "\n",
       "    .dataframe thead th {\n",
       "        text-align: right;\n",
       "    }\n",
       "</style>\n",
       "<table border=\"1\" class=\"dataframe\">\n",
       "  <thead>\n",
       "    <tr style=\"text-align: right;\">\n",
       "      <th></th>\n",
       "      <th>datetime</th>\n",
       "      <th>humidity</th>\n",
       "    </tr>\n",
       "  </thead>\n",
       "  <tbody>\n",
       "    <tr>\n",
       "      <th>0</th>\n",
       "      <td>2020-01-01</td>\n",
       "      <td>52.207031</td>\n",
       "    </tr>\n",
       "    <tr>\n",
       "      <th>1</th>\n",
       "      <td>2020-04-01</td>\n",
       "      <td>59.746064</td>\n",
       "    </tr>\n",
       "    <tr>\n",
       "      <th>2</th>\n",
       "      <td>2020-07-01</td>\n",
       "      <td>59.305234</td>\n",
       "    </tr>\n",
       "    <tr>\n",
       "      <th>3</th>\n",
       "      <td>2020-10-01</td>\n",
       "      <td>62.729869</td>\n",
       "    </tr>\n",
       "    <tr>\n",
       "      <th>4</th>\n",
       "      <td>2021-01-01</td>\n",
       "      <td>54.518830</td>\n",
       "    </tr>\n",
       "    <tr>\n",
       "      <th>5</th>\n",
       "      <td>2021-04-01</td>\n",
       "      <td>51.714344</td>\n",
       "    </tr>\n",
       "    <tr>\n",
       "      <th>6</th>\n",
       "      <td>2021-07-01</td>\n",
       "      <td>56.795032</td>\n",
       "    </tr>\n",
       "    <tr>\n",
       "      <th>7</th>\n",
       "      <td>2021-10-01</td>\n",
       "      <td>60.048124</td>\n",
       "    </tr>\n",
       "    <tr>\n",
       "      <th>8</th>\n",
       "      <td>2022-01-01</td>\n",
       "      <td>60.475712</td>\n",
       "    </tr>\n",
       "  </tbody>\n",
       "</table>\n",
       "</div>"
      ],
      "text/plain": [
       "    datetime   humidity\n",
       "0 2020-01-01  52.207031\n",
       "1 2020-04-01  59.746064\n",
       "2 2020-07-01  59.305234\n",
       "3 2020-10-01  62.729869\n",
       "4 2021-01-01  54.518830\n",
       "5 2021-04-01  51.714344\n",
       "6 2021-07-01  56.795032\n",
       "7 2021-10-01  60.048124\n",
       "8 2022-01-01  60.475712"
      ]
     },
     "execution_count": 228,
     "metadata": {},
     "output_type": "execute_result"
    }
   ],
   "source": [
    "df_humidity = df.groupby(pd.Grouper(key= \"datetime\", freq= \"Qs\")).agg(humidity =(\"humidity\", \"mean\")).reset_index()\n",
    "df_humidity"
   ]
  },
  {
   "cell_type": "code",
   "execution_count": 153,
   "metadata": {},
   "outputs": [
    {
     "data": {
      "text/html": [
       "<div>\n",
       "<style scoped>\n",
       "    .dataframe tbody tr th:only-of-type {\n",
       "        vertical-align: middle;\n",
       "    }\n",
       "\n",
       "    .dataframe tbody tr th {\n",
       "        vertical-align: top;\n",
       "    }\n",
       "\n",
       "    .dataframe thead th {\n",
       "        text-align: right;\n",
       "    }\n",
       "</style>\n",
       "<table border=\"1\" class=\"dataframe\">\n",
       "  <thead>\n",
       "    <tr style=\"text-align: right;\">\n",
       "      <th></th>\n",
       "      <th>registered_customer</th>\n",
       "      <th>datetime</th>\n",
       "      <th>humidity</th>\n",
       "      <th>windspeed</th>\n",
       "      <th>temp</th>\n",
       "      <th>atemp</th>\n",
       "      <th>reg_customer</th>\n",
       "      <th>holiday</th>\n",
       "      <th>workingday</th>\n",
       "      <th>clear_few_clouds</th>\n",
       "      <th>w_cloudy_mist</th>\n",
       "      <th>w_heacy_rain_thund_snow_icepal</th>\n",
       "      <th>w_light_snow_rain_thund</th>\n",
       "    </tr>\n",
       "  </thead>\n",
       "  <tbody>\n",
       "    <tr>\n",
       "      <th>0</th>\n",
       "      <td>False</td>\n",
       "      <td>2020-01-01</td>\n",
       "      <td>47.451125</td>\n",
       "      <td>16.781930</td>\n",
       "      <td>15.112061</td>\n",
       "      <td>18.144947</td>\n",
       "      <td>22404</td>\n",
       "      <td>302</td>\n",
       "      <td>11132</td>\n",
       "      <td>15613.0</td>\n",
       "      <td>6239.0</td>\n",
       "      <td>0</td>\n",
       "      <td>552.0</td>\n",
       "    </tr>\n",
       "    <tr>\n",
       "      <th>1</th>\n",
       "      <td>False</td>\n",
       "      <td>2020-04-01</td>\n",
       "      <td>57.758936</td>\n",
       "      <td>13.948909</td>\n",
       "      <td>25.946334</td>\n",
       "      <td>29.836297</td>\n",
       "      <td>88993</td>\n",
       "      <td>3409</td>\n",
       "      <td>43484</td>\n",
       "      <td>62560.0</td>\n",
       "      <td>22174.0</td>\n",
       "      <td>0</td>\n",
       "      <td>4259.0</td>\n",
       "    </tr>\n",
       "    <tr>\n",
       "      <th>2</th>\n",
       "      <td>False</td>\n",
       "      <td>2020-07-01</td>\n",
       "      <td>57.065355</td>\n",
       "      <td>12.708799</td>\n",
       "      <td>30.286863</td>\n",
       "      <td>34.189860</td>\n",
       "      <td>104644</td>\n",
       "      <td>5243</td>\n",
       "      <td>52310</td>\n",
       "      <td>81702.0</td>\n",
       "      <td>19031.0</td>\n",
       "      <td>0</td>\n",
       "      <td>3911.0</td>\n",
       "    </tr>\n",
       "    <tr>\n",
       "      <th>3</th>\n",
       "      <td>False</td>\n",
       "      <td>2020-10-01</td>\n",
       "      <td>57.337626</td>\n",
       "      <td>12.792207</td>\n",
       "      <td>19.470226</td>\n",
       "      <td>23.241548</td>\n",
       "      <td>55437</td>\n",
       "      <td>3196</td>\n",
       "      <td>24483</td>\n",
       "      <td>41554.0</td>\n",
       "      <td>11113.0</td>\n",
       "      <td>0</td>\n",
       "      <td>2770.0</td>\n",
       "    </tr>\n",
       "    <tr>\n",
       "      <th>4</th>\n",
       "      <td>False</td>\n",
       "      <td>2021-01-01</td>\n",
       "      <td>52.274688</td>\n",
       "      <td>14.993162</td>\n",
       "      <td>17.996541</td>\n",
       "      <td>21.416502</td>\n",
       "      <td>51360</td>\n",
       "      <td>1019</td>\n",
       "      <td>25589</td>\n",
       "      <td>38478.0</td>\n",
       "      <td>11484.0</td>\n",
       "      <td>9</td>\n",
       "      <td>1389.0</td>\n",
       "    </tr>\n",
       "    <tr>\n",
       "      <th>5</th>\n",
       "      <td>False</td>\n",
       "      <td>2021-04-01</td>\n",
       "      <td>47.747044</td>\n",
       "      <td>15.007496</td>\n",
       "      <td>25.489554</td>\n",
       "      <td>29.367289</td>\n",
       "      <td>144361</td>\n",
       "      <td>5177</td>\n",
       "      <td>69429</td>\n",
       "      <td>113184.0</td>\n",
       "      <td>27067.0</td>\n",
       "      <td>0</td>\n",
       "      <td>4110.0</td>\n",
       "    </tr>\n",
       "    <tr>\n",
       "      <th>6</th>\n",
       "      <td>False</td>\n",
       "      <td>2021-07-01</td>\n",
       "      <td>53.912720</td>\n",
       "      <td>12.640836</td>\n",
       "      <td>30.647130</td>\n",
       "      <td>34.431457</td>\n",
       "      <td>146483</td>\n",
       "      <td>5461</td>\n",
       "      <td>79135</td>\n",
       "      <td>111809.0</td>\n",
       "      <td>28150.0</td>\n",
       "      <td>0</td>\n",
       "      <td>6524.0</td>\n",
       "    </tr>\n",
       "    <tr>\n",
       "      <th>7</th>\n",
       "      <td>False</td>\n",
       "      <td>2021-10-01</td>\n",
       "      <td>55.131667</td>\n",
       "      <td>13.496391</td>\n",
       "      <td>19.785052</td>\n",
       "      <td>23.579996</td>\n",
       "      <td>84129</td>\n",
       "      <td>4029</td>\n",
       "      <td>37603</td>\n",
       "      <td>57016.0</td>\n",
       "      <td>23665.0</td>\n",
       "      <td>0</td>\n",
       "      <td>3448.0</td>\n",
       "    </tr>\n",
       "    <tr>\n",
       "      <th>8</th>\n",
       "      <td>False</td>\n",
       "      <td>2022-01-01</td>\n",
       "      <td>59.031042</td>\n",
       "      <td>15.330183</td>\n",
       "      <td>10.421818</td>\n",
       "      <td>12.003764</td>\n",
       "      <td>1804</td>\n",
       "      <td>0</td>\n",
       "      <td>360</td>\n",
       "      <td>803.0</td>\n",
       "      <td>913.0</td>\n",
       "      <td>0</td>\n",
       "      <td>88.0</td>\n",
       "    </tr>\n",
       "    <tr>\n",
       "      <th>9</th>\n",
       "      <td>True</td>\n",
       "      <td>2020-01-01</td>\n",
       "      <td>52.981218</td>\n",
       "      <td>15.226614</td>\n",
       "      <td>12.260439</td>\n",
       "      <td>14.849158</td>\n",
       "      <td>137630</td>\n",
       "      <td>2057</td>\n",
       "      <td>101912</td>\n",
       "      <td>88925.0</td>\n",
       "      <td>41800.0</td>\n",
       "      <td>25</td>\n",
       "      <td>6880.0</td>\n",
       "    </tr>\n",
       "    <tr>\n",
       "      <th>10</th>\n",
       "      <td>True</td>\n",
       "      <td>2020-04-01</td>\n",
       "      <td>60.300882</td>\n",
       "      <td>14.387150</td>\n",
       "      <td>25.366643</td>\n",
       "      <td>29.224843</td>\n",
       "      <td>318736</td>\n",
       "      <td>8401</td>\n",
       "      <td>232363</td>\n",
       "      <td>217922.0</td>\n",
       "      <td>79458.0</td>\n",
       "      <td>0</td>\n",
       "      <td>21356.0</td>\n",
       "    </tr>\n",
       "    <tr>\n",
       "      <th>11</th>\n",
       "      <td>True</td>\n",
       "      <td>2020-07-01</td>\n",
       "      <td>59.977727</td>\n",
       "      <td>12.479847</td>\n",
       "      <td>29.475205</td>\n",
       "      <td>33.351317</td>\n",
       "      <td>348539</td>\n",
       "      <td>6281</td>\n",
       "      <td>260476</td>\n",
       "      <td>262473.0</td>\n",
       "      <td>67558.0</td>\n",
       "      <td>0</td>\n",
       "      <td>18508.0</td>\n",
       "    </tr>\n",
       "    <tr>\n",
       "      <th>12</th>\n",
       "      <td>True</td>\n",
       "      <td>2020-10-01</td>\n",
       "      <td>63.654623</td>\n",
       "      <td>12.226998</td>\n",
       "      <td>17.516341</td>\n",
       "      <td>21.036680</td>\n",
       "      <td>323253</td>\n",
       "      <td>11296</td>\n",
       "      <td>231935</td>\n",
       "      <td>218194.0</td>\n",
       "      <td>81775.0</td>\n",
       "      <td>0</td>\n",
       "      <td>23284.0</td>\n",
       "    </tr>\n",
       "    <tr>\n",
       "      <th>13</th>\n",
       "      <td>True</td>\n",
       "      <td>2021-01-01</td>\n",
       "      <td>54.859112</td>\n",
       "      <td>14.577730</td>\n",
       "      <td>15.832309</td>\n",
       "      <td>18.986782</td>\n",
       "      <td>338716</td>\n",
       "      <td>7175</td>\n",
       "      <td>254424</td>\n",
       "      <td>242729.0</td>\n",
       "      <td>78521.0</td>\n",
       "      <td>206</td>\n",
       "      <td>17260.0</td>\n",
       "    </tr>\n",
       "    <tr>\n",
       "      <th>14</th>\n",
       "      <td>True</td>\n",
       "      <td>2021-04-01</td>\n",
       "      <td>52.836568</td>\n",
       "      <td>14.598001</td>\n",
       "      <td>24.738446</td>\n",
       "      <td>28.595914</td>\n",
       "      <td>510347</td>\n",
       "      <td>14111</td>\n",
       "      <td>374892</td>\n",
       "      <td>385931.0</td>\n",
       "      <td>101934.0</td>\n",
       "      <td>0</td>\n",
       "      <td>22482.0</td>\n",
       "    </tr>\n",
       "    <tr>\n",
       "      <th>15</th>\n",
       "      <td>True</td>\n",
       "      <td>2021-07-01</td>\n",
       "      <td>57.547322</td>\n",
       "      <td>11.902051</td>\n",
       "      <td>29.744511</td>\n",
       "      <td>33.524986</td>\n",
       "      <td>561233</td>\n",
       "      <td>10976</td>\n",
       "      <td>424441</td>\n",
       "      <td>423627.0</td>\n",
       "      <td>114409.0</td>\n",
       "      <td>0</td>\n",
       "      <td>23197.0</td>\n",
       "    </tr>\n",
       "    <tr>\n",
       "      <th>16</th>\n",
       "      <td>True</td>\n",
       "      <td>2021-10-01</td>\n",
       "      <td>60.872498</td>\n",
       "      <td>12.464531</td>\n",
       "      <td>17.528297</td>\n",
       "      <td>20.957275</td>\n",
       "      <td>501734</td>\n",
       "      <td>17604</td>\n",
       "      <td>364982</td>\n",
       "      <td>292786.0</td>\n",
       "      <td>173663.0</td>\n",
       "      <td>0</td>\n",
       "      <td>35285.0</td>\n",
       "    </tr>\n",
       "    <tr>\n",
       "      <th>17</th>\n",
       "      <td>True</td>\n",
       "      <td>2022-01-01</td>\n",
       "      <td>60.642647</td>\n",
       "      <td>13.351044</td>\n",
       "      <td>10.052248</td>\n",
       "      <td>11.830960</td>\n",
       "      <td>15612</td>\n",
       "      <td>0</td>\n",
       "      <td>5927</td>\n",
       "      <td>6760.0</td>\n",
       "      <td>7999.0</td>\n",
       "      <td>0</td>\n",
       "      <td>853.0</td>\n",
       "    </tr>\n",
       "  </tbody>\n",
       "</table>\n",
       "</div>"
      ],
      "text/plain": [
       "    registered_customer   datetime   humidity  windspeed       temp  \\\n",
       "0                 False 2020-01-01  47.451125  16.781930  15.112061   \n",
       "1                 False 2020-04-01  57.758936  13.948909  25.946334   \n",
       "2                 False 2020-07-01  57.065355  12.708799  30.286863   \n",
       "3                 False 2020-10-01  57.337626  12.792207  19.470226   \n",
       "4                 False 2021-01-01  52.274688  14.993162  17.996541   \n",
       "5                 False 2021-04-01  47.747044  15.007496  25.489554   \n",
       "6                 False 2021-07-01  53.912720  12.640836  30.647130   \n",
       "7                 False 2021-10-01  55.131667  13.496391  19.785052   \n",
       "8                 False 2022-01-01  59.031042  15.330183  10.421818   \n",
       "9                  True 2020-01-01  52.981218  15.226614  12.260439   \n",
       "10                 True 2020-04-01  60.300882  14.387150  25.366643   \n",
       "11                 True 2020-07-01  59.977727  12.479847  29.475205   \n",
       "12                 True 2020-10-01  63.654623  12.226998  17.516341   \n",
       "13                 True 2021-01-01  54.859112  14.577730  15.832309   \n",
       "14                 True 2021-04-01  52.836568  14.598001  24.738446   \n",
       "15                 True 2021-07-01  57.547322  11.902051  29.744511   \n",
       "16                 True 2021-10-01  60.872498  12.464531  17.528297   \n",
       "17                 True 2022-01-01  60.642647  13.351044  10.052248   \n",
       "\n",
       "        atemp  reg_customer  holiday  workingday  clear_few_clouds  \\\n",
       "0   18.144947         22404      302       11132           15613.0   \n",
       "1   29.836297         88993     3409       43484           62560.0   \n",
       "2   34.189860        104644     5243       52310           81702.0   \n",
       "3   23.241548         55437     3196       24483           41554.0   \n",
       "4   21.416502         51360     1019       25589           38478.0   \n",
       "5   29.367289        144361     5177       69429          113184.0   \n",
       "6   34.431457        146483     5461       79135          111809.0   \n",
       "7   23.579996         84129     4029       37603           57016.0   \n",
       "8   12.003764          1804        0         360             803.0   \n",
       "9   14.849158        137630     2057      101912           88925.0   \n",
       "10  29.224843        318736     8401      232363          217922.0   \n",
       "11  33.351317        348539     6281      260476          262473.0   \n",
       "12  21.036680        323253    11296      231935          218194.0   \n",
       "13  18.986782        338716     7175      254424          242729.0   \n",
       "14  28.595914        510347    14111      374892          385931.0   \n",
       "15  33.524986        561233    10976      424441          423627.0   \n",
       "16  20.957275        501734    17604      364982          292786.0   \n",
       "17  11.830960         15612        0        5927            6760.0   \n",
       "\n",
       "    w_cloudy_mist  w_heacy_rain_thund_snow_icepal  w_light_snow_rain_thund  \n",
       "0          6239.0                               0                    552.0  \n",
       "1         22174.0                               0                   4259.0  \n",
       "2         19031.0                               0                   3911.0  \n",
       "3         11113.0                               0                   2770.0  \n",
       "4         11484.0                               9                   1389.0  \n",
       "5         27067.0                               0                   4110.0  \n",
       "6         28150.0                               0                   6524.0  \n",
       "7         23665.0                               0                   3448.0  \n",
       "8           913.0                               0                     88.0  \n",
       "9         41800.0                              25                   6880.0  \n",
       "10        79458.0                               0                  21356.0  \n",
       "11        67558.0                               0                  18508.0  \n",
       "12        81775.0                               0                  23284.0  \n",
       "13        78521.0                             206                  17260.0  \n",
       "14       101934.0                               0                  22482.0  \n",
       "15       114409.0                               0                  23197.0  \n",
       "16       173663.0                               0                  35285.0  \n",
       "17         7999.0                               0                    853.0  "
      ]
     },
     "execution_count": 153,
     "metadata": {},
     "output_type": "execute_result"
    }
   ],
   "source": [
    "df_quartal = df.groupby([\"registered_customer\", pd.Grouper(key=\"datetime\", freq= \"QS\")]).agg(\n",
    "               humidity= (\"humidity\", \"mean\"), \n",
    "               windspeed= (\"windspeed\", \"mean\"), \n",
    "               temp= (\"temp\", \"mean\"), \n",
    "               atemp= (\"atemp\", \"mean\"), \n",
    "               reg_customer= (\"registered_customer\", \"count\"), \n",
    "               holiday= (\"holiday\", \"sum\"), \n",
    "               workingday= (\"workingday\", \"sum\"),  \n",
    "               clear_few_clouds = (\"w_clear, few clouds\", \"sum\"),\n",
    "               w_cloudy_mist = (\"w_cloudy, mist\", \"sum\"),\n",
    "               w_heacy_rain_thund_snow_icepal= (\"w_heacy rain or thunderstorm or snow or ice pallets\", \"sum\"), \n",
    "               w_light_snow_rain_thund= (\"w_light snow or rain or thunderstorm\", \"sum\")).reset_index()\n",
    "df_quartal"
   ]
  },
  {
   "cell_type": "code",
   "execution_count": 141,
   "metadata": {},
   "outputs": [
    {
     "data": {
      "text/html": [
       "<div>\n",
       "<style scoped>\n",
       "    .dataframe tbody tr th:only-of-type {\n",
       "        vertical-align: middle;\n",
       "    }\n",
       "\n",
       "    .dataframe tbody tr th {\n",
       "        vertical-align: top;\n",
       "    }\n",
       "\n",
       "    .dataframe thead th {\n",
       "        text-align: right;\n",
       "    }\n",
       "</style>\n",
       "<table border=\"1\" class=\"dataframe\">\n",
       "  <thead>\n",
       "    <tr style=\"text-align: right;\">\n",
       "      <th></th>\n",
       "      <th>registered_customer</th>\n",
       "      <th>datetime</th>\n",
       "      <th>humidity</th>\n",
       "      <th>windspeed</th>\n",
       "      <th>temp</th>\n",
       "      <th>atemp</th>\n",
       "      <th>reg_customer</th>\n",
       "      <th>holiday</th>\n",
       "      <th>workingday</th>\n",
       "      <th>clear_few_clouds</th>\n",
       "      <th>w_cloudy_mist</th>\n",
       "      <th>w_heacy_rain_thund_snow_icepal</th>\n",
       "      <th>w_light_snow_rain_thund</th>\n",
       "    </tr>\n",
       "  </thead>\n",
       "  <tbody>\n",
       "    <tr>\n",
       "      <th>9</th>\n",
       "      <td>True</td>\n",
       "      <td>2020-01-01</td>\n",
       "      <td>52.981218</td>\n",
       "      <td>15.226614</td>\n",
       "      <td>12.260439</td>\n",
       "      <td>14.849158</td>\n",
       "      <td>137630</td>\n",
       "      <td>2057</td>\n",
       "      <td>101912</td>\n",
       "      <td>88925.0</td>\n",
       "      <td>41800.0</td>\n",
       "      <td>25</td>\n",
       "      <td>6880.0</td>\n",
       "    </tr>\n",
       "    <tr>\n",
       "      <th>10</th>\n",
       "      <td>True</td>\n",
       "      <td>2020-04-01</td>\n",
       "      <td>60.300882</td>\n",
       "      <td>14.387150</td>\n",
       "      <td>25.366643</td>\n",
       "      <td>29.224843</td>\n",
       "      <td>318736</td>\n",
       "      <td>8401</td>\n",
       "      <td>232363</td>\n",
       "      <td>217922.0</td>\n",
       "      <td>79458.0</td>\n",
       "      <td>0</td>\n",
       "      <td>21356.0</td>\n",
       "    </tr>\n",
       "    <tr>\n",
       "      <th>11</th>\n",
       "      <td>True</td>\n",
       "      <td>2020-07-01</td>\n",
       "      <td>59.977727</td>\n",
       "      <td>12.479847</td>\n",
       "      <td>29.475205</td>\n",
       "      <td>33.351317</td>\n",
       "      <td>348539</td>\n",
       "      <td>6281</td>\n",
       "      <td>260476</td>\n",
       "      <td>262473.0</td>\n",
       "      <td>67558.0</td>\n",
       "      <td>0</td>\n",
       "      <td>18508.0</td>\n",
       "    </tr>\n",
       "    <tr>\n",
       "      <th>12</th>\n",
       "      <td>True</td>\n",
       "      <td>2020-10-01</td>\n",
       "      <td>63.654623</td>\n",
       "      <td>12.226998</td>\n",
       "      <td>17.516341</td>\n",
       "      <td>21.036680</td>\n",
       "      <td>323253</td>\n",
       "      <td>11296</td>\n",
       "      <td>231935</td>\n",
       "      <td>218194.0</td>\n",
       "      <td>81775.0</td>\n",
       "      <td>0</td>\n",
       "      <td>23284.0</td>\n",
       "    </tr>\n",
       "    <tr>\n",
       "      <th>13</th>\n",
       "      <td>True</td>\n",
       "      <td>2021-01-01</td>\n",
       "      <td>54.859112</td>\n",
       "      <td>14.577730</td>\n",
       "      <td>15.832309</td>\n",
       "      <td>18.986782</td>\n",
       "      <td>338716</td>\n",
       "      <td>7175</td>\n",
       "      <td>254424</td>\n",
       "      <td>242729.0</td>\n",
       "      <td>78521.0</td>\n",
       "      <td>206</td>\n",
       "      <td>17260.0</td>\n",
       "    </tr>\n",
       "    <tr>\n",
       "      <th>14</th>\n",
       "      <td>True</td>\n",
       "      <td>2021-04-01</td>\n",
       "      <td>52.836568</td>\n",
       "      <td>14.598001</td>\n",
       "      <td>24.738446</td>\n",
       "      <td>28.595914</td>\n",
       "      <td>510347</td>\n",
       "      <td>14111</td>\n",
       "      <td>374892</td>\n",
       "      <td>385931.0</td>\n",
       "      <td>101934.0</td>\n",
       "      <td>0</td>\n",
       "      <td>22482.0</td>\n",
       "    </tr>\n",
       "    <tr>\n",
       "      <th>15</th>\n",
       "      <td>True</td>\n",
       "      <td>2021-07-01</td>\n",
       "      <td>57.547322</td>\n",
       "      <td>11.902051</td>\n",
       "      <td>29.744511</td>\n",
       "      <td>33.524986</td>\n",
       "      <td>561233</td>\n",
       "      <td>10976</td>\n",
       "      <td>424441</td>\n",
       "      <td>423627.0</td>\n",
       "      <td>114409.0</td>\n",
       "      <td>0</td>\n",
       "      <td>23197.0</td>\n",
       "    </tr>\n",
       "    <tr>\n",
       "      <th>16</th>\n",
       "      <td>True</td>\n",
       "      <td>2021-10-01</td>\n",
       "      <td>60.872498</td>\n",
       "      <td>12.464531</td>\n",
       "      <td>17.528297</td>\n",
       "      <td>20.957275</td>\n",
       "      <td>501734</td>\n",
       "      <td>17604</td>\n",
       "      <td>364982</td>\n",
       "      <td>292786.0</td>\n",
       "      <td>173663.0</td>\n",
       "      <td>0</td>\n",
       "      <td>35285.0</td>\n",
       "    </tr>\n",
       "    <tr>\n",
       "      <th>17</th>\n",
       "      <td>True</td>\n",
       "      <td>2022-01-01</td>\n",
       "      <td>60.642647</td>\n",
       "      <td>13.351044</td>\n",
       "      <td>10.052248</td>\n",
       "      <td>11.830960</td>\n",
       "      <td>15612</td>\n",
       "      <td>0</td>\n",
       "      <td>5927</td>\n",
       "      <td>6760.0</td>\n",
       "      <td>7999.0</td>\n",
       "      <td>0</td>\n",
       "      <td>853.0</td>\n",
       "    </tr>\n",
       "  </tbody>\n",
       "</table>\n",
       "</div>"
      ],
      "text/plain": [
       "    registered_customer   datetime   humidity  windspeed       temp  \\\n",
       "9                  True 2020-01-01  52.981218  15.226614  12.260439   \n",
       "10                 True 2020-04-01  60.300882  14.387150  25.366643   \n",
       "11                 True 2020-07-01  59.977727  12.479847  29.475205   \n",
       "12                 True 2020-10-01  63.654623  12.226998  17.516341   \n",
       "13                 True 2021-01-01  54.859112  14.577730  15.832309   \n",
       "14                 True 2021-04-01  52.836568  14.598001  24.738446   \n",
       "15                 True 2021-07-01  57.547322  11.902051  29.744511   \n",
       "16                 True 2021-10-01  60.872498  12.464531  17.528297   \n",
       "17                 True 2022-01-01  60.642647  13.351044  10.052248   \n",
       "\n",
       "        atemp  reg_customer  holiday  workingday  clear_few_clouds  \\\n",
       "9   14.849158        137630     2057      101912           88925.0   \n",
       "10  29.224843        318736     8401      232363          217922.0   \n",
       "11  33.351317        348539     6281      260476          262473.0   \n",
       "12  21.036680        323253    11296      231935          218194.0   \n",
       "13  18.986782        338716     7175      254424          242729.0   \n",
       "14  28.595914        510347    14111      374892          385931.0   \n",
       "15  33.524986        561233    10976      424441          423627.0   \n",
       "16  20.957275        501734    17604      364982          292786.0   \n",
       "17  11.830960         15612        0        5927            6760.0   \n",
       "\n",
       "    w_cloudy_mist  w_heacy_rain_thund_snow_icepal  w_light_snow_rain_thund  \n",
       "9         41800.0                              25                   6880.0  \n",
       "10        79458.0                               0                  21356.0  \n",
       "11        67558.0                               0                  18508.0  \n",
       "12        81775.0                               0                  23284.0  \n",
       "13        78521.0                             206                  17260.0  \n",
       "14       101934.0                               0                  22482.0  \n",
       "15       114409.0                               0                  23197.0  \n",
       "16       173663.0                               0                  35285.0  \n",
       "17         7999.0                               0                    853.0  "
      ]
     },
     "execution_count": 141,
     "metadata": {},
     "output_type": "execute_result"
    }
   ],
   "source": [
    "dfqT = df_quartal.loc[df_quartal.registered_customer == True]\n",
    "dfqT"
   ]
  },
  {
   "cell_type": "code",
   "execution_count": 142,
   "metadata": {},
   "outputs": [
    {
     "data": {
      "text/html": [
       "<div>\n",
       "<style scoped>\n",
       "    .dataframe tbody tr th:only-of-type {\n",
       "        vertical-align: middle;\n",
       "    }\n",
       "\n",
       "    .dataframe tbody tr th {\n",
       "        vertical-align: top;\n",
       "    }\n",
       "\n",
       "    .dataframe thead th {\n",
       "        text-align: right;\n",
       "    }\n",
       "</style>\n",
       "<table border=\"1\" class=\"dataframe\">\n",
       "  <thead>\n",
       "    <tr style=\"text-align: right;\">\n",
       "      <th></th>\n",
       "      <th>registered_customer</th>\n",
       "      <th>datetime</th>\n",
       "      <th>humidity</th>\n",
       "      <th>windspeed</th>\n",
       "      <th>temp</th>\n",
       "      <th>atemp</th>\n",
       "      <th>reg_customer</th>\n",
       "      <th>holiday</th>\n",
       "      <th>workingday</th>\n",
       "      <th>clear_few_clouds</th>\n",
       "      <th>w_cloudy_mist</th>\n",
       "      <th>w_heacy_rain_thund_snow_icepal</th>\n",
       "      <th>w_light_snow_rain_thund</th>\n",
       "    </tr>\n",
       "  </thead>\n",
       "  <tbody>\n",
       "    <tr>\n",
       "      <th>0</th>\n",
       "      <td>False</td>\n",
       "      <td>2020-01-01</td>\n",
       "      <td>47.451125</td>\n",
       "      <td>16.781930</td>\n",
       "      <td>15.112061</td>\n",
       "      <td>18.144947</td>\n",
       "      <td>22404</td>\n",
       "      <td>302</td>\n",
       "      <td>11132</td>\n",
       "      <td>15613.0</td>\n",
       "      <td>6239.0</td>\n",
       "      <td>0</td>\n",
       "      <td>552.0</td>\n",
       "    </tr>\n",
       "    <tr>\n",
       "      <th>1</th>\n",
       "      <td>False</td>\n",
       "      <td>2020-04-01</td>\n",
       "      <td>57.758936</td>\n",
       "      <td>13.948909</td>\n",
       "      <td>25.946334</td>\n",
       "      <td>29.836297</td>\n",
       "      <td>88993</td>\n",
       "      <td>3409</td>\n",
       "      <td>43484</td>\n",
       "      <td>62560.0</td>\n",
       "      <td>22174.0</td>\n",
       "      <td>0</td>\n",
       "      <td>4259.0</td>\n",
       "    </tr>\n",
       "    <tr>\n",
       "      <th>2</th>\n",
       "      <td>False</td>\n",
       "      <td>2020-07-01</td>\n",
       "      <td>57.065355</td>\n",
       "      <td>12.708799</td>\n",
       "      <td>30.286863</td>\n",
       "      <td>34.189860</td>\n",
       "      <td>104644</td>\n",
       "      <td>5243</td>\n",
       "      <td>52310</td>\n",
       "      <td>81702.0</td>\n",
       "      <td>19031.0</td>\n",
       "      <td>0</td>\n",
       "      <td>3911.0</td>\n",
       "    </tr>\n",
       "    <tr>\n",
       "      <th>3</th>\n",
       "      <td>False</td>\n",
       "      <td>2020-10-01</td>\n",
       "      <td>57.337626</td>\n",
       "      <td>12.792207</td>\n",
       "      <td>19.470226</td>\n",
       "      <td>23.241548</td>\n",
       "      <td>55437</td>\n",
       "      <td>3196</td>\n",
       "      <td>24483</td>\n",
       "      <td>41554.0</td>\n",
       "      <td>11113.0</td>\n",
       "      <td>0</td>\n",
       "      <td>2770.0</td>\n",
       "    </tr>\n",
       "    <tr>\n",
       "      <th>4</th>\n",
       "      <td>False</td>\n",
       "      <td>2021-01-01</td>\n",
       "      <td>52.274688</td>\n",
       "      <td>14.993162</td>\n",
       "      <td>17.996541</td>\n",
       "      <td>21.416502</td>\n",
       "      <td>51360</td>\n",
       "      <td>1019</td>\n",
       "      <td>25589</td>\n",
       "      <td>38478.0</td>\n",
       "      <td>11484.0</td>\n",
       "      <td>9</td>\n",
       "      <td>1389.0</td>\n",
       "    </tr>\n",
       "    <tr>\n",
       "      <th>5</th>\n",
       "      <td>False</td>\n",
       "      <td>2021-04-01</td>\n",
       "      <td>47.747044</td>\n",
       "      <td>15.007496</td>\n",
       "      <td>25.489554</td>\n",
       "      <td>29.367289</td>\n",
       "      <td>144361</td>\n",
       "      <td>5177</td>\n",
       "      <td>69429</td>\n",
       "      <td>113184.0</td>\n",
       "      <td>27067.0</td>\n",
       "      <td>0</td>\n",
       "      <td>4110.0</td>\n",
       "    </tr>\n",
       "    <tr>\n",
       "      <th>6</th>\n",
       "      <td>False</td>\n",
       "      <td>2021-07-01</td>\n",
       "      <td>53.912720</td>\n",
       "      <td>12.640836</td>\n",
       "      <td>30.647130</td>\n",
       "      <td>34.431457</td>\n",
       "      <td>146483</td>\n",
       "      <td>5461</td>\n",
       "      <td>79135</td>\n",
       "      <td>111809.0</td>\n",
       "      <td>28150.0</td>\n",
       "      <td>0</td>\n",
       "      <td>6524.0</td>\n",
       "    </tr>\n",
       "    <tr>\n",
       "      <th>7</th>\n",
       "      <td>False</td>\n",
       "      <td>2021-10-01</td>\n",
       "      <td>55.131667</td>\n",
       "      <td>13.496391</td>\n",
       "      <td>19.785052</td>\n",
       "      <td>23.579996</td>\n",
       "      <td>84129</td>\n",
       "      <td>4029</td>\n",
       "      <td>37603</td>\n",
       "      <td>57016.0</td>\n",
       "      <td>23665.0</td>\n",
       "      <td>0</td>\n",
       "      <td>3448.0</td>\n",
       "    </tr>\n",
       "    <tr>\n",
       "      <th>8</th>\n",
       "      <td>False</td>\n",
       "      <td>2022-01-01</td>\n",
       "      <td>59.031042</td>\n",
       "      <td>15.330183</td>\n",
       "      <td>10.421818</td>\n",
       "      <td>12.003764</td>\n",
       "      <td>1804</td>\n",
       "      <td>0</td>\n",
       "      <td>360</td>\n",
       "      <td>803.0</td>\n",
       "      <td>913.0</td>\n",
       "      <td>0</td>\n",
       "      <td>88.0</td>\n",
       "    </tr>\n",
       "  </tbody>\n",
       "</table>\n",
       "</div>"
      ],
      "text/plain": [
       "   registered_customer   datetime   humidity  windspeed       temp      atemp  \\\n",
       "0                False 2020-01-01  47.451125  16.781930  15.112061  18.144947   \n",
       "1                False 2020-04-01  57.758936  13.948909  25.946334  29.836297   \n",
       "2                False 2020-07-01  57.065355  12.708799  30.286863  34.189860   \n",
       "3                False 2020-10-01  57.337626  12.792207  19.470226  23.241548   \n",
       "4                False 2021-01-01  52.274688  14.993162  17.996541  21.416502   \n",
       "5                False 2021-04-01  47.747044  15.007496  25.489554  29.367289   \n",
       "6                False 2021-07-01  53.912720  12.640836  30.647130  34.431457   \n",
       "7                False 2021-10-01  55.131667  13.496391  19.785052  23.579996   \n",
       "8                False 2022-01-01  59.031042  15.330183  10.421818  12.003764   \n",
       "\n",
       "   reg_customer  holiday  workingday  clear_few_clouds  w_cloudy_mist  \\\n",
       "0         22404      302       11132           15613.0         6239.0   \n",
       "1         88993     3409       43484           62560.0        22174.0   \n",
       "2        104644     5243       52310           81702.0        19031.0   \n",
       "3         55437     3196       24483           41554.0        11113.0   \n",
       "4         51360     1019       25589           38478.0        11484.0   \n",
       "5        144361     5177       69429          113184.0        27067.0   \n",
       "6        146483     5461       79135          111809.0        28150.0   \n",
       "7         84129     4029       37603           57016.0        23665.0   \n",
       "8          1804        0         360             803.0          913.0   \n",
       "\n",
       "   w_heacy_rain_thund_snow_icepal  w_light_snow_rain_thund  \n",
       "0                               0                    552.0  \n",
       "1                               0                   4259.0  \n",
       "2                               0                   3911.0  \n",
       "3                               0                   2770.0  \n",
       "4                               9                   1389.0  \n",
       "5                               0                   4110.0  \n",
       "6                               0                   6524.0  \n",
       "7                               0                   3448.0  \n",
       "8                               0                     88.0  "
      ]
     },
     "execution_count": 142,
     "metadata": {},
     "output_type": "execute_result"
    }
   ],
   "source": [
    "dfqF = df_quartal.loc[df_quartal.registered_customer == False]\n",
    "dfqF"
   ]
  },
  {
   "cell_type": "code",
   "execution_count": 179,
   "metadata": {},
   "outputs": [],
   "source": [
    "import plotly.graph_objects as os\n",
    "import plotly.express as px\n",
    "from plotly.subplots import make_subplots"
   ]
  },
  {
   "cell_type": "code",
   "execution_count": 227,
   "metadata": {},
   "outputs": [],
   "source": [
    "fig1 = make_subplots(rows= 3, cols= 1, shared_xaxes=True, vertical_spacing=0.02 ,specs= [[{\"secondary_y\": True}], [{\"secondary_y\": False}], [{\"secondary_y\": False}]])"
   ]
  },
  {
   "cell_type": "code",
   "execution_count": 229,
   "metadata": {},
   "outputs": [
    {
     "data": {
      "application/vnd.plotly.v1+json": {
       "config": {
        "plotlyServerURL": "https://plot.ly"
       },
       "data": [
        {
         "name": "Quantity of registered customers",
         "type": "scatter",
         "x": [
          "2020-01-01T00:00:00",
          "2020-04-01T00:00:00",
          "2020-07-01T00:00:00",
          "2020-10-01T00:00:00",
          "2021-01-01T00:00:00",
          "2021-04-01T00:00:00",
          "2021-07-01T00:00:00",
          "2021-10-01T00:00:00",
          "2022-01-01T00:00:00"
         ],
         "xaxis": "x",
         "y": [
          137630,
          318736,
          348539,
          323253,
          338716,
          510347,
          561233,
          501734,
          15612
         ],
         "yaxis": "y"
        },
        {
         "name": "Quantity of 'not' registered customers",
         "type": "scatter",
         "x": [
          "2020-01-01T00:00:00",
          "2020-04-01T00:00:00",
          "2020-07-01T00:00:00",
          "2020-10-01T00:00:00",
          "2021-01-01T00:00:00",
          "2021-04-01T00:00:00",
          "2021-07-01T00:00:00",
          "2021-10-01T00:00:00",
          "2022-01-01T00:00:00"
         ],
         "xaxis": "x",
         "y": [
          22404,
          88993,
          104644,
          55437,
          51360,
          144361,
          146483,
          84129,
          1804
         ],
         "yaxis": "y"
        },
        {
         "name": "Temp",
         "type": "scatter",
         "x": [
          "2020-01-01T00:00:00",
          "2020-04-01T00:00:00",
          "2020-07-01T00:00:00",
          "2020-10-01T00:00:00",
          "2021-01-01T00:00:00",
          "2021-04-01T00:00:00",
          "2021-07-01T00:00:00",
          "2021-10-01T00:00:00",
          "2022-01-01T00:00:00"
         ],
         "xaxis": "x2",
         "y": [
          12.659652448854619,
          25.493169286462333,
          29.662624193758372,
          17.802373445298265,
          16.117266532675686,
          24.904062605008644,
          29.931334772705434,
          17.852363641329116,
          10.090529398254478
         ],
         "yaxis": "y3"
        },
        {
         "name": "aTemp",
         "type": "scatter",
         "x": [
          "2020-01-01T00:00:00",
          "2020-04-01T00:00:00",
          "2020-07-01T00:00:00",
          "2020-10-01T00:00:00",
          "2021-01-01T00:00:00",
          "2021-04-01T00:00:00",
          "2021-07-01T00:00:00",
          "2021-10-01T00:00:00",
          "2022-01-01T00:00:00"
         ],
         "xaxis": "x2",
         "y": [
          15.310552882512466,
          29.358302254683874,
          33.54494365410883,
          21.359454157754364,
          19.30669528502138,
          28.7660000030548,
          33.71260734531931,
          21.333893410234133,
          11.848859669269636
         ],
         "yaxis": "y3"
        },
        {
         "name": "Humidity",
         "type": "scatter",
         "x": [
          "2020-01-01T00:00:00",
          "2020-04-01T00:00:00",
          "2020-07-01T00:00:00",
          "2020-10-01T00:00:00",
          "2021-01-01T00:00:00",
          "2021-04-01T00:00:00",
          "2021-07-01T00:00:00",
          "2021-10-01T00:00:00",
          "2022-01-01T00:00:00"
         ],
         "xaxis": "x3",
         "y": [
          52.20703100591125,
          59.74606417497897,
          59.30523430931875,
          62.729868758087086,
          54.51882966396292,
          51.71434441002707,
          56.795032188052836,
          60.048123878790776,
          60.475711988975654
         ],
         "yaxis": "y4"
        }
       ],
       "layout": {
        "height": 800,
        "template": {
         "data": {
          "bar": [
           {
            "error_x": {
             "color": "#2a3f5f"
            },
            "error_y": {
             "color": "#2a3f5f"
            },
            "marker": {
             "line": {
              "color": "#E5ECF6",
              "width": 0.5
             },
             "pattern": {
              "fillmode": "overlay",
              "size": 10,
              "solidity": 0.2
             }
            },
            "type": "bar"
           }
          ],
          "barpolar": [
           {
            "marker": {
             "line": {
              "color": "#E5ECF6",
              "width": 0.5
             },
             "pattern": {
              "fillmode": "overlay",
              "size": 10,
              "solidity": 0.2
             }
            },
            "type": "barpolar"
           }
          ],
          "carpet": [
           {
            "aaxis": {
             "endlinecolor": "#2a3f5f",
             "gridcolor": "white",
             "linecolor": "white",
             "minorgridcolor": "white",
             "startlinecolor": "#2a3f5f"
            },
            "baxis": {
             "endlinecolor": "#2a3f5f",
             "gridcolor": "white",
             "linecolor": "white",
             "minorgridcolor": "white",
             "startlinecolor": "#2a3f5f"
            },
            "type": "carpet"
           }
          ],
          "choropleth": [
           {
            "colorbar": {
             "outlinewidth": 0,
             "ticks": ""
            },
            "type": "choropleth"
           }
          ],
          "contour": [
           {
            "colorbar": {
             "outlinewidth": 0,
             "ticks": ""
            },
            "colorscale": [
             [
              0,
              "#0d0887"
             ],
             [
              0.1111111111111111,
              "#46039f"
             ],
             [
              0.2222222222222222,
              "#7201a8"
             ],
             [
              0.3333333333333333,
              "#9c179e"
             ],
             [
              0.4444444444444444,
              "#bd3786"
             ],
             [
              0.5555555555555556,
              "#d8576b"
             ],
             [
              0.6666666666666666,
              "#ed7953"
             ],
             [
              0.7777777777777778,
              "#fb9f3a"
             ],
             [
              0.8888888888888888,
              "#fdca26"
             ],
             [
              1,
              "#f0f921"
             ]
            ],
            "type": "contour"
           }
          ],
          "contourcarpet": [
           {
            "colorbar": {
             "outlinewidth": 0,
             "ticks": ""
            },
            "type": "contourcarpet"
           }
          ],
          "heatmap": [
           {
            "colorbar": {
             "outlinewidth": 0,
             "ticks": ""
            },
            "colorscale": [
             [
              0,
              "#0d0887"
             ],
             [
              0.1111111111111111,
              "#46039f"
             ],
             [
              0.2222222222222222,
              "#7201a8"
             ],
             [
              0.3333333333333333,
              "#9c179e"
             ],
             [
              0.4444444444444444,
              "#bd3786"
             ],
             [
              0.5555555555555556,
              "#d8576b"
             ],
             [
              0.6666666666666666,
              "#ed7953"
             ],
             [
              0.7777777777777778,
              "#fb9f3a"
             ],
             [
              0.8888888888888888,
              "#fdca26"
             ],
             [
              1,
              "#f0f921"
             ]
            ],
            "type": "heatmap"
           }
          ],
          "heatmapgl": [
           {
            "colorbar": {
             "outlinewidth": 0,
             "ticks": ""
            },
            "colorscale": [
             [
              0,
              "#0d0887"
             ],
             [
              0.1111111111111111,
              "#46039f"
             ],
             [
              0.2222222222222222,
              "#7201a8"
             ],
             [
              0.3333333333333333,
              "#9c179e"
             ],
             [
              0.4444444444444444,
              "#bd3786"
             ],
             [
              0.5555555555555556,
              "#d8576b"
             ],
             [
              0.6666666666666666,
              "#ed7953"
             ],
             [
              0.7777777777777778,
              "#fb9f3a"
             ],
             [
              0.8888888888888888,
              "#fdca26"
             ],
             [
              1,
              "#f0f921"
             ]
            ],
            "type": "heatmapgl"
           }
          ],
          "histogram": [
           {
            "marker": {
             "pattern": {
              "fillmode": "overlay",
              "size": 10,
              "solidity": 0.2
             }
            },
            "type": "histogram"
           }
          ],
          "histogram2d": [
           {
            "colorbar": {
             "outlinewidth": 0,
             "ticks": ""
            },
            "colorscale": [
             [
              0,
              "#0d0887"
             ],
             [
              0.1111111111111111,
              "#46039f"
             ],
             [
              0.2222222222222222,
              "#7201a8"
             ],
             [
              0.3333333333333333,
              "#9c179e"
             ],
             [
              0.4444444444444444,
              "#bd3786"
             ],
             [
              0.5555555555555556,
              "#d8576b"
             ],
             [
              0.6666666666666666,
              "#ed7953"
             ],
             [
              0.7777777777777778,
              "#fb9f3a"
             ],
             [
              0.8888888888888888,
              "#fdca26"
             ],
             [
              1,
              "#f0f921"
             ]
            ],
            "type": "histogram2d"
           }
          ],
          "histogram2dcontour": [
           {
            "colorbar": {
             "outlinewidth": 0,
             "ticks": ""
            },
            "colorscale": [
             [
              0,
              "#0d0887"
             ],
             [
              0.1111111111111111,
              "#46039f"
             ],
             [
              0.2222222222222222,
              "#7201a8"
             ],
             [
              0.3333333333333333,
              "#9c179e"
             ],
             [
              0.4444444444444444,
              "#bd3786"
             ],
             [
              0.5555555555555556,
              "#d8576b"
             ],
             [
              0.6666666666666666,
              "#ed7953"
             ],
             [
              0.7777777777777778,
              "#fb9f3a"
             ],
             [
              0.8888888888888888,
              "#fdca26"
             ],
             [
              1,
              "#f0f921"
             ]
            ],
            "type": "histogram2dcontour"
           }
          ],
          "mesh3d": [
           {
            "colorbar": {
             "outlinewidth": 0,
             "ticks": ""
            },
            "type": "mesh3d"
           }
          ],
          "parcoords": [
           {
            "line": {
             "colorbar": {
              "outlinewidth": 0,
              "ticks": ""
             }
            },
            "type": "parcoords"
           }
          ],
          "pie": [
           {
            "automargin": true,
            "type": "pie"
           }
          ],
          "scatter": [
           {
            "fillpattern": {
             "fillmode": "overlay",
             "size": 10,
             "solidity": 0.2
            },
            "type": "scatter"
           }
          ],
          "scatter3d": [
           {
            "line": {
             "colorbar": {
              "outlinewidth": 0,
              "ticks": ""
             }
            },
            "marker": {
             "colorbar": {
              "outlinewidth": 0,
              "ticks": ""
             }
            },
            "type": "scatter3d"
           }
          ],
          "scattercarpet": [
           {
            "marker": {
             "colorbar": {
              "outlinewidth": 0,
              "ticks": ""
             }
            },
            "type": "scattercarpet"
           }
          ],
          "scattergeo": [
           {
            "marker": {
             "colorbar": {
              "outlinewidth": 0,
              "ticks": ""
             }
            },
            "type": "scattergeo"
           }
          ],
          "scattergl": [
           {
            "marker": {
             "colorbar": {
              "outlinewidth": 0,
              "ticks": ""
             }
            },
            "type": "scattergl"
           }
          ],
          "scattermapbox": [
           {
            "marker": {
             "colorbar": {
              "outlinewidth": 0,
              "ticks": ""
             }
            },
            "type": "scattermapbox"
           }
          ],
          "scatterpolar": [
           {
            "marker": {
             "colorbar": {
              "outlinewidth": 0,
              "ticks": ""
             }
            },
            "type": "scatterpolar"
           }
          ],
          "scatterpolargl": [
           {
            "marker": {
             "colorbar": {
              "outlinewidth": 0,
              "ticks": ""
             }
            },
            "type": "scatterpolargl"
           }
          ],
          "scatterternary": [
           {
            "marker": {
             "colorbar": {
              "outlinewidth": 0,
              "ticks": ""
             }
            },
            "type": "scatterternary"
           }
          ],
          "surface": [
           {
            "colorbar": {
             "outlinewidth": 0,
             "ticks": ""
            },
            "colorscale": [
             [
              0,
              "#0d0887"
             ],
             [
              0.1111111111111111,
              "#46039f"
             ],
             [
              0.2222222222222222,
              "#7201a8"
             ],
             [
              0.3333333333333333,
              "#9c179e"
             ],
             [
              0.4444444444444444,
              "#bd3786"
             ],
             [
              0.5555555555555556,
              "#d8576b"
             ],
             [
              0.6666666666666666,
              "#ed7953"
             ],
             [
              0.7777777777777778,
              "#fb9f3a"
             ],
             [
              0.8888888888888888,
              "#fdca26"
             ],
             [
              1,
              "#f0f921"
             ]
            ],
            "type": "surface"
           }
          ],
          "table": [
           {
            "cells": {
             "fill": {
              "color": "#EBF0F8"
             },
             "line": {
              "color": "white"
             }
            },
            "header": {
             "fill": {
              "color": "#C8D4E3"
             },
             "line": {
              "color": "white"
             }
            },
            "type": "table"
           }
          ]
         },
         "layout": {
          "annotationdefaults": {
           "arrowcolor": "#2a3f5f",
           "arrowhead": 0,
           "arrowwidth": 1
          },
          "autotypenumbers": "strict",
          "coloraxis": {
           "colorbar": {
            "outlinewidth": 0,
            "ticks": ""
           }
          },
          "colorscale": {
           "diverging": [
            [
             0,
             "#8e0152"
            ],
            [
             0.1,
             "#c51b7d"
            ],
            [
             0.2,
             "#de77ae"
            ],
            [
             0.3,
             "#f1b6da"
            ],
            [
             0.4,
             "#fde0ef"
            ],
            [
             0.5,
             "#f7f7f7"
            ],
            [
             0.6,
             "#e6f5d0"
            ],
            [
             0.7,
             "#b8e186"
            ],
            [
             0.8,
             "#7fbc41"
            ],
            [
             0.9,
             "#4d9221"
            ],
            [
             1,
             "#276419"
            ]
           ],
           "sequential": [
            [
             0,
             "#0d0887"
            ],
            [
             0.1111111111111111,
             "#46039f"
            ],
            [
             0.2222222222222222,
             "#7201a8"
            ],
            [
             0.3333333333333333,
             "#9c179e"
            ],
            [
             0.4444444444444444,
             "#bd3786"
            ],
            [
             0.5555555555555556,
             "#d8576b"
            ],
            [
             0.6666666666666666,
             "#ed7953"
            ],
            [
             0.7777777777777778,
             "#fb9f3a"
            ],
            [
             0.8888888888888888,
             "#fdca26"
            ],
            [
             1,
             "#f0f921"
            ]
           ],
           "sequentialminus": [
            [
             0,
             "#0d0887"
            ],
            [
             0.1111111111111111,
             "#46039f"
            ],
            [
             0.2222222222222222,
             "#7201a8"
            ],
            [
             0.3333333333333333,
             "#9c179e"
            ],
            [
             0.4444444444444444,
             "#bd3786"
            ],
            [
             0.5555555555555556,
             "#d8576b"
            ],
            [
             0.6666666666666666,
             "#ed7953"
            ],
            [
             0.7777777777777778,
             "#fb9f3a"
            ],
            [
             0.8888888888888888,
             "#fdca26"
            ],
            [
             1,
             "#f0f921"
            ]
           ]
          },
          "colorway": [
           "#636efa",
           "#EF553B",
           "#00cc96",
           "#ab63fa",
           "#FFA15A",
           "#19d3f3",
           "#FF6692",
           "#B6E880",
           "#FF97FF",
           "#FECB52"
          ],
          "font": {
           "color": "#2a3f5f"
          },
          "geo": {
           "bgcolor": "white",
           "lakecolor": "white",
           "landcolor": "#E5ECF6",
           "showlakes": true,
           "showland": true,
           "subunitcolor": "white"
          },
          "hoverlabel": {
           "align": "left"
          },
          "hovermode": "closest",
          "mapbox": {
           "style": "light"
          },
          "paper_bgcolor": "white",
          "plot_bgcolor": "#E5ECF6",
          "polar": {
           "angularaxis": {
            "gridcolor": "white",
            "linecolor": "white",
            "ticks": ""
           },
           "bgcolor": "#E5ECF6",
           "radialaxis": {
            "gridcolor": "white",
            "linecolor": "white",
            "ticks": ""
           }
          },
          "scene": {
           "xaxis": {
            "backgroundcolor": "#E5ECF6",
            "gridcolor": "white",
            "gridwidth": 2,
            "linecolor": "white",
            "showbackground": true,
            "ticks": "",
            "zerolinecolor": "white"
           },
           "yaxis": {
            "backgroundcolor": "#E5ECF6",
            "gridcolor": "white",
            "gridwidth": 2,
            "linecolor": "white",
            "showbackground": true,
            "ticks": "",
            "zerolinecolor": "white"
           },
           "zaxis": {
            "backgroundcolor": "#E5ECF6",
            "gridcolor": "white",
            "gridwidth": 2,
            "linecolor": "white",
            "showbackground": true,
            "ticks": "",
            "zerolinecolor": "white"
           }
          },
          "shapedefaults": {
           "line": {
            "color": "#2a3f5f"
           }
          },
          "ternary": {
           "aaxis": {
            "gridcolor": "white",
            "linecolor": "white",
            "ticks": ""
           },
           "baxis": {
            "gridcolor": "white",
            "linecolor": "white",
            "ticks": ""
           },
           "bgcolor": "#E5ECF6",
           "caxis": {
            "gridcolor": "white",
            "linecolor": "white",
            "ticks": ""
           }
          },
          "title": {
           "x": 0.05
          },
          "xaxis": {
           "automargin": true,
           "gridcolor": "white",
           "linecolor": "white",
           "ticks": "",
           "title": {
            "standoff": 15
           },
           "zerolinecolor": "white",
           "zerolinewidth": 2
          },
          "yaxis": {
           "automargin": true,
           "gridcolor": "white",
           "linecolor": "white",
           "ticks": "",
           "title": {
            "standoff": 15
           },
           "zerolinecolor": "white",
           "zerolinewidth": 2
          }
         }
        },
        "width": 1000,
        "xaxis": {
         "anchor": "y",
         "domain": [
          0,
          0.94
         ],
         "matches": "x3",
         "showticklabels": false
        },
        "xaxis2": {
         "anchor": "y3",
         "domain": [
          0,
          0.94
         ],
         "matches": "x3",
         "showticklabels": false
        },
        "xaxis3": {
         "anchor": "y4",
         "domain": [
          0,
          0.94
         ]
        },
        "yaxis": {
         "anchor": "x",
         "domain": [
          0.68,
          1
         ]
        },
        "yaxis2": {
         "anchor": "x",
         "overlaying": "y",
         "side": "right"
        },
        "yaxis3": {
         "anchor": "x2",
         "domain": [
          0.34,
          0.66
         ]
        },
        "yaxis4": {
         "anchor": "x3",
         "domain": [
          0,
          0.32
         ]
        }
       }
      }
     },
     "metadata": {},
     "output_type": "display_data"
    }
   ],
   "source": [
    "fig1.add_trace(\n",
    " os.Scatter(x= dfqT.datetime, y= dfqT.reg_customer, name= \"Quantity of registered customers\"),\n",
    " secondary_y= False\n",
    ")\n",
    "fig1.add_trace(\n",
    " os.Scatter(x= dfqF.datetime, y= dfqF.reg_customer, name= \"Quantity of 'not' registered customers\"),\n",
    " secondary_y= False\n",
    ")\n",
    "fig1.append_trace(\n",
    " os.Scatter(x= df_temp.datetime, y= df_temp.temp, name= \"Temp\"),\n",
    " row= 2, col= 1\n",
    ")\n",
    "fig1.append_trace(\n",
    " os.Scatter(x= df_temp.datetime, y= df_temp.atemp, name= \"aTemp\"),\n",
    " row= 2, col= 1\n",
    ")\n",
    "fig1.append_trace(\n",
    " os.Scatter(x= df_humidity.datetime, y= df_humidity.humidity, name= \"Humidity\"),\n",
    " row= 3, col= 1\n",
    ")\n",
    "fig1.update_layout(height=800, width=1000)\n",
    "fig1.show()"
   ]
  },
  {
   "cell_type": "markdown",
   "metadata": {},
   "source": [
    "### auf Weather, Working- or Holiday gruppieren !\n",
    " "
   ]
  }
 ],
 "metadata": {
  "kernelspec": {
   "display_name": "Python 3.9.7 64-bit",
   "language": "python",
   "name": "python3"
  },
  "language_info": {
   "codemirror_mode": {
    "name": "ipython",
    "version": 3
   },
   "file_extension": ".py",
   "mimetype": "text/x-python",
   "name": "python",
   "nbconvert_exporter": "python",
   "pygments_lexer": "ipython3",
   "version": "3.9.7"
  },
  "orig_nbformat": 4,
  "vscode": {
   "interpreter": {
    "hash": "aee8b7b246df8f9039afb4144a1f6fd8d2ca17a180786b69acc140d282b71a49"
   }
  }
 },
 "nbformat": 4,
 "nbformat_minor": 2
}
