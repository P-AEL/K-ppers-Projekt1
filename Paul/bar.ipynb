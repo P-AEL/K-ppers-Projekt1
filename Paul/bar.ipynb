{
 "cells": [
  {
   "cell_type": "code",
   "execution_count": 2,
   "metadata": {},
   "outputs": [],
   "source": [
    "import pandas as pd\n",
    "import plotly.express as px\n",
    "import plotly.graph_objects as go\n",
    "from plotly.subplots import make_subplots"
   ]
  },
  {
   "cell_type": "code",
   "execution_count": 3,
   "metadata": {},
   "outputs": [],
   "source": [
    "df = pd.read_parquet(\"escooter_history_2022.parquet\")\n",
    "#dividing outliers by 100\n",
    "df.loc[df.temp >45, \"temp\"] = df.temp.div(100)"
   ]
  },
  {
   "cell_type": "code",
   "execution_count": 4,
   "metadata": {},
   "outputs": [],
   "source": [
    "# getting specifi values\n",
    "df_33 = df.groupby(pd.Grouper(key=\"datetime\",freq=\"D\")).agg({\"holiday\":\"mean\",\"workingday\":\"mean\"}).reset_index()\n",
    "df_round = df_33.loc[(~df_33.workingday.isin([1,0]) | ~df_33.holiday.isin([0,1]))].round().reset_index(drop=True)\n",
    "\n",
    "# comparing and alligning for every 1 or 0 value of holiday and workingday\n",
    "df_holiday_1 = df_round.loc[df_round.holiday == 1]\n",
    "df_holiday_1 = df_holiday_1.datetime.dt.date.to_list()\n",
    "df.loc[df.datetime.dt.date.isin(df_holiday_1),\"holiday\"] = 1\n",
    "df_holiday_0 = df_round.loc[df_round.holiday == 0]\n",
    "df_holiday_0 = df_holiday_0.datetime.dt.date.to_list()\n",
    "df.loc[df.datetime.dt.date.isin(df_holiday_0),\"holiday\"] = 0\n",
    "df_workingday_1 = df_round.loc[df_round.workingday == 1]\n",
    "df_workingday_1 = df_workingday_1.datetime.dt.date.to_list()\n",
    "df.loc[df.datetime.dt.date.isin(df_workingday_1),\"workingday\"] = 1\n",
    "df_workingday_0 = df_round.loc[df_round.workingday == 0]\n",
    "df_workingday_0 = df_workingday_0.datetime.dt.date.to_list()\n",
    "df.loc[df.datetime.dt.date.isin(df_workingday_0),\"workingday\"] = 0"
   ]
  },
  {
   "cell_type": "code",
   "execution_count": 5,
   "metadata": {},
   "outputs": [],
   "source": [
    "# only taking values between 0.1% and 99.9% \n",
    "df = df.loc[df.humidity.between(df.humidity.quantile(0.001), df.humidity.quantile(0.999))]"
   ]
  },
  {
   "cell_type": "code",
   "execution_count": 6,
   "metadata": {},
   "outputs": [],
   "source": [
    "df1 = df.copy()"
   ]
  },
  {
   "cell_type": "code",
   "execution_count": 7,
   "metadata": {},
   "outputs": [],
   "source": [
    "df_bar_cust_type= df1.groupby([\"registered_customer\", pd.Grouper(key= \"datetime\", freq= \"Y\")]).agg(total_customers = (\"registered_customer\", \"count\")).reset_index()"
   ]
  },
  {
   "cell_type": "code",
   "execution_count": 8,
   "metadata": {},
   "outputs": [],
   "source": [
    "df_bar_2020= df_bar_cust_type.loc[df_bar_cust_type.datetime.dt.year.isin([2020])].reset_index(drop=True)\n",
    "df_bar_2021= df_bar_cust_type.loc[df_bar_cust_type.datetime.dt.year.isin([2021])].reset_index(drop= True)"
   ]
  },
  {
   "cell_type": "code",
   "execution_count": 56,
   "metadata": {},
   "outputs": [
    {
     "data": {
      "application/vnd.plotly.v1+json": {
       "config": {
        "plotlyServerURL": "https://plot.ly"
       },
       "data": [
        {
         "legendgroup": "1",
         "legendgrouptitle": {
          "text": "Unregistered:"
         },
         "marker": {
          "color": "rgb(193, 118, 111)"
         },
         "name": "Unregistered 2020",
         "type": "bar",
         "x": [
          false
         ],
         "xaxis": "x",
         "y": [
          271262
         ],
         "yaxis": "y"
        },
        {
         "legendgroup": "2",
         "legendgrouptitle": {
          "text": "Registered:"
         },
         "marker": {
          "color": "rgb(129, 55, 83)"
         },
         "name": "Registered 2020",
         "type": "bar",
         "x": [
          true
         ],
         "xaxis": "x",
         "y": [
          1127191
         ],
         "yaxis": "y"
        },
        {
         "legendgroup": "1",
         "marker": {
          "color": "rgb(193, 118, 111)"
         },
         "name": "Unregistered 2021",
         "type": "bar",
         "x": [
          false
         ],
         "xaxis": "x2",
         "y": [
          426333
         ],
         "yaxis": "y2"
        },
        {
         "legendgroup": "2",
         "marker": {
          "color": "rgb(129, 55, 83)"
         },
         "name": "Registered 2021",
         "type": "bar",
         "x": [
          true
         ],
         "xaxis": "x2",
         "y": [
          1912030
         ],
         "yaxis": "y2"
        }
       ],
       "layout": {
        "annotations": [
         {
          "arrowcolor": "rgb(193, 118, 111)",
          "arrowhead": 1,
          "font": {
           "color": "rgb(193, 118, 111)",
           "size": 12
          },
          "showarrow": true,
          "text": "271262 Customers",
          "x": "false",
          "xref": "x",
          "y": 271262,
          "yref": "y"
         },
         {
          "arrowcolor": "rgb(129, 55, 83)",
          "arrowhead": 1,
          "font": {
           "color": "rgb(129, 55, 83)",
           "size": 12
          },
          "showarrow": true,
          "text": "1127191 Customers",
          "x": "true",
          "xref": "x",
          "y": 1127191,
          "yref": "y"
         },
         {
          "arrowcolor": "rgb(193, 118, 111)",
          "arrowhead": 1,
          "font": {
           "color": "rgb(193, 118, 111)",
           "size": 12
          },
          "showarrow": true,
          "text": "426333 Customers",
          "x": "false",
          "xref": "x2",
          "y": 426333,
          "yref": "y2"
         },
         {
          "arrowcolor": "rgb(129, 55, 83)",
          "arrowhead": 1,
          "font": {
           "color": "rgb(129, 55, 83)",
           "size": 12
          },
          "showarrow": true,
          "text": "1912030 Customers",
          "x": "true",
          "xref": "x2",
          "y": 1912030,
          "yref": "y2"
         }
        ],
        "legend": {
         "groupclick": "toggleitem",
         "title": {
          "text": "<b>Registered Customers</b>"
         }
        },
        "template": {
         "data": {
          "bar": [
           {
            "error_x": {
             "color": "#2a3f5f"
            },
            "error_y": {
             "color": "#2a3f5f"
            },
            "marker": {
             "line": {
              "color": "#E5ECF6",
              "width": 0.5
             },
             "pattern": {
              "fillmode": "overlay",
              "size": 10,
              "solidity": 0.2
             }
            },
            "type": "bar"
           }
          ],
          "barpolar": [
           {
            "marker": {
             "line": {
              "color": "#E5ECF6",
              "width": 0.5
             },
             "pattern": {
              "fillmode": "overlay",
              "size": 10,
              "solidity": 0.2
             }
            },
            "type": "barpolar"
           }
          ],
          "carpet": [
           {
            "aaxis": {
             "endlinecolor": "#2a3f5f",
             "gridcolor": "white",
             "linecolor": "white",
             "minorgridcolor": "white",
             "startlinecolor": "#2a3f5f"
            },
            "baxis": {
             "endlinecolor": "#2a3f5f",
             "gridcolor": "white",
             "linecolor": "white",
             "minorgridcolor": "white",
             "startlinecolor": "#2a3f5f"
            },
            "type": "carpet"
           }
          ],
          "choropleth": [
           {
            "colorbar": {
             "outlinewidth": 0,
             "ticks": ""
            },
            "type": "choropleth"
           }
          ],
          "contour": [
           {
            "colorbar": {
             "outlinewidth": 0,
             "ticks": ""
            },
            "colorscale": [
             [
              0,
              "#0d0887"
             ],
             [
              0.1111111111111111,
              "#46039f"
             ],
             [
              0.2222222222222222,
              "#7201a8"
             ],
             [
              0.3333333333333333,
              "#9c179e"
             ],
             [
              0.4444444444444444,
              "#bd3786"
             ],
             [
              0.5555555555555556,
              "#d8576b"
             ],
             [
              0.6666666666666666,
              "#ed7953"
             ],
             [
              0.7777777777777778,
              "#fb9f3a"
             ],
             [
              0.8888888888888888,
              "#fdca26"
             ],
             [
              1,
              "#f0f921"
             ]
            ],
            "type": "contour"
           }
          ],
          "contourcarpet": [
           {
            "colorbar": {
             "outlinewidth": 0,
             "ticks": ""
            },
            "type": "contourcarpet"
           }
          ],
          "heatmap": [
           {
            "colorbar": {
             "outlinewidth": 0,
             "ticks": ""
            },
            "colorscale": [
             [
              0,
              "#0d0887"
             ],
             [
              0.1111111111111111,
              "#46039f"
             ],
             [
              0.2222222222222222,
              "#7201a8"
             ],
             [
              0.3333333333333333,
              "#9c179e"
             ],
             [
              0.4444444444444444,
              "#bd3786"
             ],
             [
              0.5555555555555556,
              "#d8576b"
             ],
             [
              0.6666666666666666,
              "#ed7953"
             ],
             [
              0.7777777777777778,
              "#fb9f3a"
             ],
             [
              0.8888888888888888,
              "#fdca26"
             ],
             [
              1,
              "#f0f921"
             ]
            ],
            "type": "heatmap"
           }
          ],
          "heatmapgl": [
           {
            "colorbar": {
             "outlinewidth": 0,
             "ticks": ""
            },
            "colorscale": [
             [
              0,
              "#0d0887"
             ],
             [
              0.1111111111111111,
              "#46039f"
             ],
             [
              0.2222222222222222,
              "#7201a8"
             ],
             [
              0.3333333333333333,
              "#9c179e"
             ],
             [
              0.4444444444444444,
              "#bd3786"
             ],
             [
              0.5555555555555556,
              "#d8576b"
             ],
             [
              0.6666666666666666,
              "#ed7953"
             ],
             [
              0.7777777777777778,
              "#fb9f3a"
             ],
             [
              0.8888888888888888,
              "#fdca26"
             ],
             [
              1,
              "#f0f921"
             ]
            ],
            "type": "heatmapgl"
           }
          ],
          "histogram": [
           {
            "marker": {
             "pattern": {
              "fillmode": "overlay",
              "size": 10,
              "solidity": 0.2
             }
            },
            "type": "histogram"
           }
          ],
          "histogram2d": [
           {
            "colorbar": {
             "outlinewidth": 0,
             "ticks": ""
            },
            "colorscale": [
             [
              0,
              "#0d0887"
             ],
             [
              0.1111111111111111,
              "#46039f"
             ],
             [
              0.2222222222222222,
              "#7201a8"
             ],
             [
              0.3333333333333333,
              "#9c179e"
             ],
             [
              0.4444444444444444,
              "#bd3786"
             ],
             [
              0.5555555555555556,
              "#d8576b"
             ],
             [
              0.6666666666666666,
              "#ed7953"
             ],
             [
              0.7777777777777778,
              "#fb9f3a"
             ],
             [
              0.8888888888888888,
              "#fdca26"
             ],
             [
              1,
              "#f0f921"
             ]
            ],
            "type": "histogram2d"
           }
          ],
          "histogram2dcontour": [
           {
            "colorbar": {
             "outlinewidth": 0,
             "ticks": ""
            },
            "colorscale": [
             [
              0,
              "#0d0887"
             ],
             [
              0.1111111111111111,
              "#46039f"
             ],
             [
              0.2222222222222222,
              "#7201a8"
             ],
             [
              0.3333333333333333,
              "#9c179e"
             ],
             [
              0.4444444444444444,
              "#bd3786"
             ],
             [
              0.5555555555555556,
              "#d8576b"
             ],
             [
              0.6666666666666666,
              "#ed7953"
             ],
             [
              0.7777777777777778,
              "#fb9f3a"
             ],
             [
              0.8888888888888888,
              "#fdca26"
             ],
             [
              1,
              "#f0f921"
             ]
            ],
            "type": "histogram2dcontour"
           }
          ],
          "mesh3d": [
           {
            "colorbar": {
             "outlinewidth": 0,
             "ticks": ""
            },
            "type": "mesh3d"
           }
          ],
          "parcoords": [
           {
            "line": {
             "colorbar": {
              "outlinewidth": 0,
              "ticks": ""
             }
            },
            "type": "parcoords"
           }
          ],
          "pie": [
           {
            "automargin": true,
            "type": "pie"
           }
          ],
          "scatter": [
           {
            "fillpattern": {
             "fillmode": "overlay",
             "size": 10,
             "solidity": 0.2
            },
            "type": "scatter"
           }
          ],
          "scatter3d": [
           {
            "line": {
             "colorbar": {
              "outlinewidth": 0,
              "ticks": ""
             }
            },
            "marker": {
             "colorbar": {
              "outlinewidth": 0,
              "ticks": ""
             }
            },
            "type": "scatter3d"
           }
          ],
          "scattercarpet": [
           {
            "marker": {
             "colorbar": {
              "outlinewidth": 0,
              "ticks": ""
             }
            },
            "type": "scattercarpet"
           }
          ],
          "scattergeo": [
           {
            "marker": {
             "colorbar": {
              "outlinewidth": 0,
              "ticks": ""
             }
            },
            "type": "scattergeo"
           }
          ],
          "scattergl": [
           {
            "marker": {
             "colorbar": {
              "outlinewidth": 0,
              "ticks": ""
             }
            },
            "type": "scattergl"
           }
          ],
          "scattermapbox": [
           {
            "marker": {
             "colorbar": {
              "outlinewidth": 0,
              "ticks": ""
             }
            },
            "type": "scattermapbox"
           }
          ],
          "scatterpolar": [
           {
            "marker": {
             "colorbar": {
              "outlinewidth": 0,
              "ticks": ""
             }
            },
            "type": "scatterpolar"
           }
          ],
          "scatterpolargl": [
           {
            "marker": {
             "colorbar": {
              "outlinewidth": 0,
              "ticks": ""
             }
            },
            "type": "scatterpolargl"
           }
          ],
          "scatterternary": [
           {
            "marker": {
             "colorbar": {
              "outlinewidth": 0,
              "ticks": ""
             }
            },
            "type": "scatterternary"
           }
          ],
          "surface": [
           {
            "colorbar": {
             "outlinewidth": 0,
             "ticks": ""
            },
            "colorscale": [
             [
              0,
              "#0d0887"
             ],
             [
              0.1111111111111111,
              "#46039f"
             ],
             [
              0.2222222222222222,
              "#7201a8"
             ],
             [
              0.3333333333333333,
              "#9c179e"
             ],
             [
              0.4444444444444444,
              "#bd3786"
             ],
             [
              0.5555555555555556,
              "#d8576b"
             ],
             [
              0.6666666666666666,
              "#ed7953"
             ],
             [
              0.7777777777777778,
              "#fb9f3a"
             ],
             [
              0.8888888888888888,
              "#fdca26"
             ],
             [
              1,
              "#f0f921"
             ]
            ],
            "type": "surface"
           }
          ],
          "table": [
           {
            "cells": {
             "fill": {
              "color": "#EBF0F8"
             },
             "line": {
              "color": "white"
             }
            },
            "header": {
             "fill": {
              "color": "#C8D4E3"
             },
             "line": {
              "color": "white"
             }
            },
            "type": "table"
           }
          ]
         },
         "layout": {
          "annotationdefaults": {
           "arrowcolor": "#2a3f5f",
           "arrowhead": 0,
           "arrowwidth": 1
          },
          "autotypenumbers": "strict",
          "coloraxis": {
           "colorbar": {
            "outlinewidth": 0,
            "ticks": ""
           }
          },
          "colorscale": {
           "diverging": [
            [
             0,
             "#8e0152"
            ],
            [
             0.1,
             "#c51b7d"
            ],
            [
             0.2,
             "#de77ae"
            ],
            [
             0.3,
             "#f1b6da"
            ],
            [
             0.4,
             "#fde0ef"
            ],
            [
             0.5,
             "#f7f7f7"
            ],
            [
             0.6,
             "#e6f5d0"
            ],
            [
             0.7,
             "#b8e186"
            ],
            [
             0.8,
             "#7fbc41"
            ],
            [
             0.9,
             "#4d9221"
            ],
            [
             1,
             "#276419"
            ]
           ],
           "sequential": [
            [
             0,
             "#0d0887"
            ],
            [
             0.1111111111111111,
             "#46039f"
            ],
            [
             0.2222222222222222,
             "#7201a8"
            ],
            [
             0.3333333333333333,
             "#9c179e"
            ],
            [
             0.4444444444444444,
             "#bd3786"
            ],
            [
             0.5555555555555556,
             "#d8576b"
            ],
            [
             0.6666666666666666,
             "#ed7953"
            ],
            [
             0.7777777777777778,
             "#fb9f3a"
            ],
            [
             0.8888888888888888,
             "#fdca26"
            ],
            [
             1,
             "#f0f921"
            ]
           ],
           "sequentialminus": [
            [
             0,
             "#0d0887"
            ],
            [
             0.1111111111111111,
             "#46039f"
            ],
            [
             0.2222222222222222,
             "#7201a8"
            ],
            [
             0.3333333333333333,
             "#9c179e"
            ],
            [
             0.4444444444444444,
             "#bd3786"
            ],
            [
             0.5555555555555556,
             "#d8576b"
            ],
            [
             0.6666666666666666,
             "#ed7953"
            ],
            [
             0.7777777777777778,
             "#fb9f3a"
            ],
            [
             0.8888888888888888,
             "#fdca26"
            ],
            [
             1,
             "#f0f921"
            ]
           ]
          },
          "colorway": [
           "#636efa",
           "#EF553B",
           "#00cc96",
           "#ab63fa",
           "#FFA15A",
           "#19d3f3",
           "#FF6692",
           "#B6E880",
           "#FF97FF",
           "#FECB52"
          ],
          "font": {
           "color": "#2a3f5f"
          },
          "geo": {
           "bgcolor": "white",
           "lakecolor": "white",
           "landcolor": "#E5ECF6",
           "showlakes": true,
           "showland": true,
           "subunitcolor": "white"
          },
          "hoverlabel": {
           "align": "left"
          },
          "hovermode": "closest",
          "mapbox": {
           "style": "light"
          },
          "paper_bgcolor": "white",
          "plot_bgcolor": "#E5ECF6",
          "polar": {
           "angularaxis": {
            "gridcolor": "white",
            "linecolor": "white",
            "ticks": ""
           },
           "bgcolor": "#E5ECF6",
           "radialaxis": {
            "gridcolor": "white",
            "linecolor": "white",
            "ticks": ""
           }
          },
          "scene": {
           "xaxis": {
            "backgroundcolor": "#E5ECF6",
            "gridcolor": "white",
            "gridwidth": 2,
            "linecolor": "white",
            "showbackground": true,
            "ticks": "",
            "zerolinecolor": "white"
           },
           "yaxis": {
            "backgroundcolor": "#E5ECF6",
            "gridcolor": "white",
            "gridwidth": 2,
            "linecolor": "white",
            "showbackground": true,
            "ticks": "",
            "zerolinecolor": "white"
           },
           "zaxis": {
            "backgroundcolor": "#E5ECF6",
            "gridcolor": "white",
            "gridwidth": 2,
            "linecolor": "white",
            "showbackground": true,
            "ticks": "",
            "zerolinecolor": "white"
           }
          },
          "shapedefaults": {
           "line": {
            "color": "#2a3f5f"
           }
          },
          "ternary": {
           "aaxis": {
            "gridcolor": "white",
            "linecolor": "white",
            "ticks": ""
           },
           "baxis": {
            "gridcolor": "white",
            "linecolor": "white",
            "ticks": ""
           },
           "bgcolor": "#E5ECF6",
           "caxis": {
            "gridcolor": "white",
            "linecolor": "white",
            "ticks": ""
           }
          },
          "title": {
           "x": 0.05
          },
          "xaxis": {
           "automargin": true,
           "gridcolor": "white",
           "linecolor": "white",
           "ticks": "",
           "title": {
            "standoff": 15
           },
           "zerolinecolor": "white",
           "zerolinewidth": 2
          },
          "yaxis": {
           "automargin": true,
           "gridcolor": "white",
           "linecolor": "white",
           "ticks": "",
           "title": {
            "standoff": 15
           },
           "zerolinecolor": "white",
           "zerolinewidth": 2
          }
         }
        },
        "title": {
         "font": {
          "size": 20
         },
         "text": "<b>Total Customer Comparison 2020/2021</b>",
         "x": 0.43,
         "xanchor": "center",
         "y": 0.9,
         "yanchor": "top"
        },
        "xaxis": {
         "anchor": "y",
         "domain": [
          0,
          0.495
         ],
         "title": {
          "text": "<b>2020</b>"
         }
        },
        "xaxis2": {
         "anchor": "y2",
         "domain": [
          0.505,
          1
         ],
         "title": {
          "text": "<b>2021</b>"
         }
        },
        "yaxis": {
         "anchor": "x",
         "domain": [
          0,
          1
         ],
         "title": {
          "text": "<b>Total Customers</b>"
         }
        },
        "yaxis2": {
         "anchor": "x2",
         "domain": [
          0,
          1
         ],
         "matches": "y",
         "showticklabels": false
        }
       }
      }
     },
     "metadata": {},
     "output_type": "display_data"
    }
   ],
   "source": [
    "fig_bar = make_subplots(rows= 1, cols= 2, shared_xaxes= True, shared_yaxes= True, horizontal_spacing= 0.01)\n",
    "\n",
    "fig_bar.add_trace(\n",
    " go.Bar(\n",
    "  x= df_bar_2020.loc[df_bar_2020.registered_customer == False].registered_customer,\n",
    "  y= df_bar_2020.loc[df_bar_2020.registered_customer == False].total_customers,\n",
    "  marker= dict(color= px.colors.sequential.Brwnyl[3]),\n",
    "  name= \"Unregistered 2020\",\n",
    "  legendgroup= \"1\",\n",
    "  legendgrouptitle_text= \"Unregistered:\"\n",
    " ),\n",
    " row= 1,\n",
    " col= 1\n",
    ")\n",
    "\n",
    "fig_bar.add_trace(\n",
    " go.Bar(\n",
    "  x= df_bar_2020.loc[df_bar_2020.registered_customer == True].registered_customer,\n",
    "  y= df_bar_2020.loc[df_bar_2020.registered_customer == True].total_customers,\n",
    "  marker= dict(color= px.colors.sequential.Brwnyl[5]),\n",
    "  name= \"Registered 2020\",\n",
    "  legendgroup= \"2\",\n",
    "  legendgrouptitle_text= \"Registered:\"\n",
    " ),\n",
    " row= 1,\n",
    " col= 1\n",
    ")\n",
    "\n",
    "fig_bar.add_trace(\n",
    " go.Bar(\n",
    "  x= df_bar_2021.loc[df_bar_2021.registered_customer == False].registered_customer,\n",
    "  y= df_bar_2021.loc[df_bar_2021.registered_customer == False].total_customers,\n",
    "  marker= dict(color= px.colors.sequential.Brwnyl[3]),\n",
    "  name= \"Unregistered 2021\",\n",
    "  legendgroup= \"1\"\n",
    " ),\n",
    " row= 1,\n",
    " col= 2\n",
    ")\n",
    "\n",
    "fig_bar.add_trace(\n",
    " go.Bar(\n",
    "  x= df_bar_2021.loc[df_bar_2021.registered_customer == True].registered_customer,\n",
    "  y= df_bar_2021.loc[df_bar_2021.registered_customer == True].total_customers,\n",
    "  marker= dict(color= px.colors.sequential.Brwnyl[5]),\n",
    "  name= \"Registered 2021\",\n",
    "  legendgroup= \"2\"\n",
    " ),\n",
    " row= 1,\n",
    " col= 2\n",
    ")\n",
    "\n",
    "fig_bar.add_annotation(\n",
    " x= \"false\",\n",
    " y= df_bar_2020[df_bar_2020.registered_customer == False].total_customers.max(),\n",
    " arrowhead= 1,\n",
    " showarrow= True,\n",
    " arrowcolor= px.colors.sequential.Brwnyl[3],\n",
    " font= dict(size= 12, color= px.colors.sequential.Brwnyl[3]),\n",
    " text= f\"{df_bar_2020[df_bar_2020.registered_customer == False].total_customers[0]} Customers\",\n",
    " row= 1, col=1\n",
    ")\n",
    "\n",
    "fig_bar.add_annotation(\n",
    " x= \"true\",\n",
    " y= df_bar_2020[df_bar_2020.registered_customer == True].total_customers.max(),\n",
    " arrowhead= 1,\n",
    " showarrow= True,\n",
    " arrowcolor= px.colors.sequential.Brwnyl[5],\n",
    " font= dict(size= 12, color= px.colors.sequential.Brwnyl[5]),\n",
    " text= f\"{df_bar_2020[df_bar_2020.registered_customer == True].total_customers[1]} Customers\",\n",
    " row=1, col=1\n",
    ")\n",
    "\n",
    "fig_bar.add_annotation(\n",
    " x= \"false\",\n",
    " y= df_bar_2021[df_bar_2021.registered_customer == False].total_customers.max(),\n",
    " arrowhead= 1,\n",
    " showarrow= True,\n",
    " arrowcolor= px.colors.sequential.Brwnyl[3],\n",
    " font= dict(size= 12, color= px.colors.sequential.Brwnyl[3]),\n",
    " text= f\"{df_bar_2021[df_bar_2021.registered_customer == False].total_customers[0]} Customers\",\n",
    " col= 2, row=1\n",
    ")\n",
    "\n",
    "fig_bar.add_annotation(\n",
    " x= \"true\",\n",
    " y= df_bar_2021[df_bar_2021.registered_customer == True].total_customers.max(),\n",
    " arrowhead= 1,\n",
    " showarrow= True,\n",
    " arrowcolor= px.colors.sequential.Brwnyl[5],\n",
    " font= dict(size= 12, color= px.colors.sequential.Brwnyl[5]),\n",
    " text= f\"{df_bar_2021[df_bar_2021.registered_customer == True].total_customers[1]} Customers\",\n",
    " col=2,row= 1\n",
    ")\n",
    "\n",
    "fig_bar.update_layout(legend=dict(groupclick=\"toggleitem\"),title= dict(text= \"<b>Total Customer Comparison 2020/2021</b>\", font_size= 20, xanchor= \"center\", yanchor= \"top\", y=0.9, x=0.43), legend_title_text = \"<b>Registered Customers</b>\" )\n",
    "fig_bar.update_yaxes(title_text=\"<b>Total Customers</b>\", secondary_y=False, col=1)\n",
    "fig_bar.update_xaxes(title_text=\"<b>2020</b>\", col= 1)\n",
    "fig_bar.update_xaxes(title_text=\"<b>2021</b>\", col= 2)\n",
    "fig_bar.show()"
   ]
  }
 ],
 "metadata": {
  "kernelspec": {
   "display_name": "Python 3.9.7 64-bit",
   "language": "python",
   "name": "python3"
  },
  "language_info": {
   "codemirror_mode": {
    "name": "ipython",
    "version": 3
   },
   "file_extension": ".py",
   "mimetype": "text/x-python",
   "name": "python",
   "nbconvert_exporter": "python",
   "pygments_lexer": "ipython3",
   "version": "3.9.7"
  },
  "orig_nbformat": 4,
  "vscode": {
   "interpreter": {
    "hash": "aee8b7b246df8f9039afb4144a1f6fd8d2ca17a180786b69acc140d282b71a49"
   }
  }
 },
 "nbformat": 4,
 "nbformat_minor": 2
}
