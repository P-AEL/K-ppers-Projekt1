{
 "cells": [
  {
   "cell_type": "code",
   "execution_count": 1,
   "metadata": {},
   "outputs": [],
   "source": [
    "import pandas as pd\n",
    "import plotly.express as px\n",
    "import numpy as np\n",
    "import missingno as msn\n",
    "import datetime\n",
    "from pandas_profiling import ProfileReport\n",
    "import sklearn\n",
    "pd.options.mode.chained_assignment = None  # default='warn'\n"
   ]
  },
  {
   "cell_type": "code",
   "execution_count": 2,
   "metadata": {},
   "outputs": [],
   "source": [
    "df = pd.read_parquet(\"escooter_history_2022.parquet\")"
   ]
  },
  {
   "cell_type": "code",
   "execution_count": 3,
   "metadata": {},
   "outputs": [],
   "source": [
    "df_3 = df.groupby(pd.Grouper(key=\"datetime\",freq=\"D\")).agg({\"registered_customer\": (\"count\",\"sum\"),\"holiday\":\"mean\",\"workingday\":\"mean\"}).reset_index()"
   ]
  },
  {
   "cell_type": "code",
   "execution_count": 4,
   "metadata": {},
   "outputs": [
    {
     "data": {
      "text/html": [
       "<div>\n",
       "<style scoped>\n",
       "    .dataframe tbody tr th:only-of-type {\n",
       "        vertical-align: middle;\n",
       "    }\n",
       "\n",
       "    .dataframe tbody tr th {\n",
       "        vertical-align: top;\n",
       "    }\n",
       "\n",
       "    .dataframe thead tr th {\n",
       "        text-align: left;\n",
       "    }\n",
       "</style>\n",
       "<table border=\"1\" class=\"dataframe\">\n",
       "  <thead>\n",
       "    <tr>\n",
       "      <th></th>\n",
       "      <th>datetime</th>\n",
       "      <th colspan=\"2\" halign=\"left\">registered_customer</th>\n",
       "      <th>holiday</th>\n",
       "      <th>workingday</th>\n",
       "    </tr>\n",
       "    <tr>\n",
       "      <th></th>\n",
       "      <th></th>\n",
       "      <th>count</th>\n",
       "      <th>sum</th>\n",
       "      <th>mean</th>\n",
       "      <th>mean</th>\n",
       "    </tr>\n",
       "  </thead>\n",
       "  <tbody>\n",
       "    <tr>\n",
       "      <th>0</th>\n",
       "      <td>2020-01-04</td>\n",
       "      <td>985</td>\n",
       "      <td>654</td>\n",
       "      <td>0.0</td>\n",
       "      <td>0.00000</td>\n",
       "    </tr>\n",
       "    <tr>\n",
       "      <th>1</th>\n",
       "      <td>2020-01-05</td>\n",
       "      <td>801</td>\n",
       "      <td>670</td>\n",
       "      <td>0.0</td>\n",
       "      <td>0.00000</td>\n",
       "    </tr>\n",
       "    <tr>\n",
       "      <th>2</th>\n",
       "      <td>2020-01-06</td>\n",
       "      <td>1349</td>\n",
       "      <td>1229</td>\n",
       "      <td>0.0</td>\n",
       "      <td>1.00000</td>\n",
       "    </tr>\n",
       "    <tr>\n",
       "      <th>3</th>\n",
       "      <td>2020-01-07</td>\n",
       "      <td>1562</td>\n",
       "      <td>1454</td>\n",
       "      <td>0.0</td>\n",
       "      <td>1.00000</td>\n",
       "    </tr>\n",
       "    <tr>\n",
       "      <th>4</th>\n",
       "      <td>2020-01-08</td>\n",
       "      <td>1600</td>\n",
       "      <td>1518</td>\n",
       "      <td>0.0</td>\n",
       "      <td>1.00000</td>\n",
       "    </tr>\n",
       "    <tr>\n",
       "      <th>...</th>\n",
       "      <td>...</td>\n",
       "      <td>...</td>\n",
       "      <td>...</td>\n",
       "      <td>...</td>\n",
       "      <td>...</td>\n",
       "    </tr>\n",
       "    <tr>\n",
       "      <th>726</th>\n",
       "      <td>2021-12-30</td>\n",
       "      <td>4231</td>\n",
       "      <td>4024</td>\n",
       "      <td>0.0</td>\n",
       "      <td>1.00000</td>\n",
       "    </tr>\n",
       "    <tr>\n",
       "      <th>727</th>\n",
       "      <td>2021-12-31</td>\n",
       "      <td>8144</td>\n",
       "      <td>7629</td>\n",
       "      <td>0.0</td>\n",
       "      <td>1.00000</td>\n",
       "    </tr>\n",
       "    <tr>\n",
       "      <th>728</th>\n",
       "      <td>2022-01-01</td>\n",
       "      <td>5932</td>\n",
       "      <td>5293</td>\n",
       "      <td>0.0</td>\n",
       "      <td>0.00000</td>\n",
       "    </tr>\n",
       "    <tr>\n",
       "      <th>729</th>\n",
       "      <td>2022-01-02</td>\n",
       "      <td>5182</td>\n",
       "      <td>4392</td>\n",
       "      <td>0.0</td>\n",
       "      <td>0.00000</td>\n",
       "    </tr>\n",
       "    <tr>\n",
       "      <th>730</th>\n",
       "      <td>2022-01-03</td>\n",
       "      <td>6302</td>\n",
       "      <td>5927</td>\n",
       "      <td>0.0</td>\n",
       "      <td>0.99762</td>\n",
       "    </tr>\n",
       "  </tbody>\n",
       "</table>\n",
       "<p>731 rows × 5 columns</p>\n",
       "</div>"
      ],
      "text/plain": [
       "      datetime registered_customer       holiday workingday\n",
       "                             count   sum    mean       mean\n",
       "0   2020-01-04                 985   654     0.0    0.00000\n",
       "1   2020-01-05                 801   670     0.0    0.00000\n",
       "2   2020-01-06                1349  1229     0.0    1.00000\n",
       "3   2020-01-07                1562  1454     0.0    1.00000\n",
       "4   2020-01-08                1600  1518     0.0    1.00000\n",
       "..         ...                 ...   ...     ...        ...\n",
       "726 2021-12-30                4231  4024     0.0    1.00000\n",
       "727 2021-12-31                8144  7629     0.0    1.00000\n",
       "728 2022-01-01                5932  5293     0.0    0.00000\n",
       "729 2022-01-02                5182  4392     0.0    0.00000\n",
       "730 2022-01-03                6302  5927     0.0    0.99762\n",
       "\n",
       "[731 rows x 5 columns]"
      ]
     },
     "execution_count": 4,
     "metadata": {},
     "output_type": "execute_result"
    }
   ],
   "source": [
    "df_3"
   ]
  },
  {
   "cell_type": "code",
   "execution_count": 5,
   "metadata": {},
   "outputs": [],
   "source": [
    "#df_3[df_3.workingday.isna()]"
   ]
  },
  {
   "cell_type": "code",
   "execution_count": 6,
   "metadata": {},
   "outputs": [],
   "source": [
    "df_3.columns = [\"datetime\",\"ges_count\",\"reg_count\",\"holiday\",\"workingday\"]"
   ]
  },
  {
   "cell_type": "code",
   "execution_count": 7,
   "metadata": {},
   "outputs": [
    {
     "data": {
      "text/html": [
       "<div>\n",
       "<style scoped>\n",
       "    .dataframe tbody tr th:only-of-type {\n",
       "        vertical-align: middle;\n",
       "    }\n",
       "\n",
       "    .dataframe tbody tr th {\n",
       "        vertical-align: top;\n",
       "    }\n",
       "\n",
       "    .dataframe thead th {\n",
       "        text-align: right;\n",
       "    }\n",
       "</style>\n",
       "<table border=\"1\" class=\"dataframe\">\n",
       "  <thead>\n",
       "    <tr style=\"text-align: right;\">\n",
       "      <th></th>\n",
       "      <th>datetime</th>\n",
       "      <th>ges_count</th>\n",
       "      <th>reg_count</th>\n",
       "      <th>holiday</th>\n",
       "      <th>workingday</th>\n",
       "    </tr>\n",
       "  </thead>\n",
       "  <tbody>\n",
       "    <tr>\n",
       "      <th>149</th>\n",
       "      <td>2020-06-01</td>\n",
       "      <td>8688</td>\n",
       "      <td>5921</td>\n",
       "      <td>0.999424</td>\n",
       "      <td>0.000000</td>\n",
       "    </tr>\n",
       "    <tr>\n",
       "      <th>150</th>\n",
       "      <td>2020-06-02</td>\n",
       "      <td>7059</td>\n",
       "      <td>5964</td>\n",
       "      <td>0.000142</td>\n",
       "      <td>0.999858</td>\n",
       "    </tr>\n",
       "    <tr>\n",
       "      <th>247</th>\n",
       "      <td>2020-09-07</td>\n",
       "      <td>4206</td>\n",
       "      <td>2694</td>\n",
       "      <td>0.999762</td>\n",
       "      <td>0.000000</td>\n",
       "    </tr>\n",
       "    <tr>\n",
       "      <th>248</th>\n",
       "      <td>2020-09-08</td>\n",
       "      <td>3321</td>\n",
       "      <td>3038</td>\n",
       "      <td>0.000301</td>\n",
       "      <td>0.999699</td>\n",
       "    </tr>\n",
       "    <tr>\n",
       "      <th>366</th>\n",
       "      <td>2021-01-04</td>\n",
       "      <td>3147</td>\n",
       "      <td>2786</td>\n",
       "      <td>0.999682</td>\n",
       "      <td>0.000000</td>\n",
       "    </tr>\n",
       "    <tr>\n",
       "      <th>514</th>\n",
       "      <td>2021-06-01</td>\n",
       "      <td>10951</td>\n",
       "      <td>9352</td>\n",
       "      <td>0.000274</td>\n",
       "      <td>0.999726</td>\n",
       "    </tr>\n",
       "    <tr>\n",
       "      <th>611</th>\n",
       "      <td>2021-09-06</td>\n",
       "      <td>7747</td>\n",
       "      <td>5262</td>\n",
       "      <td>0.999742</td>\n",
       "      <td>0.000000</td>\n",
       "    </tr>\n",
       "  </tbody>\n",
       "</table>\n",
       "</div>"
      ],
      "text/plain": [
       "      datetime  ges_count  reg_count   holiday  workingday\n",
       "149 2020-06-01       8688       5921  0.999424    0.000000\n",
       "150 2020-06-02       7059       5964  0.000142    0.999858\n",
       "247 2020-09-07       4206       2694  0.999762    0.000000\n",
       "248 2020-09-08       3321       3038  0.000301    0.999699\n",
       "366 2021-01-04       3147       2786  0.999682    0.000000\n",
       "514 2021-06-01      10951       9352  0.000274    0.999726\n",
       "611 2021-09-06       7747       5262  0.999742    0.000000"
      ]
     },
     "execution_count": 7,
     "metadata": {},
     "output_type": "execute_result"
    }
   ],
   "source": [
    "df_3.loc[(df_3.holiday != 1)&(df_3.holiday != 0)] \n"
   ]
  },
  {
   "cell_type": "code",
   "execution_count": 8,
   "metadata": {},
   "outputs": [],
   "source": [
    "df_4 = df_3.loc[(df_3.workingday != 1)&(df_3.workingday != 0)]"
   ]
  },
  {
   "cell_type": "code",
   "execution_count": 9,
   "metadata": {},
   "outputs": [],
   "source": [
    "df.datetime.dt.date.sort_index(inplace=True)"
   ]
  },
  {
   "cell_type": "code",
   "execution_count": 10,
   "metadata": {},
   "outputs": [
    {
     "data": {
      "text/plain": [
       "28     0.0\n",
       "56     0.0\n",
       "58     1.0\n",
       "65     1.0\n",
       "119    0.0\n",
       "121    1.0\n",
       "126    0.0\n",
       "150    1.0\n",
       "154    0.0\n",
       "182    0.0\n",
       "240    1.0\n",
       "248    1.0\n",
       "273    0.0\n",
       "301    0.0\n",
       "303    1.0\n",
       "308    0.0\n",
       "310    1.0\n",
       "331    1.0\n",
       "336    0.0\n",
       "394    1.0\n",
       "422    1.0\n",
       "427    0.0\n",
       "457    1.0\n",
       "483    0.0\n",
       "490    0.0\n",
       "514    1.0\n",
       "520    1.0\n",
       "546    0.0\n",
       "548    1.0\n",
       "576    1.0\n",
       "583    1.0\n",
       "609    0.0\n",
       "637    0.0\n",
       "639    1.0\n",
       "667    1.0\n",
       "674    1.0\n",
       "730    1.0\n",
       "Name: workingday, dtype: float64"
      ]
     },
     "execution_count": 10,
     "metadata": {},
     "output_type": "execute_result"
    }
   ],
   "source": [
    "df_4.workingday.round()"
   ]
  },
  {
   "cell_type": "code",
   "execution_count": 12,
   "metadata": {},
   "outputs": [],
   "source": [
    "df.loc[df.datetime.dt.date.isin(df_4.datetime.dt.date),\"workingday\"] = df_4.workingday.round()"
   ]
  },
  {
   "cell_type": "code",
   "execution_count": 14,
   "metadata": {},
   "outputs": [
    {
     "data": {
      "text/plain": [
       "34320     NaN\n",
       "34321     NaN\n",
       "34322     NaN\n",
       "34323     NaN\n",
       "34324     NaN\n",
       "           ..\n",
       "3755410   NaN\n",
       "3755411   NaN\n",
       "3755412   NaN\n",
       "3755413   NaN\n",
       "3755414   NaN\n",
       "Name: workingday, Length: 241680, dtype: float64"
      ]
     },
     "execution_count": 14,
     "metadata": {},
     "output_type": "execute_result"
    }
   ],
   "source": [
    "df.loc[df.datetime.dt.date.isin(df_4.datetime.dt.date),\"workingday\"] "
   ]
  }
 ],
 "metadata": {
  "kernelspec": {
   "display_name": "Python 3.9.7 64-bit",
   "language": "python",
   "name": "python3"
  },
  "language_info": {
   "codemirror_mode": {
    "name": "ipython",
    "version": 3
   },
   "file_extension": ".py",
   "mimetype": "text/x-python",
   "name": "python",
   "nbconvert_exporter": "python",
   "pygments_lexer": "ipython3",
   "version": "3.9.7"
  },
  "orig_nbformat": 4,
  "vscode": {
   "interpreter": {
    "hash": "aee8b7b246df8f9039afb4144a1f6fd8d2ca17a180786b69acc140d282b71a49"
   }
  }
 },
 "nbformat": 4,
 "nbformat_minor": 2
}
