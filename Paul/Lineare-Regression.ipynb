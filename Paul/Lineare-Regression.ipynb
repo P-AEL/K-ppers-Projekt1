{
 "cells": [
  {
   "cell_type": "code",
   "execution_count": 1,
   "metadata": {},
   "outputs": [],
   "source": [
    "import pandas as pd\n",
    "import plotly.express as px\n",
    "import numpy as np\n",
    "import missingno as msn\n",
    "import datetime\n",
    "from pandas_profiling import ProfileReport\n",
    "import sklearn\n",
    "from sklearn.impute import SimpleImputer"
   ]
  },
  {
   "cell_type": "code",
   "execution_count": 65,
   "metadata": {},
   "outputs": [],
   "source": [
    "df = pd.read_parquet(\"escooter_history_2022.parquet\")\n",
    "\n"
   ]
  },
  {
   "cell_type": "code",
   "execution_count": 66,
   "metadata": {},
   "outputs": [],
   "source": [
    "df.loc[df.temp > 50, \"temp\"] = df.temp.div(100)"
   ]
  },
  {
   "cell_type": "code",
   "execution_count": 67,
   "metadata": {},
   "outputs": [],
   "source": [
    "df = pd.get_dummies(df)"
   ]
  },
  {
   "cell_type": "code",
   "execution_count": 44,
   "metadata": {},
   "outputs": [],
   "source": [
    "df = df[df[\"registered_customer\"] == False].copy()"
   ]
  },
  {
   "cell_type": "code",
   "execution_count": 68,
   "metadata": {},
   "outputs": [],
   "source": [
    "df_2 = df.groupby([\"registered_customer\",pd.Grouper(key=\"datetime\",freq=\"D\")]).agg(Anzahl_pro_Tag=(\"registered_customer\",\"count\"),temp=(\"temp\",\"mean\"),humidity=(\"humidity\",\"mean\"),windspeed=(\"windspeed\",\"mean\"),workingday=(\"workingday\",\"mean\"),holiday=(\"holiday\",\"mean\"),Anzahl_registered=(\"registered_customer\",\"sum\"),clear_few_clouds=(\"weather_clear, few clouds\",\"mean\"),cloudy_mist=(\"weather_cloudy, mist\",\"mean\"),heacy_rain_thunderstorm_snow_icepallets=(\"weather_heacy rain or thunderstorm or snow or ice pallets\",\"mean\"),ligth_snow_rain_thunderstorm=(\"weather_light snow or rain or thunderstorm\",\"mean\")).reset_index()"
   ]
  },
  {
   "cell_type": "code",
   "execution_count": 69,
   "metadata": {},
   "outputs": [
    {
     "data": {
      "text/html": [
       "<div>\n",
       "<style scoped>\n",
       "    .dataframe tbody tr th:only-of-type {\n",
       "        vertical-align: middle;\n",
       "    }\n",
       "\n",
       "    .dataframe tbody tr th {\n",
       "        vertical-align: top;\n",
       "    }\n",
       "\n",
       "    .dataframe thead th {\n",
       "        text-align: right;\n",
       "    }\n",
       "</style>\n",
       "<table border=\"1\" class=\"dataframe\">\n",
       "  <thead>\n",
       "    <tr style=\"text-align: right;\">\n",
       "      <th></th>\n",
       "      <th>registered_customer</th>\n",
       "      <th>datetime</th>\n",
       "      <th>Anzahl_pro_Tag</th>\n",
       "      <th>temp</th>\n",
       "      <th>humidity</th>\n",
       "      <th>windspeed</th>\n",
       "      <th>workingday</th>\n",
       "      <th>holiday</th>\n",
       "      <th>Anzahl_registered</th>\n",
       "      <th>clear_few_clouds</th>\n",
       "      <th>cloudy_mist</th>\n",
       "      <th>heacy_rain_thunderstorm_snow_icepallets</th>\n",
       "      <th>ligth_snow_rain_thunderstorm</th>\n",
       "    </tr>\n",
       "  </thead>\n",
       "  <tbody>\n",
       "    <tr>\n",
       "      <th>0</th>\n",
       "      <td>False</td>\n",
       "      <td>2020-01-04</td>\n",
       "      <td>331</td>\n",
       "      <td>16.868218</td>\n",
       "      <td>79.021148</td>\n",
       "      <td>17.235598</td>\n",
       "      <td>0.0</td>\n",
       "      <td>0.0</td>\n",
       "      <td>0</td>\n",
       "      <td>0.296073</td>\n",
       "      <td>0.658610</td>\n",
       "      <td>0.0</td>\n",
       "      <td>0.045317</td>\n",
       "    </tr>\n",
       "    <tr>\n",
       "      <th>1</th>\n",
       "      <td>False</td>\n",
       "      <td>2020-01-05</td>\n",
       "      <td>131</td>\n",
       "      <td>14.390687</td>\n",
       "      <td>67.244275</td>\n",
       "      <td>16.198554</td>\n",
       "      <td>0.0</td>\n",
       "      <td>0.0</td>\n",
       "      <td>0</td>\n",
       "      <td>0.183206</td>\n",
       "      <td>0.572519</td>\n",
       "      <td>0.0</td>\n",
       "      <td>0.244275</td>\n",
       "    </tr>\n",
       "    <tr>\n",
       "      <th>2</th>\n",
       "      <td>False</td>\n",
       "      <td>2020-01-06</td>\n",
       "      <td>120</td>\n",
       "      <td>9.129333</td>\n",
       "      <td>36.758333</td>\n",
       "      <td>15.966826</td>\n",
       "      <td>1.0</td>\n",
       "      <td>0.0</td>\n",
       "      <td>0</td>\n",
       "      <td>1.000000</td>\n",
       "      <td>0.000000</td>\n",
       "      <td>0.0</td>\n",
       "      <td>0.000000</td>\n",
       "    </tr>\n",
       "    <tr>\n",
       "      <th>3</th>\n",
       "      <td>False</td>\n",
       "      <td>2020-01-07</td>\n",
       "      <td>108</td>\n",
       "      <td>10.120926</td>\n",
       "      <td>53.638889</td>\n",
       "      <td>14.749616</td>\n",
       "      <td>1.0</td>\n",
       "      <td>0.0</td>\n",
       "      <td>0</td>\n",
       "      <td>0.953704</td>\n",
       "      <td>0.046296</td>\n",
       "      <td>0.0</td>\n",
       "      <td>0.000000</td>\n",
       "    </tr>\n",
       "    <tr>\n",
       "      <th>4</th>\n",
       "      <td>False</td>\n",
       "      <td>2020-01-08</td>\n",
       "      <td>82</td>\n",
       "      <td>10.390000</td>\n",
       "      <td>35.390244</td>\n",
       "      <td>15.500532</td>\n",
       "      <td>1.0</td>\n",
       "      <td>0.0</td>\n",
       "      <td>0</td>\n",
       "      <td>1.000000</td>\n",
       "      <td>0.000000</td>\n",
       "      <td>0.0</td>\n",
       "      <td>0.000000</td>\n",
       "    </tr>\n",
       "    <tr>\n",
       "      <th>...</th>\n",
       "      <td>...</td>\n",
       "      <td>...</td>\n",
       "      <td>...</td>\n",
       "      <td>...</td>\n",
       "      <td>...</td>\n",
       "      <td>...</td>\n",
       "      <td>...</td>\n",
       "      <td>...</td>\n",
       "      <td>...</td>\n",
       "      <td>...</td>\n",
       "      <td>...</td>\n",
       "      <td>...</td>\n",
       "      <td>...</td>\n",
       "    </tr>\n",
       "    <tr>\n",
       "      <th>1457</th>\n",
       "      <td>True</td>\n",
       "      <td>2021-12-30</td>\n",
       "      <td>4024</td>\n",
       "      <td>10.463559</td>\n",
       "      <td>59.591700</td>\n",
       "      <td>22.123152</td>\n",
       "      <td>1.0</td>\n",
       "      <td>0.0</td>\n",
       "      <td>4024</td>\n",
       "      <td>0.543986</td>\n",
       "      <td>0.450298</td>\n",
       "      <td>0.0</td>\n",
       "      <td>0.005716</td>\n",
       "    </tr>\n",
       "    <tr>\n",
       "      <th>1458</th>\n",
       "      <td>True</td>\n",
       "      <td>2021-12-31</td>\n",
       "      <td>7629</td>\n",
       "      <td>10.397415</td>\n",
       "      <td>58.792896</td>\n",
       "      <td>10.275610</td>\n",
       "      <td>1.0</td>\n",
       "      <td>0.0</td>\n",
       "      <td>7629</td>\n",
       "      <td>0.328352</td>\n",
       "      <td>0.671648</td>\n",
       "      <td>0.0</td>\n",
       "      <td>0.000000</td>\n",
       "    </tr>\n",
       "    <tr>\n",
       "      <th>1459</th>\n",
       "      <td>True</td>\n",
       "      <td>2022-01-01</td>\n",
       "      <td>5293</td>\n",
       "      <td>10.553724</td>\n",
       "      <td>76.329681</td>\n",
       "      <td>8.286138</td>\n",
       "      <td>0.0</td>\n",
       "      <td>0.0</td>\n",
       "      <td>5293</td>\n",
       "      <td>0.213678</td>\n",
       "      <td>0.625165</td>\n",
       "      <td>0.0</td>\n",
       "      <td>0.161156</td>\n",
       "    </tr>\n",
       "    <tr>\n",
       "      <th>1460</th>\n",
       "      <td>True</td>\n",
       "      <td>2022-01-02</td>\n",
       "      <td>4392</td>\n",
       "      <td>10.754472</td>\n",
       "      <td>46.234517</td>\n",
       "      <td>24.047083</td>\n",
       "      <td>0.0</td>\n",
       "      <td>0.0</td>\n",
       "      <td>4392</td>\n",
       "      <td>0.765255</td>\n",
       "      <td>0.234745</td>\n",
       "      <td>0.0</td>\n",
       "      <td>0.000000</td>\n",
       "    </tr>\n",
       "    <tr>\n",
       "      <th>1461</th>\n",
       "      <td>True</td>\n",
       "      <td>2022-01-03</td>\n",
       "      <td>5927</td>\n",
       "      <td>9.084056</td>\n",
       "      <td>57.310275</td>\n",
       "      <td>9.948235</td>\n",
       "      <td>1.0</td>\n",
       "      <td>0.0</td>\n",
       "      <td>5927</td>\n",
       "      <td>0.382656</td>\n",
       "      <td>0.617344</td>\n",
       "      <td>0.0</td>\n",
       "      <td>0.000000</td>\n",
       "    </tr>\n",
       "  </tbody>\n",
       "</table>\n",
       "<p>1462 rows × 13 columns</p>\n",
       "</div>"
      ],
      "text/plain": [
       "      registered_customer   datetime  Anzahl_pro_Tag       temp   humidity  \\\n",
       "0                   False 2020-01-04             331  16.868218  79.021148   \n",
       "1                   False 2020-01-05             131  14.390687  67.244275   \n",
       "2                   False 2020-01-06             120   9.129333  36.758333   \n",
       "3                   False 2020-01-07             108  10.120926  53.638889   \n",
       "4                   False 2020-01-08              82  10.390000  35.390244   \n",
       "...                   ...        ...             ...        ...        ...   \n",
       "1457                 True 2021-12-30            4024  10.463559  59.591700   \n",
       "1458                 True 2021-12-31            7629  10.397415  58.792896   \n",
       "1459                 True 2022-01-01            5293  10.553724  76.329681   \n",
       "1460                 True 2022-01-02            4392  10.754472  46.234517   \n",
       "1461                 True 2022-01-03            5927   9.084056  57.310275   \n",
       "\n",
       "      windspeed  workingday  holiday  Anzahl_registered  clear_few_clouds  \\\n",
       "0     17.235598         0.0      0.0                  0          0.296073   \n",
       "1     16.198554         0.0      0.0                  0          0.183206   \n",
       "2     15.966826         1.0      0.0                  0          1.000000   \n",
       "3     14.749616         1.0      0.0                  0          0.953704   \n",
       "4     15.500532         1.0      0.0                  0          1.000000   \n",
       "...         ...         ...      ...                ...               ...   \n",
       "1457  22.123152         1.0      0.0               4024          0.543986   \n",
       "1458  10.275610         1.0      0.0               7629          0.328352   \n",
       "1459   8.286138         0.0      0.0               5293          0.213678   \n",
       "1460  24.047083         0.0      0.0               4392          0.765255   \n",
       "1461   9.948235         1.0      0.0               5927          0.382656   \n",
       "\n",
       "      cloudy_mist  heacy_rain_thunderstorm_snow_icepallets  \\\n",
       "0        0.658610                                      0.0   \n",
       "1        0.572519                                      0.0   \n",
       "2        0.000000                                      0.0   \n",
       "3        0.046296                                      0.0   \n",
       "4        0.000000                                      0.0   \n",
       "...           ...                                      ...   \n",
       "1457     0.450298                                      0.0   \n",
       "1458     0.671648                                      0.0   \n",
       "1459     0.625165                                      0.0   \n",
       "1460     0.234745                                      0.0   \n",
       "1461     0.617344                                      0.0   \n",
       "\n",
       "      ligth_snow_rain_thunderstorm  \n",
       "0                         0.045317  \n",
       "1                         0.244275  \n",
       "2                         0.000000  \n",
       "3                         0.000000  \n",
       "4                         0.000000  \n",
       "...                            ...  \n",
       "1457                      0.005716  \n",
       "1458                      0.000000  \n",
       "1459                      0.161156  \n",
       "1460                      0.000000  \n",
       "1461                      0.000000  \n",
       "\n",
       "[1462 rows x 13 columns]"
      ]
     },
     "execution_count": 69,
     "metadata": {},
     "output_type": "execute_result"
    }
   ],
   "source": [
    "df_2"
   ]
  },
  {
   "cell_type": "code",
   "execution_count": 20,
   "metadata": {},
   "outputs": [
    {
     "data": {
      "text/plain": [
       "datetime             datetime64[ns]\n",
       "Anzahl_pro_Tag                int64\n",
       "temp                        float64\n",
       "humidity                    float64\n",
       "windspeed                   float64\n",
       "workingday                  float64\n",
       "holiday                     float64\n",
       "Anzahl_registered             Int64\n",
       "Anteil_registered           Float64\n",
       "weekend                        bool\n",
       "date_delta                    int64\n",
       "dtype: object"
      ]
     },
     "execution_count": 20,
     "metadata": {},
     "output_type": "execute_result"
    }
   ],
   "source": [
    "df_2.dtypes"
   ]
  },
  {
   "cell_type": "code",
   "execution_count": 70,
   "metadata": {},
   "outputs": [],
   "source": [
    "df_2[\"workingday\"] = df_2[\"workingday\"].round()"
   ]
  },
  {
   "cell_type": "code",
   "execution_count": 71,
   "metadata": {},
   "outputs": [],
   "source": [
    "\n",
    "df_2[\"holiday\"] = df_2[\"holiday\"].round() "
   ]
  },
  {
   "cell_type": "code",
   "execution_count": 72,
   "metadata": {},
   "outputs": [],
   "source": [
    "df_2[\"Anteil_registered\"] = df_2[\"Anzahl_registered\"]/df_2[\"Anzahl_pro_Tag\"]"
   ]
  },
  {
   "cell_type": "code",
   "execution_count": 73,
   "metadata": {},
   "outputs": [],
   "source": [
    "df_2[\"weekend\"] = df_2[\"datetime\"].dt.weekday > 4"
   ]
  },
  {
   "cell_type": "code",
   "execution_count": 74,
   "metadata": {},
   "outputs": [],
   "source": [
    "df_2['date_delta'] = (df_2['datetime'] - df_2['datetime'].min())  \n",
    "df_2[\"date_delta\"] = df_2.date_delta.dt.days"
   ]
  },
  {
   "cell_type": "code",
   "execution_count": null,
   "metadata": {},
   "outputs": [],
   "source": [
    "df_2.drop(\"Anzahl_registered\",axis=1)"
   ]
  },
  {
   "cell_type": "code",
   "execution_count": 34,
   "metadata": {},
   "outputs": [],
   "source": [
    "df_2[\"log_temp\"] = np.log(df_2.temp)"
   ]
  },
  {
   "cell_type": "code",
   "execution_count": null,
   "metadata": {},
   "outputs": [],
   "source": [
    "pd.plotting.scatter_matrix(df_2['temp', 'atemp',\n",
    "       'humidity', 'windspeed',\"Anzahl_pro_Tag\"])"
   ]
  },
  {
   "cell_type": "code",
   "execution_count": 75,
   "metadata": {},
   "outputs": [],
   "source": [
    "#trainings-Test-Split\n",
    "features = [\"registered_customer\",\"date_delta\", 'temp', 'humidity','windspeed',\"workingday\",\"holiday\",\"weekend\",\"clear_few_clouds\",\"cloudy_mist\",\"heacy_rain_thunderstorm_snow_icepallets\",\"ligth_snow_rain_thunderstorm\"] # Liste von Features\n",
    "X = df_2[features]\n",
    "y = df_2.Anzahl_pro_Tag"
   ]
  },
  {
   "cell_type": "code",
   "execution_count": 36,
   "metadata": {},
   "outputs": [
    {
     "data": {
      "text/html": [
       "<div>\n",
       "<style scoped>\n",
       "    .dataframe tbody tr th:only-of-type {\n",
       "        vertical-align: middle;\n",
       "    }\n",
       "\n",
       "    .dataframe tbody tr th {\n",
       "        vertical-align: top;\n",
       "    }\n",
       "\n",
       "    .dataframe thead th {\n",
       "        text-align: right;\n",
       "    }\n",
       "</style>\n",
       "<table border=\"1\" class=\"dataframe\">\n",
       "  <thead>\n",
       "    <tr style=\"text-align: right;\">\n",
       "      <th></th>\n",
       "      <th>date_delta</th>\n",
       "      <th>temp</th>\n",
       "      <th>log_temp</th>\n",
       "      <th>humidity</th>\n",
       "      <th>windspeed</th>\n",
       "      <th>workingday</th>\n",
       "      <th>holiday</th>\n",
       "      <th>weekend</th>\n",
       "      <th>clear_few_clouds</th>\n",
       "      <th>cloudy_mist</th>\n",
       "      <th>heacy_rain_thunderstorm_snow_icepallets</th>\n",
       "      <th>ligth_snow_rain_thunderstorm</th>\n",
       "    </tr>\n",
       "  </thead>\n",
       "  <tbody>\n",
       "    <tr>\n",
       "      <th>0</th>\n",
       "      <td>0</td>\n",
       "      <td>16.298440</td>\n",
       "      <td>2.791069</td>\n",
       "      <td>80.010703</td>\n",
       "      <td>15.715434</td>\n",
       "      <td>0.0</td>\n",
       "      <td>0.0</td>\n",
       "      <td>True</td>\n",
       "      <td>0.316514</td>\n",
       "      <td>0.596330</td>\n",
       "      <td>0.0</td>\n",
       "      <td>0.087156</td>\n",
       "    </tr>\n",
       "    <tr>\n",
       "      <th>1</th>\n",
       "      <td>1</td>\n",
       "      <td>14.419761</td>\n",
       "      <td>2.668600</td>\n",
       "      <td>67.120896</td>\n",
       "      <td>15.811900</td>\n",
       "      <td>0.0</td>\n",
       "      <td>0.0</td>\n",
       "      <td>True</td>\n",
       "      <td>0.210448</td>\n",
       "      <td>0.510448</td>\n",
       "      <td>0.0</td>\n",
       "      <td>0.279104</td>\n",
       "    </tr>\n",
       "    <tr>\n",
       "      <th>2</th>\n",
       "      <td>2</td>\n",
       "      <td>8.372807</td>\n",
       "      <td>2.124989</td>\n",
       "      <td>40.632221</td>\n",
       "      <td>14.603443</td>\n",
       "      <td>1.0</td>\n",
       "      <td>0.0</td>\n",
       "      <td>False</td>\n",
       "      <td>1.000000</td>\n",
       "      <td>0.000000</td>\n",
       "      <td>0.0</td>\n",
       "      <td>0.000000</td>\n",
       "    </tr>\n",
       "    <tr>\n",
       "      <th>3</th>\n",
       "      <td>3</td>\n",
       "      <td>8.972063</td>\n",
       "      <td>2.194116</td>\n",
       "      <td>56.616919</td>\n",
       "      <td>12.173591</td>\n",
       "      <td>1.0</td>\n",
       "      <td>0.0</td>\n",
       "      <td>False</td>\n",
       "      <td>0.974553</td>\n",
       "      <td>0.025447</td>\n",
       "      <td>0.0</td>\n",
       "      <td>0.000000</td>\n",
       "    </tr>\n",
       "    <tr>\n",
       "      <th>4</th>\n",
       "      <td>4</td>\n",
       "      <td>9.609341</td>\n",
       "      <td>2.262736</td>\n",
       "      <td>38.383399</td>\n",
       "      <td>14.038239</td>\n",
       "      <td>1.0</td>\n",
       "      <td>0.0</td>\n",
       "      <td>False</td>\n",
       "      <td>1.000000</td>\n",
       "      <td>0.000000</td>\n",
       "      <td>0.0</td>\n",
       "      <td>0.000000</td>\n",
       "    </tr>\n",
       "    <tr>\n",
       "      <th>...</th>\n",
       "      <td>...</td>\n",
       "      <td>...</td>\n",
       "      <td>...</td>\n",
       "      <td>...</td>\n",
       "      <td>...</td>\n",
       "      <td>...</td>\n",
       "      <td>...</td>\n",
       "      <td>...</td>\n",
       "      <td>...</td>\n",
       "      <td>...</td>\n",
       "      <td>...</td>\n",
       "      <td>...</td>\n",
       "    </tr>\n",
       "    <tr>\n",
       "      <th>726</th>\n",
       "      <td>726</td>\n",
       "      <td>10.463559</td>\n",
       "      <td>2.347899</td>\n",
       "      <td>59.591700</td>\n",
       "      <td>22.123152</td>\n",
       "      <td>1.0</td>\n",
       "      <td>0.0</td>\n",
       "      <td>False</td>\n",
       "      <td>0.543986</td>\n",
       "      <td>0.450298</td>\n",
       "      <td>0.0</td>\n",
       "      <td>0.005716</td>\n",
       "    </tr>\n",
       "    <tr>\n",
       "      <th>727</th>\n",
       "      <td>727</td>\n",
       "      <td>10.397415</td>\n",
       "      <td>2.341557</td>\n",
       "      <td>58.792896</td>\n",
       "      <td>10.275610</td>\n",
       "      <td>1.0</td>\n",
       "      <td>0.0</td>\n",
       "      <td>False</td>\n",
       "      <td>0.328352</td>\n",
       "      <td>0.671648</td>\n",
       "      <td>0.0</td>\n",
       "      <td>0.000000</td>\n",
       "    </tr>\n",
       "    <tr>\n",
       "      <th>728</th>\n",
       "      <td>728</td>\n",
       "      <td>10.553724</td>\n",
       "      <td>2.356479</td>\n",
       "      <td>76.329681</td>\n",
       "      <td>8.286138</td>\n",
       "      <td>0.0</td>\n",
       "      <td>0.0</td>\n",
       "      <td>True</td>\n",
       "      <td>0.213678</td>\n",
       "      <td>0.625165</td>\n",
       "      <td>0.0</td>\n",
       "      <td>0.161156</td>\n",
       "    </tr>\n",
       "    <tr>\n",
       "      <th>729</th>\n",
       "      <td>729</td>\n",
       "      <td>10.754472</td>\n",
       "      <td>2.375322</td>\n",
       "      <td>46.234517</td>\n",
       "      <td>24.047083</td>\n",
       "      <td>0.0</td>\n",
       "      <td>0.0</td>\n",
       "      <td>True</td>\n",
       "      <td>0.765255</td>\n",
       "      <td>0.234745</td>\n",
       "      <td>0.0</td>\n",
       "      <td>0.000000</td>\n",
       "    </tr>\n",
       "    <tr>\n",
       "      <th>730</th>\n",
       "      <td>730</td>\n",
       "      <td>9.084056</td>\n",
       "      <td>2.206521</td>\n",
       "      <td>57.310275</td>\n",
       "      <td>9.948235</td>\n",
       "      <td>1.0</td>\n",
       "      <td>0.0</td>\n",
       "      <td>False</td>\n",
       "      <td>0.382656</td>\n",
       "      <td>0.617344</td>\n",
       "      <td>0.0</td>\n",
       "      <td>0.000000</td>\n",
       "    </tr>\n",
       "  </tbody>\n",
       "</table>\n",
       "<p>731 rows × 12 columns</p>\n",
       "</div>"
      ],
      "text/plain": [
       "     date_delta       temp  log_temp   humidity  windspeed  workingday  \\\n",
       "0             0  16.298440  2.791069  80.010703  15.715434         0.0   \n",
       "1             1  14.419761  2.668600  67.120896  15.811900         0.0   \n",
       "2             2   8.372807  2.124989  40.632221  14.603443         1.0   \n",
       "3             3   8.972063  2.194116  56.616919  12.173591         1.0   \n",
       "4             4   9.609341  2.262736  38.383399  14.038239         1.0   \n",
       "..          ...        ...       ...        ...        ...         ...   \n",
       "726         726  10.463559  2.347899  59.591700  22.123152         1.0   \n",
       "727         727  10.397415  2.341557  58.792896  10.275610         1.0   \n",
       "728         728  10.553724  2.356479  76.329681   8.286138         0.0   \n",
       "729         729  10.754472  2.375322  46.234517  24.047083         0.0   \n",
       "730         730   9.084056  2.206521  57.310275   9.948235         1.0   \n",
       "\n",
       "     holiday  weekend  clear_few_clouds  cloudy_mist  \\\n",
       "0        0.0     True          0.316514     0.596330   \n",
       "1        0.0     True          0.210448     0.510448   \n",
       "2        0.0    False          1.000000     0.000000   \n",
       "3        0.0    False          0.974553     0.025447   \n",
       "4        0.0    False          1.000000     0.000000   \n",
       "..       ...      ...               ...          ...   \n",
       "726      0.0    False          0.543986     0.450298   \n",
       "727      0.0    False          0.328352     0.671648   \n",
       "728      0.0     True          0.213678     0.625165   \n",
       "729      0.0     True          0.765255     0.234745   \n",
       "730      0.0    False          0.382656     0.617344   \n",
       "\n",
       "     heacy_rain_thunderstorm_snow_icepallets  ligth_snow_rain_thunderstorm  \n",
       "0                                        0.0                      0.087156  \n",
       "1                                        0.0                      0.279104  \n",
       "2                                        0.0                      0.000000  \n",
       "3                                        0.0                      0.000000  \n",
       "4                                        0.0                      0.000000  \n",
       "..                                       ...                           ...  \n",
       "726                                      0.0                      0.005716  \n",
       "727                                      0.0                      0.000000  \n",
       "728                                      0.0                      0.161156  \n",
       "729                                      0.0                      0.000000  \n",
       "730                                      0.0                      0.000000  \n",
       "\n",
       "[731 rows x 12 columns]"
      ]
     },
     "execution_count": 36,
     "metadata": {},
     "output_type": "execute_result"
    }
   ],
   "source": [
    "X"
   ]
  },
  {
   "cell_type": "code",
   "execution_count": 59,
   "metadata": {},
   "outputs": [],
   "source": [
    "from sklearn.preprocessing import StandardScaler\n",
    "scaler = StandardScaler(with_mean=False) # with_mean=False: dont rescale the means to being all zero\n",
    "Xs = pd.DataFrame(scaler.fit_transform(X[X.columns]))\n",
    "Xs.columns = X.columns"
   ]
  },
  {
   "cell_type": "code",
   "execution_count": 32,
   "metadata": {},
   "outputs": [],
   "source": [
    "from sklearn import datasets, linear_model\n",
    "from sklearn.metrics import mean_squared_error, r2_score"
   ]
  },
  {
   "cell_type": "code",
   "execution_count": 60,
   "metadata": {},
   "outputs": [
    {
     "name": "stdout",
     "output_type": "stream",
     "text": [
      "['date_delta' 'temp' 'humidity' 'windspeed' 'workingday' 'holiday'\n",
      " 'weekend' 'clear_few_clouds' 'cloudy_mist'\n",
      " 'heacy_rain_thunderstorm_snow_icepallets' 'ligth_snow_rain_thunderstorm']\n",
      "Coefficients: \n",
      " [ 156.1116531   425.19345077 -127.98886775  -50.16651336 -208.51152204\n",
      "   36.86079261  200.62864995    2.1976262    14.04291676    1.65648577\n",
      "  -33.35955477]\n",
      "Intercept: \n",
      " 236.40779304780767\n",
      "On Training set:\n",
      "Mean squared error: 205017.84\n",
      "Variance of target variable: 616464.24\n",
      "Variance explained: 0.67\n"
     ]
    }
   ],
   "source": [
    "regr = linear_model.LinearRegression()\n",
    "regr.fit(Xs, y)\n",
    "pred = regr.predict(Xs)\n",
    "print(Xs.columns.values)\n",
    "print('Coefficients: \\n', regr.coef_)\n",
    "print('Intercept: \\n', regr.intercept_)\n",
    "print('On Training set:')\n",
    "print(\"Mean squared error: %.2f\" % mean_squared_error(y, pred))\n",
    "print(\"Variance of target variable: %.2f\" % np.var(y))\n",
    "print('Variance explained: %.2f' % r2_score(y, pred))"
   ]
  },
  {
   "cell_type": "code",
   "execution_count": 16,
   "metadata": {},
   "outputs": [],
   "source": [
    "from sklearn import linear_model\n",
    "from sklearn.model_selection import train_test_split"
   ]
  },
  {
   "cell_type": "code",
   "execution_count": 76,
   "metadata": {},
   "outputs": [],
   "source": [
    "X_train, X_test, y_train, y_test = train_test_split(X, y, test_size=0.5, random_state=0)"
   ]
  },
  {
   "cell_type": "code",
   "execution_count": 77,
   "metadata": {},
   "outputs": [],
   "source": [
    "from sklearn.preprocessing import StandardScaler\n",
    "#Standardisierung\n",
    "\n",
    "scaler = StandardScaler()\n",
    "X_train = scaler.fit_transform(X_train)\n",
    "X_test = scaler.fit_transform(X_test)"
   ]
  },
  {
   "cell_type": "code",
   "execution_count": null,
   "metadata": {},
   "outputs": [],
   "source": []
  },
  {
   "cell_type": "code",
   "execution_count": 78,
   "metadata": {},
   "outputs": [],
   "source": [
    "reg_ridg = linear_model.Ridge(alpha=9)\n",
    "reg_ridg.fit(X_train, y_train)\n",
    "y_train_pred = reg_ridg.predict(X_train)\n",
    "y_test_pred = reg_ridg.predict(X_test)\n",
    "# Evaluation\n"
   ]
  },
  {
   "cell_type": "code",
   "execution_count": 79,
   "metadata": {},
   "outputs": [],
   "source": [
    "r2_test = r2_score(y_test, y_test_pred)\n",
    "mse_test = mean_squared_error(y_test, y_test_pred)\n",
    "mae_test = mean_absolute_error(y_test, y_test_pred)"
   ]
  },
  {
   "cell_type": "code",
   "execution_count": 80,
   "metadata": {},
   "outputs": [
    {
     "data": {
      "text/plain": [
       "array([1597.78378192,  603.49023281,  541.98222534,  -62.98182829,\n",
       "        -72.9731173 ,    3.78062338,  -26.9592261 ,    6.32957192,\n",
       "         66.55011178,    7.31916262,  -30.43455012, -155.49416314])"
      ]
     },
     "execution_count": 80,
     "metadata": {},
     "output_type": "execute_result"
    }
   ],
   "source": [
    "reg_ridg.coef_"
   ]
  },
  {
   "cell_type": "code",
   "execution_count": 84,
   "metadata": {},
   "outputs": [],
   "source": [
    "#Training\n",
    "\n",
    "model_lr = linear_model.LinearRegression()\n",
    "model_lr.fit(X_train, y_train)\n",
    "y_train_pred = model_lr.predict(X_train)\n",
    "y_test_pred = model_lr.predict(X_test)"
   ]
  },
  {
   "cell_type": "code",
   "execution_count": 89,
   "metadata": {},
   "outputs": [
    {
     "data": {
      "text/plain": [
       "array([1618.31747445,  609.80671726,  549.79978824,  -68.67440765,\n",
       "        -72.89761036,    3.43469728,  -26.97906282,    6.6920001 ,\n",
       "         64.39610328,    9.52497215,  -30.20702079, -154.72335186])"
      ]
     },
     "execution_count": 89,
     "metadata": {},
     "output_type": "execute_result"
    }
   ],
   "source": [
    "model_lr.coef_"
   ]
  },
  {
   "cell_type": "code",
   "execution_count": 20,
   "metadata": {},
   "outputs": [],
   "source": [
    "from sklearn.metrics import mean_squared_error, mean_absolute_error, r2_score\n"
   ]
  },
  {
   "cell_type": "code",
   "execution_count": 85,
   "metadata": {},
   "outputs": [],
   "source": [
    "r2_test = r2_score(y_test, y_test_pred)\n",
    "mse_test = mean_squared_error(y_test, y_test_pred)\n",
    "mae_test = mean_absolute_error(y_test, y_test_pred)"
   ]
  },
  {
   "cell_type": "code",
   "execution_count": 86,
   "metadata": {},
   "outputs": [
    {
     "name": "stdout",
     "output_type": "stream",
     "text": [
      "0.731208800795897\n"
     ]
    }
   ],
   "source": [
    "print(r2_test)"
   ]
  },
  {
   "cell_type": "code",
   "execution_count": 87,
   "metadata": {},
   "outputs": [
    {
     "name": "stdout",
     "output_type": "stream",
     "text": [
      "1309393.9976462615\n"
     ]
    }
   ],
   "source": [
    "print(mse_test)"
   ]
  },
  {
   "cell_type": "code",
   "execution_count": 88,
   "metadata": {},
   "outputs": [
    {
     "name": "stdout",
     "output_type": "stream",
     "text": [
      "836.8425056112676\n"
     ]
    }
   ],
   "source": [
    "print(mae_test)"
   ]
  },
  {
   "cell_type": "code",
   "execution_count": null,
   "metadata": {},
   "outputs": [],
   "source": []
  },
  {
   "cell_type": "markdown",
   "metadata": {},
   "source": [
    "problem cannot turn datetime into float"
   ]
  }
 ],
 "metadata": {
  "kernelspec": {
   "display_name": "Python 3.10.8 64-bit (microsoft store)",
   "language": "python",
   "name": "python3"
  },
  "language_info": {
   "codemirror_mode": {
    "name": "ipython",
    "version": 3
   },
   "file_extension": ".py",
   "mimetype": "text/x-python",
   "name": "python",
   "nbconvert_exporter": "python",
   "pygments_lexer": "ipython3",
   "version": "3.10.8"
  },
  "orig_nbformat": 4,
  "vscode": {
   "interpreter": {
    "hash": "f057ee858b85cb61ebf4db329176c41c101b87ce182c0543c232437d49c5b088"
   }
  }
 },
 "nbformat": 4,
 "nbformat_minor": 2
}
