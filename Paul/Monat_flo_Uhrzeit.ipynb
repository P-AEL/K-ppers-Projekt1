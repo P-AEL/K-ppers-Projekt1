{
 "cells": [
  {
   "cell_type": "code",
   "execution_count": 286,
   "metadata": {},
   "outputs": [],
   "source": [
    "import pandas as pd\n",
    "import plotly.express as px\n",
    "import matplotlib\n",
    "import plotly.graph_objects as go\n",
    "from plotly.subplots import make_subplots"
   ]
  },
  {
   "cell_type": "code",
   "execution_count": 277,
   "metadata": {},
   "outputs": [
    {
     "name": "stderr",
     "output_type": "stream",
     "text": [
      "/var/folders/f6/gs3z1yx9005b5dmpnd_z3t3m0000gn/T/ipykernel_35282/3777615979.py:1: DeprecationWarning:\n",
      "\n",
      "Importing display from IPython.core.display is deprecated since IPython 7.14, please import from IPython display\n",
      "\n"
     ]
    },
    {
     "data": {
      "text/html": [
       "<style>.container { width:100% !important; }</style>"
      ],
      "text/plain": [
       "<IPython.core.display.HTML object>"
      ]
     },
     "metadata": {},
     "output_type": "display_data"
    }
   ],
   "source": [
    "from IPython.core.display import display, HTML\n",
    "display(HTML(\"<style>.container { width:100% !important; }</style>\"))"
   ]
  },
  {
   "cell_type": "code",
   "execution_count": 278,
   "metadata": {},
   "outputs": [],
   "source": [
    "df_org_data = pd.read_parquet(\"escooter_history_2022.parquet\")"
   ]
  },
  {
   "cell_type": "code",
   "execution_count": 279,
   "metadata": {},
   "outputs": [],
   "source": [
    "df_org_data.holiday = df_org_data.holiday.astype(bool)\n",
    "df_org_data.workingday = df_org_data.workingday.astype(bool)\n",
    "df_org_data.loc[df_org_data.temp >45, \"temp\"] = df_org_data.temp.div(100)"
   ]
  },
  {
   "cell_type": "code",
   "execution_count": 280,
   "metadata": {},
   "outputs": [],
   "source": [
    "df = df_org_data.copy()\n",
    "df = pd.get_dummies(df, prefix=[\"w\"])"
   ]
  },
  {
   "cell_type": "code",
   "execution_count": 281,
   "metadata": {},
   "outputs": [
    {
     "data": {
      "text/html": [
       "<div>\n",
       "<style scoped>\n",
       "    .dataframe tbody tr th:only-of-type {\n",
       "        vertical-align: middle;\n",
       "    }\n",
       "\n",
       "    .dataframe tbody tr th {\n",
       "        vertical-align: top;\n",
       "    }\n",
       "\n",
       "    .dataframe thead th {\n",
       "        text-align: right;\n",
       "    }\n",
       "</style>\n",
       "<table border=\"1\" class=\"dataframe\">\n",
       "  <thead>\n",
       "    <tr style=\"text-align: right;\">\n",
       "      <th></th>\n",
       "      <th>datetime</th>\n",
       "      <th>registered_customer</th>\n",
       "      <th>month</th>\n",
       "      <th>year</th>\n",
       "    </tr>\n",
       "  </thead>\n",
       "  <tbody>\n",
       "    <tr>\n",
       "      <th>0</th>\n",
       "      <td>2020-01-04</td>\n",
       "      <td>985</td>\n",
       "      <td>1</td>\n",
       "      <td>2020</td>\n",
       "    </tr>\n",
       "    <tr>\n",
       "      <th>1</th>\n",
       "      <td>2020-01-05</td>\n",
       "      <td>801</td>\n",
       "      <td>1</td>\n",
       "      <td>2020</td>\n",
       "    </tr>\n",
       "    <tr>\n",
       "      <th>2</th>\n",
       "      <td>2020-01-06</td>\n",
       "      <td>1349</td>\n",
       "      <td>1</td>\n",
       "      <td>2020</td>\n",
       "    </tr>\n",
       "    <tr>\n",
       "      <th>3</th>\n",
       "      <td>2020-01-07</td>\n",
       "      <td>1562</td>\n",
       "      <td>1</td>\n",
       "      <td>2020</td>\n",
       "    </tr>\n",
       "    <tr>\n",
       "      <th>4</th>\n",
       "      <td>2020-01-08</td>\n",
       "      <td>1600</td>\n",
       "      <td>1</td>\n",
       "      <td>2020</td>\n",
       "    </tr>\n",
       "    <tr>\n",
       "      <th>...</th>\n",
       "      <td>...</td>\n",
       "      <td>...</td>\n",
       "      <td>...</td>\n",
       "      <td>...</td>\n",
       "    </tr>\n",
       "    <tr>\n",
       "      <th>726</th>\n",
       "      <td>2021-12-30</td>\n",
       "      <td>4231</td>\n",
       "      <td>12</td>\n",
       "      <td>2021</td>\n",
       "    </tr>\n",
       "    <tr>\n",
       "      <th>727</th>\n",
       "      <td>2021-12-31</td>\n",
       "      <td>8144</td>\n",
       "      <td>12</td>\n",
       "      <td>2021</td>\n",
       "    </tr>\n",
       "    <tr>\n",
       "      <th>728</th>\n",
       "      <td>2022-01-01</td>\n",
       "      <td>5932</td>\n",
       "      <td>1</td>\n",
       "      <td>2022</td>\n",
       "    </tr>\n",
       "    <tr>\n",
       "      <th>729</th>\n",
       "      <td>2022-01-02</td>\n",
       "      <td>5182</td>\n",
       "      <td>1</td>\n",
       "      <td>2022</td>\n",
       "    </tr>\n",
       "    <tr>\n",
       "      <th>730</th>\n",
       "      <td>2022-01-03</td>\n",
       "      <td>6302</td>\n",
       "      <td>1</td>\n",
       "      <td>2022</td>\n",
       "    </tr>\n",
       "  </tbody>\n",
       "</table>\n",
       "<p>731 rows × 4 columns</p>\n",
       "</div>"
      ],
      "text/plain": [
       "      datetime  registered_customer  month  year\n",
       "0   2020-01-04                  985      1  2020\n",
       "1   2020-01-05                  801      1  2020\n",
       "2   2020-01-06                 1349      1  2020\n",
       "3   2020-01-07                 1562      1  2020\n",
       "4   2020-01-08                 1600      1  2020\n",
       "..         ...                  ...    ...   ...\n",
       "726 2021-12-30                 4231     12  2021\n",
       "727 2021-12-31                 8144     12  2021\n",
       "728 2022-01-01                 5932      1  2022\n",
       "729 2022-01-02                 5182      1  2022\n",
       "730 2022-01-03                 6302      1  2022\n",
       "\n",
       "[731 rows x 4 columns]"
      ]
     },
     "execution_count": 281,
     "metadata": {},
     "output_type": "execute_result"
    }
   ],
   "source": [
    "df_box = df.groupby(pd.Grouper(key=\"datetime\",freq=\"D\")).agg({\"registered_customer\": \"count\"}).reset_index()\n",
    "df_box[\"month\"] = df_box.datetime.dt.month\n",
    "df_box[\"year\"] = df_box.datetime.dt.year\n",
    "df_box"
   ]
  },
  {
   "cell_type": "code",
   "execution_count": 430,
   "metadata": {},
   "outputs": [],
   "source": [
    "df_box_2020 = df_box.loc[df_box.year == 2020]\n",
    "df_box_2021 = df_box.loc[df_box.year == 2021]\n",
    "df_box_2022 = df_box.loc[df_box.year == 2022]"
   ]
  },
  {
   "cell_type": "code",
   "execution_count": 431,
   "metadata": {},
   "outputs": [
    {
     "data": {
      "application/vnd.plotly.v1+json": {
       "config": {
        "plotlyServerURL": "https://plot.ly"
       },
       "data": [
        {
         "alignmentgroup": "True",
         "boxpoints": "all",
         "hovertemplate": "Month=%{x}<br>Total Customers=%{y}<extra></extra>",
         "legendgroup": "",
         "marker": {
          "color": "#636efa"
         },
         "name": "",
         "notched": false,
         "offsetgroup": "",
         "orientation": "v",
         "showlegend": false,
         "type": "box",
         "x": [
          1,
          1,
          1,
          1,
          1,
          1,
          1,
          1,
          1,
          1,
          1,
          1,
          1,
          1,
          1,
          1,
          1,
          1,
          1,
          1,
          1,
          1,
          1,
          1,
          1,
          1,
          1,
          1,
          2,
          2,
          2,
          2,
          2,
          2,
          2,
          2,
          2,
          2,
          2,
          2,
          2,
          2,
          2,
          2,
          2,
          2,
          2,
          2,
          2,
          2,
          2,
          2,
          2,
          2,
          2,
          2,
          2,
          3,
          3,
          3,
          3,
          3,
          3,
          3,
          3,
          3,
          3,
          3,
          3,
          3,
          3,
          3,
          3,
          3,
          3,
          3,
          3,
          3,
          3,
          3,
          3,
          3,
          3,
          3,
          3,
          3,
          3,
          3,
          4,
          4,
          4,
          4,
          4,
          4,
          4,
          4,
          4,
          4,
          4,
          4,
          4,
          4,
          4,
          4,
          4,
          4,
          4,
          4,
          4,
          4,
          4,
          4,
          4,
          4,
          4,
          4,
          4,
          4,
          5,
          5,
          5,
          5,
          5,
          5,
          5,
          5,
          5,
          5,
          5,
          5,
          5,
          5,
          5,
          5,
          5,
          5,
          5,
          5,
          5,
          5,
          5,
          5,
          5,
          5,
          5,
          5,
          5,
          5,
          5,
          6,
          6,
          6,
          6,
          6,
          6,
          6,
          6,
          6,
          6,
          6,
          6,
          6,
          6,
          6,
          6,
          6,
          6,
          6,
          6,
          6,
          6,
          6,
          6,
          6,
          6,
          6,
          6,
          6,
          6,
          7,
          7,
          7,
          7,
          7,
          7,
          7,
          7,
          7,
          7,
          7,
          7,
          7,
          7,
          7,
          7,
          7,
          7,
          7,
          7,
          7,
          7,
          7,
          7,
          7,
          7,
          7,
          7,
          7,
          7,
          7,
          8,
          8,
          8,
          8,
          8,
          8,
          8,
          8,
          8,
          8,
          8,
          8,
          8,
          8,
          8,
          8,
          8,
          8,
          8,
          8,
          8,
          8,
          8,
          8,
          8,
          8,
          8,
          8,
          8,
          8,
          8,
          9,
          9,
          9,
          9,
          9,
          9,
          9,
          9,
          9,
          9,
          9,
          9,
          9,
          9,
          9,
          9,
          9,
          9,
          9,
          9,
          9,
          9,
          9,
          9,
          9,
          9,
          9,
          9,
          9,
          9,
          10,
          10,
          10,
          10,
          10,
          10,
          10,
          10,
          10,
          10,
          10,
          10,
          10,
          10,
          10,
          10,
          10,
          10,
          10,
          10,
          10,
          10,
          10,
          10,
          10,
          10,
          10,
          10,
          10,
          10,
          10,
          11,
          11,
          11,
          11,
          11,
          11,
          11,
          11,
          11,
          11,
          11,
          11,
          11,
          11,
          11,
          11,
          11,
          11,
          11,
          11,
          11,
          11,
          11,
          11,
          11,
          11,
          11,
          11,
          11,
          11,
          12,
          12,
          12,
          12,
          12,
          12,
          12,
          12,
          12,
          12,
          12,
          12,
          12,
          12,
          12,
          12,
          12,
          12,
          12,
          12,
          12,
          12,
          12,
          12,
          12,
          12,
          12,
          12,
          12,
          12,
          12
         ],
         "x0": " ",
         "xaxis": "x",
         "y": [
          985,
          801,
          1349,
          1562,
          1600,
          1606,
          1510,
          959,
          822,
          1321,
          1263,
          1162,
          1406,
          1421,
          1248,
          1204,
          1000,
          683,
          1650,
          1487,
          1283,
          863,
          818,
          1206,
          1515,
          412,
          674,
          2510,
          2106,
          1917,
          1924,
          1879,
          1932,
          1895,
          1972,
          1229,
          1781,
          1712,
          1530,
          1605,
          1538,
          1746,
          1472,
          1589,
          1913,
          1815,
          2115,
          2475,
          2927,
          1635,
          1584,
          1359,
          1636,
          1788,
          1565,
          1592,
          3339,
          3104,
          2254,
          2649,
          2795,
          2229,
          2352,
          2412,
          884,
          2106,
          2133,
          1891,
          623,
          1977,
          2132,
          2417,
          2046,
          2056,
          2192,
          2744,
          3239,
          3117,
          2029,
          2713,
          2889,
          1733,
          1995,
          2271,
          2158,
          2025,
          2142,
          4837,
          3767,
          3191,
          3451,
          3262,
          4037,
          3692,
          2295,
          3218,
          3435,
          1471,
          2455,
          2895,
          3348,
          2034,
          2162,
          3267,
          3126,
          795,
          3744,
          3429,
          3204,
          3516,
          3149,
          1583,
          3165,
          3560,
          3493,
          3429,
          2726,
          7114,
          6532,
          6207,
          5267,
          5920,
          5711,
          3610,
          5193,
          5204,
          5229,
          4333,
          4362,
          4803,
          4182,
          4864,
          4105,
          3409,
          4553,
          3958,
          4123,
          3855,
          4575,
          4985,
          5472,
          4868,
          3829,
          4242,
          4660,
          4439,
          4787,
          5230,
          8904,
          8688,
          7059,
          6351,
          6806,
          6844,
          6499,
          5890,
          5324,
          5446,
          4401,
          3915,
          4586,
          4966,
          4460,
          5020,
          4891,
          5180,
          3767,
          4844,
          5119,
          4744,
          4272,
          4198,
          4472,
          4561,
          5213,
          5606,
          5402,
          4617,
          9164,
          8607,
          7953,
          7850,
          7055,
          6179,
          7318,
          5621,
          5373,
          5256,
          4040,
          5336,
          4881,
          4086,
          4258,
          4342,
          5084,
          5538,
          5923,
          5302,
          4458,
          4541,
          4279,
          3967,
          3973,
          3874,
          4040,
          3975,
          4613,
          4743,
          4570,
          8111,
          8002,
          6796,
          6371,
          6574,
          4914,
          5620,
          5755,
          4979,
          4338,
          4326,
          4602,
          4780,
          4792,
          4905,
          4150,
          3820,
          4338,
          4725,
          4694,
          3805,
          4153,
          4903,
          4054,
          4547,
          4848,
          4642,
          3704,
          4357,
          1737,
          4369,
          8666,
          7872,
          7150,
          7100,
          6396,
          5784,
          5976,
          4206,
          3321,
          2558,
          1842,
          3544,
          5345,
          5046,
          4713,
          4763,
          4785,
          3659,
          4760,
          4511,
          4274,
          4539,
          3026,
          2788,
          2933,
          2299,
          4072,
          4123,
          3835,
          3405,
          7146,
          8070,
          7486,
          4494,
          4527,
          4827,
          5561,
          5626,
          5453,
          5489,
          5409,
          5511,
          5117,
          4563,
          2416,
          2913,
          3644,
          5217,
          5041,
          4570,
          4748,
          2424,
          3966,
          4438,
          4388,
          4286,
          4120,
          4593,
          3987,
          3217,
          3567,
          4920,
          6436,
          5934,
          5852,
          5600,
          5109,
          4952,
          4651,
          4242,
          4474,
          4205,
          4109,
          2933,
          3368,
          4067,
          3717,
          4486,
          4195,
          1817,
          3053,
          3392,
          3663,
          4043,
          2693,
          2420,
          3045,
          3493,
          4291,
          3827,
          4388,
          7538,
          5400,
          5489,
          5372,
          5236,
          4602,
          4321,
          4431,
          3150,
          1132,
          3322,
          3620,
          3190,
          2743,
          3310,
          3523,
          3740,
          3709,
          3577,
          2739,
          2431,
          3403,
          3967,
          1730,
          3030,
          2924,
          2589,
          2344,
          2514,
          2225,
          2792,
          5554
         ],
         "y0": " ",
         "yaxis": "y"
        }
       ],
       "layout": {
        "annotations": [
         {
          "font": {
           "color": "black"
          },
          "opacity": 0.3,
          "showarrow": false,
          "text": "Total Median 2020",
          "x": 0,
          "xanchor": "left",
          "xref": "x domain",
          "y": 3973,
          "yanchor": "bottom",
          "yref": "y"
         },
         {
          "arrowcolor": "darkred",
          "arrowhead": 1,
          "bgcolor": "white",
          "font": {
           "color": "darkred",
           "size": 10
          },
          "showarrow": true,
          "text": "below total median!",
          "x": 1,
          "y": 1255.5
         },
         {
          "arrowcolor": "darkred",
          "arrowhead": 1,
          "bgcolor": "white",
          "font": {
           "color": "darkred",
           "size": 10
          },
          "showarrow": true,
          "text": "below total median!",
          "x": 2,
          "y": 1781
         },
         {
          "arrowcolor": "darkred",
          "arrowhead": 1,
          "bgcolor": "white",
          "font": {
           "color": "darkred",
           "size": 10
          },
          "showarrow": true,
          "text": "below total median!",
          "x": 3,
          "y": 2192
         },
         {
          "arrowcolor": "darkred",
          "arrowhead": 1,
          "bgcolor": "white",
          "font": {
           "color": "darkred",
           "size": 10
          },
          "showarrow": true,
          "text": "below total median!",
          "x": 4,
          "y": 3240
         },
         {
          "arrowcolor": "darkgreen",
          "arrowhead": 1,
          "bgcolor": "white",
          "font": {
           "color": "darkgreen",
           "size": 10
          },
          "showarrow": true,
          "text": "above total median!",
          "x": 5,
          "y": 4787
         },
         {
          "arrowcolor": "darkgreen",
          "arrowhead": 1,
          "bgcolor": "white",
          "font": {
           "color": "darkgreen",
           "size": 10
          },
          "showarrow": true,
          "text": "above total median!",
          "x": 6,
          "y": 5069.5
         },
         {
          "arrowcolor": "darkgreen",
          "arrowhead": 1,
          "bgcolor": "white",
          "font": {
           "color": "darkgreen",
           "size": 10
          },
          "showarrow": true,
          "text": "above total median!",
          "x": 7,
          "y": 4881
         },
         {
          "arrowcolor": "darkgreen",
          "arrowhead": 1,
          "bgcolor": "white",
          "font": {
           "color": "darkgreen",
           "size": 10
          },
          "showarrow": true,
          "text": "above total median!",
          "x": 8,
          "y": 4694
         },
         {
          "arrowcolor": "darkgreen",
          "arrowhead": 1,
          "bgcolor": "white",
          "font": {
           "color": "darkgreen",
           "size": 10
          },
          "showarrow": true,
          "text": "above total median!",
          "x": 9,
          "y": 4392.5
         },
         {
          "arrowcolor": "darkgreen",
          "arrowhead": 1,
          "bgcolor": "white",
          "font": {
           "color": "darkgreen",
           "size": 10
          },
          "showarrow": true,
          "text": "above total median!",
          "x": 10,
          "y": 4570
         },
         {
          "arrowcolor": "darkgreen",
          "arrowhead": 1,
          "bgcolor": "white",
          "font": {
           "color": "darkgreen",
           "size": 10
          },
          "showarrow": true,
          "text": "above total median!",
          "x": 11,
          "y": 4152
         },
         {
          "arrowcolor": "darkred",
          "arrowhead": 1,
          "bgcolor": "white",
          "font": {
           "color": "darkred",
           "size": 10
          },
          "showarrow": true,
          "text": "below total median!",
          "x": 12,
          "y": 3322
         }
        ],
        "boxmode": "group",
        "legend": {
         "tracegroupgap": 0
        },
        "margin": {
         "t": 60
        },
        "shapes": [
         {
          "layer": "below",
          "line": {
           "color": "black",
           "dash": "dot"
          },
          "opacity": 0.3,
          "type": "line",
          "x0": 0,
          "x1": 1,
          "xref": "x domain",
          "y0": 3973,
          "y1": 3973,
          "yref": "y"
         }
        ],
        "template": {
         "data": {
          "bar": [
           {
            "error_x": {
             "color": "#2a3f5f"
            },
            "error_y": {
             "color": "#2a3f5f"
            },
            "marker": {
             "line": {
              "color": "#E5ECF6",
              "width": 0.5
             },
             "pattern": {
              "fillmode": "overlay",
              "size": 10,
              "solidity": 0.2
             }
            },
            "type": "bar"
           }
          ],
          "barpolar": [
           {
            "marker": {
             "line": {
              "color": "#E5ECF6",
              "width": 0.5
             },
             "pattern": {
              "fillmode": "overlay",
              "size": 10,
              "solidity": 0.2
             }
            },
            "type": "barpolar"
           }
          ],
          "carpet": [
           {
            "aaxis": {
             "endlinecolor": "#2a3f5f",
             "gridcolor": "white",
             "linecolor": "white",
             "minorgridcolor": "white",
             "startlinecolor": "#2a3f5f"
            },
            "baxis": {
             "endlinecolor": "#2a3f5f",
             "gridcolor": "white",
             "linecolor": "white",
             "minorgridcolor": "white",
             "startlinecolor": "#2a3f5f"
            },
            "type": "carpet"
           }
          ],
          "choropleth": [
           {
            "colorbar": {
             "outlinewidth": 0,
             "ticks": ""
            },
            "type": "choropleth"
           }
          ],
          "contour": [
           {
            "colorbar": {
             "outlinewidth": 0,
             "ticks": ""
            },
            "colorscale": [
             [
              0,
              "#0d0887"
             ],
             [
              0.1111111111111111,
              "#46039f"
             ],
             [
              0.2222222222222222,
              "#7201a8"
             ],
             [
              0.3333333333333333,
              "#9c179e"
             ],
             [
              0.4444444444444444,
              "#bd3786"
             ],
             [
              0.5555555555555556,
              "#d8576b"
             ],
             [
              0.6666666666666666,
              "#ed7953"
             ],
             [
              0.7777777777777778,
              "#fb9f3a"
             ],
             [
              0.8888888888888888,
              "#fdca26"
             ],
             [
              1,
              "#f0f921"
             ]
            ],
            "type": "contour"
           }
          ],
          "contourcarpet": [
           {
            "colorbar": {
             "outlinewidth": 0,
             "ticks": ""
            },
            "type": "contourcarpet"
           }
          ],
          "heatmap": [
           {
            "colorbar": {
             "outlinewidth": 0,
             "ticks": ""
            },
            "colorscale": [
             [
              0,
              "#0d0887"
             ],
             [
              0.1111111111111111,
              "#46039f"
             ],
             [
              0.2222222222222222,
              "#7201a8"
             ],
             [
              0.3333333333333333,
              "#9c179e"
             ],
             [
              0.4444444444444444,
              "#bd3786"
             ],
             [
              0.5555555555555556,
              "#d8576b"
             ],
             [
              0.6666666666666666,
              "#ed7953"
             ],
             [
              0.7777777777777778,
              "#fb9f3a"
             ],
             [
              0.8888888888888888,
              "#fdca26"
             ],
             [
              1,
              "#f0f921"
             ]
            ],
            "type": "heatmap"
           }
          ],
          "heatmapgl": [
           {
            "colorbar": {
             "outlinewidth": 0,
             "ticks": ""
            },
            "colorscale": [
             [
              0,
              "#0d0887"
             ],
             [
              0.1111111111111111,
              "#46039f"
             ],
             [
              0.2222222222222222,
              "#7201a8"
             ],
             [
              0.3333333333333333,
              "#9c179e"
             ],
             [
              0.4444444444444444,
              "#bd3786"
             ],
             [
              0.5555555555555556,
              "#d8576b"
             ],
             [
              0.6666666666666666,
              "#ed7953"
             ],
             [
              0.7777777777777778,
              "#fb9f3a"
             ],
             [
              0.8888888888888888,
              "#fdca26"
             ],
             [
              1,
              "#f0f921"
             ]
            ],
            "type": "heatmapgl"
           }
          ],
          "histogram": [
           {
            "marker": {
             "pattern": {
              "fillmode": "overlay",
              "size": 10,
              "solidity": 0.2
             }
            },
            "type": "histogram"
           }
          ],
          "histogram2d": [
           {
            "colorbar": {
             "outlinewidth": 0,
             "ticks": ""
            },
            "colorscale": [
             [
              0,
              "#0d0887"
             ],
             [
              0.1111111111111111,
              "#46039f"
             ],
             [
              0.2222222222222222,
              "#7201a8"
             ],
             [
              0.3333333333333333,
              "#9c179e"
             ],
             [
              0.4444444444444444,
              "#bd3786"
             ],
             [
              0.5555555555555556,
              "#d8576b"
             ],
             [
              0.6666666666666666,
              "#ed7953"
             ],
             [
              0.7777777777777778,
              "#fb9f3a"
             ],
             [
              0.8888888888888888,
              "#fdca26"
             ],
             [
              1,
              "#f0f921"
             ]
            ],
            "type": "histogram2d"
           }
          ],
          "histogram2dcontour": [
           {
            "colorbar": {
             "outlinewidth": 0,
             "ticks": ""
            },
            "colorscale": [
             [
              0,
              "#0d0887"
             ],
             [
              0.1111111111111111,
              "#46039f"
             ],
             [
              0.2222222222222222,
              "#7201a8"
             ],
             [
              0.3333333333333333,
              "#9c179e"
             ],
             [
              0.4444444444444444,
              "#bd3786"
             ],
             [
              0.5555555555555556,
              "#d8576b"
             ],
             [
              0.6666666666666666,
              "#ed7953"
             ],
             [
              0.7777777777777778,
              "#fb9f3a"
             ],
             [
              0.8888888888888888,
              "#fdca26"
             ],
             [
              1,
              "#f0f921"
             ]
            ],
            "type": "histogram2dcontour"
           }
          ],
          "mesh3d": [
           {
            "colorbar": {
             "outlinewidth": 0,
             "ticks": ""
            },
            "type": "mesh3d"
           }
          ],
          "parcoords": [
           {
            "line": {
             "colorbar": {
              "outlinewidth": 0,
              "ticks": ""
             }
            },
            "type": "parcoords"
           }
          ],
          "pie": [
           {
            "automargin": true,
            "type": "pie"
           }
          ],
          "scatter": [
           {
            "fillpattern": {
             "fillmode": "overlay",
             "size": 10,
             "solidity": 0.2
            },
            "type": "scatter"
           }
          ],
          "scatter3d": [
           {
            "line": {
             "colorbar": {
              "outlinewidth": 0,
              "ticks": ""
             }
            },
            "marker": {
             "colorbar": {
              "outlinewidth": 0,
              "ticks": ""
             }
            },
            "type": "scatter3d"
           }
          ],
          "scattercarpet": [
           {
            "marker": {
             "colorbar": {
              "outlinewidth": 0,
              "ticks": ""
             }
            },
            "type": "scattercarpet"
           }
          ],
          "scattergeo": [
           {
            "marker": {
             "colorbar": {
              "outlinewidth": 0,
              "ticks": ""
             }
            },
            "type": "scattergeo"
           }
          ],
          "scattergl": [
           {
            "marker": {
             "colorbar": {
              "outlinewidth": 0,
              "ticks": ""
             }
            },
            "type": "scattergl"
           }
          ],
          "scattermapbox": [
           {
            "marker": {
             "colorbar": {
              "outlinewidth": 0,
              "ticks": ""
             }
            },
            "type": "scattermapbox"
           }
          ],
          "scatterpolar": [
           {
            "marker": {
             "colorbar": {
              "outlinewidth": 0,
              "ticks": ""
             }
            },
            "type": "scatterpolar"
           }
          ],
          "scatterpolargl": [
           {
            "marker": {
             "colorbar": {
              "outlinewidth": 0,
              "ticks": ""
             }
            },
            "type": "scatterpolargl"
           }
          ],
          "scatterternary": [
           {
            "marker": {
             "colorbar": {
              "outlinewidth": 0,
              "ticks": ""
             }
            },
            "type": "scatterternary"
           }
          ],
          "surface": [
           {
            "colorbar": {
             "outlinewidth": 0,
             "ticks": ""
            },
            "colorscale": [
             [
              0,
              "#0d0887"
             ],
             [
              0.1111111111111111,
              "#46039f"
             ],
             [
              0.2222222222222222,
              "#7201a8"
             ],
             [
              0.3333333333333333,
              "#9c179e"
             ],
             [
              0.4444444444444444,
              "#bd3786"
             ],
             [
              0.5555555555555556,
              "#d8576b"
             ],
             [
              0.6666666666666666,
              "#ed7953"
             ],
             [
              0.7777777777777778,
              "#fb9f3a"
             ],
             [
              0.8888888888888888,
              "#fdca26"
             ],
             [
              1,
              "#f0f921"
             ]
            ],
            "type": "surface"
           }
          ],
          "table": [
           {
            "cells": {
             "fill": {
              "color": "#EBF0F8"
             },
             "line": {
              "color": "white"
             }
            },
            "header": {
             "fill": {
              "color": "#C8D4E3"
             },
             "line": {
              "color": "white"
             }
            },
            "type": "table"
           }
          ]
         },
         "layout": {
          "annotationdefaults": {
           "arrowcolor": "#2a3f5f",
           "arrowhead": 0,
           "arrowwidth": 1
          },
          "autotypenumbers": "strict",
          "coloraxis": {
           "colorbar": {
            "outlinewidth": 0,
            "ticks": ""
           }
          },
          "colorscale": {
           "diverging": [
            [
             0,
             "#8e0152"
            ],
            [
             0.1,
             "#c51b7d"
            ],
            [
             0.2,
             "#de77ae"
            ],
            [
             0.3,
             "#f1b6da"
            ],
            [
             0.4,
             "#fde0ef"
            ],
            [
             0.5,
             "#f7f7f7"
            ],
            [
             0.6,
             "#e6f5d0"
            ],
            [
             0.7,
             "#b8e186"
            ],
            [
             0.8,
             "#7fbc41"
            ],
            [
             0.9,
             "#4d9221"
            ],
            [
             1,
             "#276419"
            ]
           ],
           "sequential": [
            [
             0,
             "#0d0887"
            ],
            [
             0.1111111111111111,
             "#46039f"
            ],
            [
             0.2222222222222222,
             "#7201a8"
            ],
            [
             0.3333333333333333,
             "#9c179e"
            ],
            [
             0.4444444444444444,
             "#bd3786"
            ],
            [
             0.5555555555555556,
             "#d8576b"
            ],
            [
             0.6666666666666666,
             "#ed7953"
            ],
            [
             0.7777777777777778,
             "#fb9f3a"
            ],
            [
             0.8888888888888888,
             "#fdca26"
            ],
            [
             1,
             "#f0f921"
            ]
           ],
           "sequentialminus": [
            [
             0,
             "#0d0887"
            ],
            [
             0.1111111111111111,
             "#46039f"
            ],
            [
             0.2222222222222222,
             "#7201a8"
            ],
            [
             0.3333333333333333,
             "#9c179e"
            ],
            [
             0.4444444444444444,
             "#bd3786"
            ],
            [
             0.5555555555555556,
             "#d8576b"
            ],
            [
             0.6666666666666666,
             "#ed7953"
            ],
            [
             0.7777777777777778,
             "#fb9f3a"
            ],
            [
             0.8888888888888888,
             "#fdca26"
            ],
            [
             1,
             "#f0f921"
            ]
           ]
          },
          "colorway": [
           "#636efa",
           "#EF553B",
           "#00cc96",
           "#ab63fa",
           "#FFA15A",
           "#19d3f3",
           "#FF6692",
           "#B6E880",
           "#FF97FF",
           "#FECB52"
          ],
          "font": {
           "color": "#2a3f5f"
          },
          "geo": {
           "bgcolor": "white",
           "lakecolor": "white",
           "landcolor": "#E5ECF6",
           "showlakes": true,
           "showland": true,
           "subunitcolor": "white"
          },
          "hoverlabel": {
           "align": "left"
          },
          "hovermode": "closest",
          "mapbox": {
           "style": "light"
          },
          "paper_bgcolor": "white",
          "plot_bgcolor": "#E5ECF6",
          "polar": {
           "angularaxis": {
            "gridcolor": "white",
            "linecolor": "white",
            "ticks": ""
           },
           "bgcolor": "#E5ECF6",
           "radialaxis": {
            "gridcolor": "white",
            "linecolor": "white",
            "ticks": ""
           }
          },
          "scene": {
           "xaxis": {
            "backgroundcolor": "#E5ECF6",
            "gridcolor": "white",
            "gridwidth": 2,
            "linecolor": "white",
            "showbackground": true,
            "ticks": "",
            "zerolinecolor": "white"
           },
           "yaxis": {
            "backgroundcolor": "#E5ECF6",
            "gridcolor": "white",
            "gridwidth": 2,
            "linecolor": "white",
            "showbackground": true,
            "ticks": "",
            "zerolinecolor": "white"
           },
           "zaxis": {
            "backgroundcolor": "#E5ECF6",
            "gridcolor": "white",
            "gridwidth": 2,
            "linecolor": "white",
            "showbackground": true,
            "ticks": "",
            "zerolinecolor": "white"
           }
          },
          "shapedefaults": {
           "line": {
            "color": "#2a3f5f"
           }
          },
          "ternary": {
           "aaxis": {
            "gridcolor": "white",
            "linecolor": "white",
            "ticks": ""
           },
           "baxis": {
            "gridcolor": "white",
            "linecolor": "white",
            "ticks": ""
           },
           "bgcolor": "#E5ECF6",
           "caxis": {
            "gridcolor": "white",
            "linecolor": "white",
            "ticks": ""
           }
          },
          "title": {
           "x": 0.05
          },
          "xaxis": {
           "automargin": true,
           "gridcolor": "white",
           "linecolor": "white",
           "ticks": "",
           "title": {
            "standoff": 15
           },
           "zerolinecolor": "white",
           "zerolinewidth": 2
          },
          "yaxis": {
           "automargin": true,
           "gridcolor": "white",
           "linecolor": "white",
           "ticks": "",
           "title": {
            "standoff": 15
           },
           "zerolinecolor": "white",
           "zerolinewidth": 2
          }
         }
        },
        "title": {
         "text": "<b>Boxplot of total monthly Customers</b>"
        },
        "xaxis": {
         "anchor": "y",
         "domain": [
          0,
          1
         ],
         "title": {
          "text": "Month"
         }
        },
        "yaxis": {
         "anchor": "x",
         "domain": [
          0,
          1
         ],
         "title": {
          "text": "Total Customers"
         }
        }
       }
      }
     },
     "metadata": {},
     "output_type": "display_data"
    }
   ],
   "source": [
    "fig= px.box(\n",
    " x= df_box_2020.month,\n",
    " y=df_box_2020.registered_customer,\n",
    " points= \"all\",\n",
    " labels= dict(x= \"Month\", y= \"Total Customers\")\n",
    ")\n",
    "\n",
    "fig.add_hline(\n",
    " y= df_box_2020.registered_customer.median(),\n",
    " opacity = 0.3,\n",
    " line_dash= \"dot\",\n",
    " line_color= \"black\",\n",
    " layer= \"below\",\n",
    " annotation_text= \"Total Median 2020\",\n",
    " annotation_position= \"top left\",\n",
    " annotation_font_color= \"black\",\n",
    ")\n",
    "\n",
    "fig.update_annotations(opacity= 0.3)\n",
    "\n",
    "for month in df_box_2020.month.unique():\n",
    "  prefix= \"same as\"\n",
    "  color= \"grey\"\n",
    "  if df_box_2020.registered_customer.median() < df_box_2020[df_box_2020.month == month].registered_customer.median():\n",
    "   prefix= \"above\"\n",
    "   color= \"darkgreen\"\n",
    "  elif df_box_2020.registered_customer.median() > df_box_2020[df_box_2020.month == month].registered_customer.median():\n",
    "   prefix= \"below\"\n",
    "   color= \"darkred\"\n",
    "\n",
    "  fig.add_annotation(\n",
    "    text=f\"{prefix} total median!\", x=month, y= df_box_2020[df_box_2020.month == month].registered_customer.median(),\n",
    "        arrowhead=1, showarrow=True, arrowcolor=color,        \n",
    "        bgcolor='white',\n",
    "        font=dict(size=10, color=color)\n",
    "   )\n",
    "fig.update_layout(title= dict(text= \"<b>Boxplot of total monthly Customers</b>\"))\n",
    "fig.show()\n"
   ]
  },
  {
   "cell_type": "markdown",
   "metadata": {},
   "source": [
    "#### kann ich noch ohne annotations sondern mit color vom boxplot zu machen "
   ]
  },
  {
   "cell_type": "code",
   "execution_count": 449,
   "metadata": {},
   "outputs": [],
   "source": [
    "color = []\n",
    "for month in df_box_2020.month.unique():\n",
    "  color= \"grey\"\n",
    "  if df_box_2020.registered_customer.median() < df_box_2020[df_box_2020.month == month].registered_customer.median():\n",
    "   color= \"red\"\n",
    "  elif df_box_2020.registered_customer.median() > df_box_2020[df_box_2020.month == month].registered_customer.median():\n",
    "   color= \"green\""
   ]
  },
  {
   "cell_type": "code",
   "execution_count": 450,
   "metadata": {},
   "outputs": [
    {
     "name": "stderr",
     "output_type": "stream",
     "text": [
      "/var/folders/f6/gs3z1yx9005b5dmpnd_z3t3m0000gn/T/ipykernel_35282/4193406647.py:1: SettingWithCopyWarning:\n",
      "\n",
      "\n",
      "A value is trying to be set on a copy of a slice from a DataFrame.\n",
      "Try using .loc[row_indexer,col_indexer] = value instead\n",
      "\n",
      "See the caveats in the documentation: https://pandas.pydata.org/pandas-docs/stable/user_guide/indexing.html#returning-a-view-versus-a-copy\n",
      "\n"
     ]
    }
   ],
   "source": [
    "df_box_2020[\"color\"] = color"
   ]
  },
  {
   "cell_type": "code",
   "execution_count": 542,
   "metadata": {},
   "outputs": [
    {
     "data": {
      "application/vnd.plotly.v1+json": {
       "config": {
        "plotlyServerURL": "https://plot.ly"
       },
       "data": [
        {
         "boxpoints": "all",
         "fillcolor": "grey",
         "jitter": 0.5,
         "line": {
          "width": 1
         },
         "marker": {
          "color": "rgb(0, 0, 0)",
          "size": 2
         },
         "type": "box",
         "whiskerwidth": 0.2,
         "x": [
          1,
          1,
          1,
          1,
          1,
          1,
          1,
          1,
          1,
          1,
          1,
          1,
          1,
          1,
          1,
          1,
          1,
          1,
          1,
          1,
          1,
          1,
          1,
          1,
          1,
          1,
          1,
          1,
          2,
          2,
          2,
          2,
          2,
          2,
          2,
          2,
          2,
          2,
          2,
          2,
          2,
          2,
          2,
          2,
          2,
          2,
          2,
          2,
          2,
          2,
          2,
          2,
          2,
          2,
          2,
          2,
          2,
          3,
          3,
          3,
          3,
          3,
          3,
          3,
          3,
          3,
          3,
          3,
          3,
          3,
          3,
          3,
          3,
          3,
          3,
          3,
          3,
          3,
          3,
          3,
          3,
          3,
          3,
          3,
          3,
          3,
          3,
          3,
          4,
          4,
          4,
          4,
          4,
          4,
          4,
          4,
          4,
          4,
          4,
          4,
          4,
          4,
          4,
          4,
          4,
          4,
          4,
          4,
          4,
          4,
          4,
          4,
          4,
          4,
          4,
          4,
          4,
          4,
          5,
          5,
          5,
          5,
          5,
          5,
          5,
          5,
          5,
          5,
          5,
          5,
          5,
          5,
          5,
          5,
          5,
          5,
          5,
          5,
          5,
          5,
          5,
          5,
          5,
          5,
          5,
          5,
          5,
          5,
          5,
          6,
          6,
          6,
          6,
          6,
          6,
          6,
          6,
          6,
          6,
          6,
          6,
          6,
          6,
          6,
          6,
          6,
          6,
          6,
          6,
          6,
          6,
          6,
          6,
          6,
          6,
          6,
          6,
          6,
          6,
          7,
          7,
          7,
          7,
          7,
          7,
          7,
          7,
          7,
          7,
          7,
          7,
          7,
          7,
          7,
          7,
          7,
          7,
          7,
          7,
          7,
          7,
          7,
          7,
          7,
          7,
          7,
          7,
          7,
          7,
          7,
          8,
          8,
          8,
          8,
          8,
          8,
          8,
          8,
          8,
          8,
          8,
          8,
          8,
          8,
          8,
          8,
          8,
          8,
          8,
          8,
          8,
          8,
          8,
          8,
          8,
          8,
          8,
          8,
          8,
          8,
          8,
          9,
          9,
          9,
          9,
          9,
          9,
          9,
          9,
          9,
          9,
          9,
          9,
          9,
          9,
          9,
          9,
          9,
          9,
          9,
          9,
          9,
          9,
          9,
          9,
          9,
          9,
          9,
          9,
          9,
          9,
          10,
          10,
          10,
          10,
          10,
          10,
          10,
          10,
          10,
          10,
          10,
          10,
          10,
          10,
          10,
          10,
          10,
          10,
          10,
          10,
          10,
          10,
          10,
          10,
          10,
          10,
          10,
          10,
          10,
          10,
          10,
          11,
          11,
          11,
          11,
          11,
          11,
          11,
          11,
          11,
          11,
          11,
          11,
          11,
          11,
          11,
          11,
          11,
          11,
          11,
          11,
          11,
          11,
          11,
          11,
          11,
          11,
          11,
          11,
          11,
          11,
          12,
          12,
          12,
          12,
          12,
          12,
          12,
          12,
          12,
          12,
          12,
          12,
          12,
          12,
          12,
          12,
          12,
          12,
          12,
          12,
          12,
          12,
          12,
          12,
          12,
          12,
          12,
          12,
          12,
          12,
          12,
          null
         ],
         "y": [
          985,
          801,
          1349,
          1562,
          1600,
          1606,
          1510,
          959,
          822,
          1321,
          1263,
          1162,
          1406,
          1421,
          1248,
          1204,
          1000,
          683,
          1650,
          1487,
          1283,
          863,
          818,
          1206,
          1515,
          412,
          674,
          2510,
          2106,
          1917,
          1924,
          1879,
          1932,
          1895,
          1972,
          1229,
          1781,
          1712,
          1530,
          1605,
          1538,
          1746,
          1472,
          1589,
          1913,
          1815,
          2115,
          2475,
          2927,
          1635,
          1584,
          1359,
          1636,
          1788,
          1565,
          1592,
          3339,
          3104,
          2254,
          2649,
          2795,
          2229,
          2352,
          2412,
          884,
          2106,
          2133,
          1891,
          623,
          1977,
          2132,
          2417,
          2046,
          2056,
          2192,
          2744,
          3239,
          3117,
          2029,
          2713,
          2889,
          1733,
          1995,
          2271,
          2158,
          2025,
          2142,
          4837,
          3767,
          3191,
          3451,
          3262,
          4037,
          3692,
          2295,
          3218,
          3435,
          1471,
          2455,
          2895,
          3348,
          2034,
          2162,
          3267,
          3126,
          795,
          3744,
          3429,
          3204,
          3516,
          3149,
          1583,
          3165,
          3560,
          3493,
          3429,
          2726,
          7114,
          6532,
          6207,
          5267,
          5920,
          5711,
          3610,
          5193,
          5204,
          5229,
          4333,
          4362,
          4803,
          4182,
          4864,
          4105,
          3409,
          4553,
          3958,
          4123,
          3855,
          4575,
          4985,
          5472,
          4868,
          3829,
          4242,
          4660,
          4439,
          4787,
          5230,
          8904,
          8688,
          7059,
          6351,
          6806,
          6844,
          6499,
          5890,
          5324,
          5446,
          4401,
          3915,
          4586,
          4966,
          4460,
          5020,
          4891,
          5180,
          3767,
          4844,
          5119,
          4744,
          4272,
          4198,
          4472,
          4561,
          5213,
          5606,
          5402,
          4617,
          9164,
          8607,
          7953,
          7850,
          7055,
          6179,
          7318,
          5621,
          5373,
          5256,
          4040,
          5336,
          4881,
          4086,
          4258,
          4342,
          5084,
          5538,
          5923,
          5302,
          4458,
          4541,
          4279,
          3967,
          3973,
          3874,
          4040,
          3975,
          4613,
          4743,
          4570,
          8111,
          8002,
          6796,
          6371,
          6574,
          4914,
          5620,
          5755,
          4979,
          4338,
          4326,
          4602,
          4780,
          4792,
          4905,
          4150,
          3820,
          4338,
          4725,
          4694,
          3805,
          4153,
          4903,
          4054,
          4547,
          4848,
          4642,
          3704,
          4357,
          1737,
          4369,
          8666,
          7872,
          7150,
          7100,
          6396,
          5784,
          5976,
          4206,
          3321,
          2558,
          1842,
          3544,
          5345,
          5046,
          4713,
          4763,
          4785,
          3659,
          4760,
          4511,
          4274,
          4539,
          3026,
          2788,
          2933,
          2299,
          4072,
          4123,
          3835,
          3405,
          7146,
          8070,
          7486,
          4494,
          4527,
          4827,
          5561,
          5626,
          5453,
          5489,
          5409,
          5511,
          5117,
          4563,
          2416,
          2913,
          3644,
          5217,
          5041,
          4570,
          4748,
          2424,
          3966,
          4438,
          4388,
          4286,
          4120,
          4593,
          3987,
          3217,
          3567,
          4920,
          6436,
          5934,
          5852,
          5600,
          5109,
          4952,
          4651,
          4242,
          4474,
          4205,
          4109,
          2933,
          3368,
          4067,
          3717,
          4486,
          4195,
          1817,
          3053,
          3392,
          3663,
          4043,
          2693,
          2420,
          3045,
          3493,
          4291,
          3827,
          4388,
          7538,
          5400,
          5489,
          5372,
          5236,
          4602,
          4321,
          4431,
          3150,
          1132,
          3322,
          3620,
          3190,
          2743,
          3310,
          3523,
          3740,
          3709,
          3577,
          2739,
          2431,
          3403,
          3967,
          1730,
          3030,
          2924,
          2589,
          2344,
          2514,
          2225,
          2792,
          5554,
          null
         ]
        }
       ],
       "layout": {
        "annotations": [
         {
          "arrowcolor": "darkred",
          "arrowhead": 1,
          "bgcolor": "white",
          "font": {
           "color": "darkred",
           "size": 10
          },
          "opacity": 0.6,
          "showarrow": true,
          "text": "below total median!",
          "x": 1,
          "y": 1255.5
         },
         {
          "arrowcolor": "darkred",
          "arrowhead": 1,
          "bgcolor": "white",
          "font": {
           "color": "darkred",
           "size": 10
          },
          "opacity": 0.6,
          "showarrow": true,
          "text": "below total median!",
          "x": 2,
          "y": 1781
         },
         {
          "arrowcolor": "darkred",
          "arrowhead": 1,
          "bgcolor": "white",
          "font": {
           "color": "darkred",
           "size": 10
          },
          "opacity": 0.6,
          "showarrow": true,
          "text": "below total median!",
          "x": 3,
          "y": 2192
         },
         {
          "arrowcolor": "darkred",
          "arrowhead": 1,
          "bgcolor": "white",
          "font": {
           "color": "darkred",
           "size": 10
          },
          "opacity": 0.6,
          "showarrow": true,
          "text": "below total median!",
          "x": 4,
          "y": 3240
         },
         {
          "arrowcolor": "darkgreen",
          "arrowhead": 1,
          "bgcolor": "white",
          "font": {
           "color": "darkgreen",
           "size": 10
          },
          "opacity": 0.6,
          "showarrow": true,
          "text": "above total median!",
          "x": 5,
          "y": 4787
         },
         {
          "arrowcolor": "darkgreen",
          "arrowhead": 1,
          "bgcolor": "white",
          "font": {
           "color": "darkgreen",
           "size": 10
          },
          "opacity": 0.6,
          "showarrow": true,
          "text": "above total median!",
          "x": 6,
          "y": 5069.5
         },
         {
          "arrowcolor": "darkgreen",
          "arrowhead": 1,
          "bgcolor": "white",
          "font": {
           "color": "darkgreen",
           "size": 10
          },
          "opacity": 0.6,
          "showarrow": true,
          "text": "above total median!",
          "x": 7,
          "y": 4881
         },
         {
          "arrowcolor": "darkgreen",
          "arrowhead": 1,
          "bgcolor": "white",
          "font": {
           "color": "darkgreen",
           "size": 10
          },
          "opacity": 0.6,
          "showarrow": true,
          "text": "above total median!",
          "x": 8,
          "y": 4694
         },
         {
          "arrowcolor": "darkgreen",
          "arrowhead": 1,
          "bgcolor": "white",
          "font": {
           "color": "darkgreen",
           "size": 10
          },
          "opacity": 0.6,
          "showarrow": true,
          "text": "above total median!",
          "x": 9,
          "y": 4392.5
         },
         {
          "arrowcolor": "darkgreen",
          "arrowhead": 1,
          "bgcolor": "white",
          "font": {
           "color": "darkgreen",
           "size": 10
          },
          "opacity": 0.6,
          "showarrow": true,
          "text": "above total median!",
          "x": 10,
          "y": 4570
         },
         {
          "arrowcolor": "darkgreen",
          "arrowhead": 1,
          "bgcolor": "white",
          "font": {
           "color": "darkgreen",
           "size": 10
          },
          "opacity": 0.6,
          "showarrow": true,
          "text": "above total median!",
          "x": 11,
          "y": 4152
         },
         {
          "arrowcolor": "darkred",
          "arrowhead": 1,
          "bgcolor": "white",
          "font": {
           "color": "darkred",
           "size": 10
          },
          "opacity": 0.6,
          "showarrow": true,
          "text": "below total median!",
          "x": 12,
          "y": 3322
         },
         {
          "arrowcolor": "darkred",
          "arrowhead": 1,
          "bgcolor": "white",
          "font": {
           "color": "darkred",
           "size": 10
          },
          "opacity": 0.6,
          "showarrow": true,
          "text": "below total median!",
          "x": null,
          "y": null
         },
         {
          "font": {
           "color": "black"
          },
          "opacity": 0.6,
          "showarrow": false,
          "text": "Total Median 2020",
          "x": 0,
          "xanchor": "left",
          "xref": "x domain",
          "y": 3973,
          "yanchor": "bottom",
          "yref": "y"
         }
        ],
        "shapes": [
         {
          "layer": "below",
          "line": {
           "color": "black",
           "dash": "dot"
          },
          "opacity": 0.5,
          "type": "line",
          "x0": 0,
          "x1": 1,
          "xref": "x domain",
          "y0": 3973,
          "y1": 3973,
          "yref": "y"
         }
        ],
        "template": {
         "data": {
          "bar": [
           {
            "error_x": {
             "color": "#2a3f5f"
            },
            "error_y": {
             "color": "#2a3f5f"
            },
            "marker": {
             "line": {
              "color": "#E5ECF6",
              "width": 0.5
             },
             "pattern": {
              "fillmode": "overlay",
              "size": 10,
              "solidity": 0.2
             }
            },
            "type": "bar"
           }
          ],
          "barpolar": [
           {
            "marker": {
             "line": {
              "color": "#E5ECF6",
              "width": 0.5
             },
             "pattern": {
              "fillmode": "overlay",
              "size": 10,
              "solidity": 0.2
             }
            },
            "type": "barpolar"
           }
          ],
          "carpet": [
           {
            "aaxis": {
             "endlinecolor": "#2a3f5f",
             "gridcolor": "white",
             "linecolor": "white",
             "minorgridcolor": "white",
             "startlinecolor": "#2a3f5f"
            },
            "baxis": {
             "endlinecolor": "#2a3f5f",
             "gridcolor": "white",
             "linecolor": "white",
             "minorgridcolor": "white",
             "startlinecolor": "#2a3f5f"
            },
            "type": "carpet"
           }
          ],
          "choropleth": [
           {
            "colorbar": {
             "outlinewidth": 0,
             "ticks": ""
            },
            "type": "choropleth"
           }
          ],
          "contour": [
           {
            "colorbar": {
             "outlinewidth": 0,
             "ticks": ""
            },
            "colorscale": [
             [
              0,
              "#0d0887"
             ],
             [
              0.1111111111111111,
              "#46039f"
             ],
             [
              0.2222222222222222,
              "#7201a8"
             ],
             [
              0.3333333333333333,
              "#9c179e"
             ],
             [
              0.4444444444444444,
              "#bd3786"
             ],
             [
              0.5555555555555556,
              "#d8576b"
             ],
             [
              0.6666666666666666,
              "#ed7953"
             ],
             [
              0.7777777777777778,
              "#fb9f3a"
             ],
             [
              0.8888888888888888,
              "#fdca26"
             ],
             [
              1,
              "#f0f921"
             ]
            ],
            "type": "contour"
           }
          ],
          "contourcarpet": [
           {
            "colorbar": {
             "outlinewidth": 0,
             "ticks": ""
            },
            "type": "contourcarpet"
           }
          ],
          "heatmap": [
           {
            "colorbar": {
             "outlinewidth": 0,
             "ticks": ""
            },
            "colorscale": [
             [
              0,
              "#0d0887"
             ],
             [
              0.1111111111111111,
              "#46039f"
             ],
             [
              0.2222222222222222,
              "#7201a8"
             ],
             [
              0.3333333333333333,
              "#9c179e"
             ],
             [
              0.4444444444444444,
              "#bd3786"
             ],
             [
              0.5555555555555556,
              "#d8576b"
             ],
             [
              0.6666666666666666,
              "#ed7953"
             ],
             [
              0.7777777777777778,
              "#fb9f3a"
             ],
             [
              0.8888888888888888,
              "#fdca26"
             ],
             [
              1,
              "#f0f921"
             ]
            ],
            "type": "heatmap"
           }
          ],
          "heatmapgl": [
           {
            "colorbar": {
             "outlinewidth": 0,
             "ticks": ""
            },
            "colorscale": [
             [
              0,
              "#0d0887"
             ],
             [
              0.1111111111111111,
              "#46039f"
             ],
             [
              0.2222222222222222,
              "#7201a8"
             ],
             [
              0.3333333333333333,
              "#9c179e"
             ],
             [
              0.4444444444444444,
              "#bd3786"
             ],
             [
              0.5555555555555556,
              "#d8576b"
             ],
             [
              0.6666666666666666,
              "#ed7953"
             ],
             [
              0.7777777777777778,
              "#fb9f3a"
             ],
             [
              0.8888888888888888,
              "#fdca26"
             ],
             [
              1,
              "#f0f921"
             ]
            ],
            "type": "heatmapgl"
           }
          ],
          "histogram": [
           {
            "marker": {
             "pattern": {
              "fillmode": "overlay",
              "size": 10,
              "solidity": 0.2
             }
            },
            "type": "histogram"
           }
          ],
          "histogram2d": [
           {
            "colorbar": {
             "outlinewidth": 0,
             "ticks": ""
            },
            "colorscale": [
             [
              0,
              "#0d0887"
             ],
             [
              0.1111111111111111,
              "#46039f"
             ],
             [
              0.2222222222222222,
              "#7201a8"
             ],
             [
              0.3333333333333333,
              "#9c179e"
             ],
             [
              0.4444444444444444,
              "#bd3786"
             ],
             [
              0.5555555555555556,
              "#d8576b"
             ],
             [
              0.6666666666666666,
              "#ed7953"
             ],
             [
              0.7777777777777778,
              "#fb9f3a"
             ],
             [
              0.8888888888888888,
              "#fdca26"
             ],
             [
              1,
              "#f0f921"
             ]
            ],
            "type": "histogram2d"
           }
          ],
          "histogram2dcontour": [
           {
            "colorbar": {
             "outlinewidth": 0,
             "ticks": ""
            },
            "colorscale": [
             [
              0,
              "#0d0887"
             ],
             [
              0.1111111111111111,
              "#46039f"
             ],
             [
              0.2222222222222222,
              "#7201a8"
             ],
             [
              0.3333333333333333,
              "#9c179e"
             ],
             [
              0.4444444444444444,
              "#bd3786"
             ],
             [
              0.5555555555555556,
              "#d8576b"
             ],
             [
              0.6666666666666666,
              "#ed7953"
             ],
             [
              0.7777777777777778,
              "#fb9f3a"
             ],
             [
              0.8888888888888888,
              "#fdca26"
             ],
             [
              1,
              "#f0f921"
             ]
            ],
            "type": "histogram2dcontour"
           }
          ],
          "mesh3d": [
           {
            "colorbar": {
             "outlinewidth": 0,
             "ticks": ""
            },
            "type": "mesh3d"
           }
          ],
          "parcoords": [
           {
            "line": {
             "colorbar": {
              "outlinewidth": 0,
              "ticks": ""
             }
            },
            "type": "parcoords"
           }
          ],
          "pie": [
           {
            "automargin": true,
            "type": "pie"
           }
          ],
          "scatter": [
           {
            "fillpattern": {
             "fillmode": "overlay",
             "size": 10,
             "solidity": 0.2
            },
            "type": "scatter"
           }
          ],
          "scatter3d": [
           {
            "line": {
             "colorbar": {
              "outlinewidth": 0,
              "ticks": ""
             }
            },
            "marker": {
             "colorbar": {
              "outlinewidth": 0,
              "ticks": ""
             }
            },
            "type": "scatter3d"
           }
          ],
          "scattercarpet": [
           {
            "marker": {
             "colorbar": {
              "outlinewidth": 0,
              "ticks": ""
             }
            },
            "type": "scattercarpet"
           }
          ],
          "scattergeo": [
           {
            "marker": {
             "colorbar": {
              "outlinewidth": 0,
              "ticks": ""
             }
            },
            "type": "scattergeo"
           }
          ],
          "scattergl": [
           {
            "marker": {
             "colorbar": {
              "outlinewidth": 0,
              "ticks": ""
             }
            },
            "type": "scattergl"
           }
          ],
          "scattermapbox": [
           {
            "marker": {
             "colorbar": {
              "outlinewidth": 0,
              "ticks": ""
             }
            },
            "type": "scattermapbox"
           }
          ],
          "scatterpolar": [
           {
            "marker": {
             "colorbar": {
              "outlinewidth": 0,
              "ticks": ""
             }
            },
            "type": "scatterpolar"
           }
          ],
          "scatterpolargl": [
           {
            "marker": {
             "colorbar": {
              "outlinewidth": 0,
              "ticks": ""
             }
            },
            "type": "scatterpolargl"
           }
          ],
          "scatterternary": [
           {
            "marker": {
             "colorbar": {
              "outlinewidth": 0,
              "ticks": ""
             }
            },
            "type": "scatterternary"
           }
          ],
          "surface": [
           {
            "colorbar": {
             "outlinewidth": 0,
             "ticks": ""
            },
            "colorscale": [
             [
              0,
              "#0d0887"
             ],
             [
              0.1111111111111111,
              "#46039f"
             ],
             [
              0.2222222222222222,
              "#7201a8"
             ],
             [
              0.3333333333333333,
              "#9c179e"
             ],
             [
              0.4444444444444444,
              "#bd3786"
             ],
             [
              0.5555555555555556,
              "#d8576b"
             ],
             [
              0.6666666666666666,
              "#ed7953"
             ],
             [
              0.7777777777777778,
              "#fb9f3a"
             ],
             [
              0.8888888888888888,
              "#fdca26"
             ],
             [
              1,
              "#f0f921"
             ]
            ],
            "type": "surface"
           }
          ],
          "table": [
           {
            "cells": {
             "fill": {
              "color": "#EBF0F8"
             },
             "line": {
              "color": "white"
             }
            },
            "header": {
             "fill": {
              "color": "#C8D4E3"
             },
             "line": {
              "color": "white"
             }
            },
            "type": "table"
           }
          ]
         },
         "layout": {
          "annotationdefaults": {
           "arrowcolor": "#2a3f5f",
           "arrowhead": 0,
           "arrowwidth": 1
          },
          "autotypenumbers": "strict",
          "coloraxis": {
           "colorbar": {
            "outlinewidth": 0,
            "ticks": ""
           }
          },
          "colorscale": {
           "diverging": [
            [
             0,
             "#8e0152"
            ],
            [
             0.1,
             "#c51b7d"
            ],
            [
             0.2,
             "#de77ae"
            ],
            [
             0.3,
             "#f1b6da"
            ],
            [
             0.4,
             "#fde0ef"
            ],
            [
             0.5,
             "#f7f7f7"
            ],
            [
             0.6,
             "#e6f5d0"
            ],
            [
             0.7,
             "#b8e186"
            ],
            [
             0.8,
             "#7fbc41"
            ],
            [
             0.9,
             "#4d9221"
            ],
            [
             1,
             "#276419"
            ]
           ],
           "sequential": [
            [
             0,
             "#0d0887"
            ],
            [
             0.1111111111111111,
             "#46039f"
            ],
            [
             0.2222222222222222,
             "#7201a8"
            ],
            [
             0.3333333333333333,
             "#9c179e"
            ],
            [
             0.4444444444444444,
             "#bd3786"
            ],
            [
             0.5555555555555556,
             "#d8576b"
            ],
            [
             0.6666666666666666,
             "#ed7953"
            ],
            [
             0.7777777777777778,
             "#fb9f3a"
            ],
            [
             0.8888888888888888,
             "#fdca26"
            ],
            [
             1,
             "#f0f921"
            ]
           ],
           "sequentialminus": [
            [
             0,
             "#0d0887"
            ],
            [
             0.1111111111111111,
             "#46039f"
            ],
            [
             0.2222222222222222,
             "#7201a8"
            ],
            [
             0.3333333333333333,
             "#9c179e"
            ],
            [
             0.4444444444444444,
             "#bd3786"
            ],
            [
             0.5555555555555556,
             "#d8576b"
            ],
            [
             0.6666666666666666,
             "#ed7953"
            ],
            [
             0.7777777777777778,
             "#fb9f3a"
            ],
            [
             0.8888888888888888,
             "#fdca26"
            ],
            [
             1,
             "#f0f921"
            ]
           ]
          },
          "colorway": [
           "#636efa",
           "#EF553B",
           "#00cc96",
           "#ab63fa",
           "#FFA15A",
           "#19d3f3",
           "#FF6692",
           "#B6E880",
           "#FF97FF",
           "#FECB52"
          ],
          "font": {
           "color": "#2a3f5f"
          },
          "geo": {
           "bgcolor": "white",
           "lakecolor": "white",
           "landcolor": "#E5ECF6",
           "showlakes": true,
           "showland": true,
           "subunitcolor": "white"
          },
          "hoverlabel": {
           "align": "left"
          },
          "hovermode": "closest",
          "mapbox": {
           "style": "light"
          },
          "paper_bgcolor": "white",
          "plot_bgcolor": "#E5ECF6",
          "polar": {
           "angularaxis": {
            "gridcolor": "white",
            "linecolor": "white",
            "ticks": ""
           },
           "bgcolor": "#E5ECF6",
           "radialaxis": {
            "gridcolor": "white",
            "linecolor": "white",
            "ticks": ""
           }
          },
          "scene": {
           "xaxis": {
            "backgroundcolor": "#E5ECF6",
            "gridcolor": "white",
            "gridwidth": 2,
            "linecolor": "white",
            "showbackground": true,
            "ticks": "",
            "zerolinecolor": "white"
           },
           "yaxis": {
            "backgroundcolor": "#E5ECF6",
            "gridcolor": "white",
            "gridwidth": 2,
            "linecolor": "white",
            "showbackground": true,
            "ticks": "",
            "zerolinecolor": "white"
           },
           "zaxis": {
            "backgroundcolor": "#E5ECF6",
            "gridcolor": "white",
            "gridwidth": 2,
            "linecolor": "white",
            "showbackground": true,
            "ticks": "",
            "zerolinecolor": "white"
           }
          },
          "shapedefaults": {
           "line": {
            "color": "#2a3f5f"
           }
          },
          "ternary": {
           "aaxis": {
            "gridcolor": "white",
            "linecolor": "white",
            "ticks": ""
           },
           "baxis": {
            "gridcolor": "white",
            "linecolor": "white",
            "ticks": ""
           },
           "bgcolor": "#E5ECF6",
           "caxis": {
            "gridcolor": "white",
            "linecolor": "white",
            "ticks": ""
           }
          },
          "title": {
           "x": 0.05
          },
          "xaxis": {
           "automargin": true,
           "gridcolor": "white",
           "linecolor": "white",
           "ticks": "",
           "title": {
            "standoff": 15
           },
           "zerolinecolor": "white",
           "zerolinewidth": 2
          },
          "yaxis": {
           "automargin": true,
           "gridcolor": "white",
           "linecolor": "white",
           "ticks": "",
           "title": {
            "standoff": 15
           },
           "zerolinecolor": "white",
           "zerolinewidth": 2
          }
         }
        },
        "title": {
         "text": "<b>Boxplot of total monthly Customers</b>"
        },
        "xaxis": {
         "anchor": "y",
         "domain": [
          0,
          1
         ],
         "title": {
          "font": {
           "size": 14
          },
          "text": "Month"
         }
        },
        "yaxis": {
         "anchor": "x",
         "domain": [
          0,
          1
         ],
         "title": {
          "font": {
           "size": 14
          },
          "text": "Total Customers"
         }
        }
       }
      }
     },
     "metadata": {},
     "output_type": "display_data"
    }
   ],
   "source": [
    "fig1 = make_subplots()\n",
    "fig1.add_trace(\n",
    "    go.Box(\n",
    "      x= df_box_2020.month,\n",
    "      y= df_box_2020.registered_customer,\n",
    "      boxpoints= \"all\",\n",
    "      marker=dict(size=2, color='rgb(0, 0, 0)'),\n",
    "      line= dict(width= 1),\n",
    "      jitter= 0.5,\n",
    "      whiskerwidth=0.2,\n",
    "      fillcolor = \"grey\"\n",
    "      )\n",
    ")\n",
    "\n",
    "for month in df_box_2020.month.unique():\n",
    "  # prefix= \"same as\"\n",
    "  # color= \"grey\"\n",
    "  if df_box_2020.registered_customer.median() < df_box_2020[df_box_2020.month == month].registered_customer.median():\n",
    "   prefix= \"above\"\n",
    "   color= \"darkgreen\"\n",
    "  elif df_box_2020.registered_customer.median() > df_box_2020[df_box_2020.month == month].registered_customer.median():\n",
    "   prefix= \"below\"\n",
    "   color= \"darkred\"\n",
    "   \n",
    "  fig1.add_annotation(\n",
    "    text=f\"{prefix} total median!\", x=month, y= df_box_2020[df_box_2020.month == month].registered_customer.median(),\n",
    "        arrowhead=1, showarrow=True, arrowcolor=color,        \n",
    "        bgcolor='white',\n",
    "        font=dict(size=10, color=color)\n",
    "   )\n",
    "\n",
    "fig1.add_hline(\n",
    " y= df_box_2020.registered_customer.median(),\n",
    " opacity = 0.5,\n",
    " line_dash= \"dot\",\n",
    " line_color= \"black\",\n",
    " layer= \"below\",\n",
    " annotation_text= \"Total Median 2020\",\n",
    " annotation_position= \"top left\",\n",
    " annotation_font_color= \"black\",\n",
    ")\n",
    "\n",
    "fig1.update_annotations(opacity= 0.6)\n",
    "fig1.update_layout(title= dict(text= \"<b>Boxplot of total monthly Customers</b>\"))\n",
    "fig1.update_yaxes(title_text=\"Total Customers\", title_font= dict(size= 14))\n",
    "fig1.update_xaxes(title_text=\"Month\", title_font= dict(size= 14))\n",
    "\n",
    "fig1.show()"
   ]
  },
  {
   "cell_type": "code",
   "execution_count": 534,
   "metadata": {},
   "outputs": [
    {
     "data": {
      "text/html": [
       "<div>\n",
       "<style scoped>\n",
       "    .dataframe tbody tr th:only-of-type {\n",
       "        vertical-align: middle;\n",
       "    }\n",
       "\n",
       "    .dataframe tbody tr th {\n",
       "        vertical-align: top;\n",
       "    }\n",
       "\n",
       "    .dataframe thead th {\n",
       "        text-align: right;\n",
       "    }\n",
       "</style>\n",
       "<table border=\"1\" class=\"dataframe\">\n",
       "  <thead>\n",
       "    <tr style=\"text-align: right;\">\n",
       "      <th></th>\n",
       "      <th>datetime</th>\n",
       "      <th>registered_customer</th>\n",
       "      <th>month</th>\n",
       "      <th>year</th>\n",
       "      <th>color</th>\n",
       "      <th>higher_lower</th>\n",
       "    </tr>\n",
       "  </thead>\n",
       "  <tbody>\n",
       "    <tr>\n",
       "      <th>0</th>\n",
       "      <td>2020-01-04 00:00:00</td>\n",
       "      <td>985.0</td>\n",
       "      <td>1.0</td>\n",
       "      <td>2020.0</td>\n",
       "      <td>green</td>\n",
       "      <td>Higher</td>\n",
       "    </tr>\n",
       "    <tr>\n",
       "      <th>1</th>\n",
       "      <td>2020-01-05 00:00:00</td>\n",
       "      <td>801.0</td>\n",
       "      <td>1.0</td>\n",
       "      <td>2020.0</td>\n",
       "      <td>green</td>\n",
       "      <td>Lower</td>\n",
       "    </tr>\n",
       "    <tr>\n",
       "      <th>2</th>\n",
       "      <td>2020-01-06 00:00:00</td>\n",
       "      <td>1349.0</td>\n",
       "      <td>1.0</td>\n",
       "      <td>2020.0</td>\n",
       "      <td>green</td>\n",
       "      <td>Lower</td>\n",
       "    </tr>\n",
       "    <tr>\n",
       "      <th>3</th>\n",
       "      <td>2020-01-07 00:00:00</td>\n",
       "      <td>1562.0</td>\n",
       "      <td>1.0</td>\n",
       "      <td>2020.0</td>\n",
       "      <td>green</td>\n",
       "      <td>Lower</td>\n",
       "    </tr>\n",
       "    <tr>\n",
       "      <th>4</th>\n",
       "      <td>2020-01-08 00:00:00</td>\n",
       "      <td>1600.0</td>\n",
       "      <td>1.0</td>\n",
       "      <td>2020.0</td>\n",
       "      <td>green</td>\n",
       "      <td>Lower</td>\n",
       "    </tr>\n",
       "    <tr>\n",
       "      <th>...</th>\n",
       "      <td>...</td>\n",
       "      <td>...</td>\n",
       "      <td>...</td>\n",
       "      <td>...</td>\n",
       "      <td>...</td>\n",
       "      <td>...</td>\n",
       "    </tr>\n",
       "    <tr>\n",
       "      <th>359</th>\n",
       "      <td>2020-12-28 00:00:00</td>\n",
       "      <td>2514.0</td>\n",
       "      <td>12.0</td>\n",
       "      <td>2020.0</td>\n",
       "      <td>green</td>\n",
       "      <td>Lower</td>\n",
       "    </tr>\n",
       "    <tr>\n",
       "      <th>360</th>\n",
       "      <td>2020-12-29 00:00:00</td>\n",
       "      <td>2225.0</td>\n",
       "      <td>12.0</td>\n",
       "      <td>2020.0</td>\n",
       "      <td>green</td>\n",
       "      <td>Lower</td>\n",
       "    </tr>\n",
       "    <tr>\n",
       "      <th>361</th>\n",
       "      <td>2020-12-30 00:00:00</td>\n",
       "      <td>2792.0</td>\n",
       "      <td>12.0</td>\n",
       "      <td>2020.0</td>\n",
       "      <td>green</td>\n",
       "      <td>Lower</td>\n",
       "    </tr>\n",
       "    <tr>\n",
       "      <th>362</th>\n",
       "      <td>2020-12-31 00:00:00</td>\n",
       "      <td>5554.0</td>\n",
       "      <td>12.0</td>\n",
       "      <td>2020.0</td>\n",
       "      <td>green</td>\n",
       "      <td>Lower</td>\n",
       "    </tr>\n",
       "    <tr>\n",
       "      <th>False</th>\n",
       "      <td>Lower</td>\n",
       "      <td>Lower</td>\n",
       "      <td>Lower</td>\n",
       "      <td>Lower</td>\n",
       "      <td>Lower</td>\n",
       "      <td>Higher</td>\n",
       "    </tr>\n",
       "  </tbody>\n",
       "</table>\n",
       "<p>364 rows × 6 columns</p>\n",
       "</div>"
      ],
      "text/plain": [
       "                  datetime registered_customer  month    year  color  \\\n",
       "0      2020-01-04 00:00:00               985.0    1.0  2020.0  green   \n",
       "1      2020-01-05 00:00:00               801.0    1.0  2020.0  green   \n",
       "2      2020-01-06 00:00:00              1349.0    1.0  2020.0  green   \n",
       "3      2020-01-07 00:00:00              1562.0    1.0  2020.0  green   \n",
       "4      2020-01-08 00:00:00              1600.0    1.0  2020.0  green   \n",
       "...                    ...                 ...    ...     ...    ...   \n",
       "359    2020-12-28 00:00:00              2514.0   12.0  2020.0  green   \n",
       "360    2020-12-29 00:00:00              2225.0   12.0  2020.0  green   \n",
       "361    2020-12-30 00:00:00              2792.0   12.0  2020.0  green   \n",
       "362    2020-12-31 00:00:00              5554.0   12.0  2020.0  green   \n",
       "False                Lower               Lower  Lower   Lower  Lower   \n",
       "\n",
       "      higher_lower  \n",
       "0           Higher  \n",
       "1            Lower  \n",
       "2            Lower  \n",
       "3            Lower  \n",
       "4            Lower  \n",
       "...            ...  \n",
       "359          Lower  \n",
       "360          Lower  \n",
       "361          Lower  \n",
       "362          Lower  \n",
       "False       Higher  \n",
       "\n",
       "[364 rows x 6 columns]"
      ]
     },
     "execution_count": 534,
     "metadata": {},
     "output_type": "execute_result"
    }
   ],
   "source": [
    "df_box_2020.loc[df_box_2020[df_box_2020.month == month].registered_customer.median() > df_box_2020.registered_customer.median(), 'higher_lower'] = \"Higher\"\n",
    "df_box_2020.fillna(value= \"Lower\")"
   ]
  },
  {
   "cell_type": "code",
   "execution_count": 535,
   "metadata": {},
   "outputs": [
    {
     "ename": "KeyError",
     "evalue": "(nan, '', '', '')",
     "output_type": "error",
     "traceback": [
      "\u001b[0;31m---------------------------------------------------------------------------\u001b[0m",
      "\u001b[0;31mKeyError\u001b[0m                                  Traceback (most recent call last)",
      "\u001b[1;32m/Users/florian/Documents/GitHub/3 Semester/K-ppers-Projekt1-1/Paul/Monat_flo_Uhrzeit.ipynb Zelle 14\u001b[0m in \u001b[0;36m<cell line: 4>\u001b[0;34m()\u001b[0m\n\u001b[1;32m      <a href='vscode-notebook-cell:/Users/florian/Documents/GitHub/3%20Semester/K-ppers-Projekt1-1/Paul/Monat_flo_Uhrzeit.ipynb#Y124sZmlsZQ%3D%3D?line=0'>1</a>\u001b[0m \u001b[39m#fig1 = go.Figure()\u001b[39;00m\n\u001b[0;32m----> <a href='vscode-notebook-cell:/Users/florian/Documents/GitHub/3%20Semester/K-ppers-Projekt1-1/Paul/Monat_flo_Uhrzeit.ipynb#Y124sZmlsZQ%3D%3D?line=3'>4</a>\u001b[0m fig1 \u001b[39m=\u001b[39m px\u001b[39m.\u001b[39;49mbox(\n\u001b[1;32m      <a href='vscode-notebook-cell:/Users/florian/Documents/GitHub/3%20Semester/K-ppers-Projekt1-1/Paul/Monat_flo_Uhrzeit.ipynb#Y124sZmlsZQ%3D%3D?line=4'>5</a>\u001b[0m   x\u001b[39m=\u001b[39;49m df_box_2020\u001b[39m.\u001b[39;49mmonth, y\u001b[39m=\u001b[39;49m df_box_2020\u001b[39m.\u001b[39;49mregistered_customer, points\u001b[39m=\u001b[39;49m \u001b[39m\"\u001b[39;49m\u001b[39mall\u001b[39;49m\u001b[39m\"\u001b[39;49m, color\u001b[39m=\u001b[39;49m df_box_2020\u001b[39m.\u001b[39;49myear)\n\u001b[1;32m      <a href='vscode-notebook-cell:/Users/florian/Documents/GitHub/3%20Semester/K-ppers-Projekt1-1/Paul/Monat_flo_Uhrzeit.ipynb#Y124sZmlsZQ%3D%3D?line=5'>6</a>\u001b[0m       \u001b[39m#marker=dict(size=2, color='rgb(0, 0, 0)'),\u001b[39;00m\n\u001b[1;32m      <a href='vscode-notebook-cell:/Users/florian/Documents/GitHub/3%20Semester/K-ppers-Projekt1-1/Paul/Monat_flo_Uhrzeit.ipynb#Y124sZmlsZQ%3D%3D?line=6'>7</a>\u001b[0m       \u001b[39m#line= dict(width= 1),\u001b[39;00m\n\u001b[1;32m      <a href='vscode-notebook-cell:/Users/florian/Documents/GitHub/3%20Semester/K-ppers-Projekt1-1/Paul/Monat_flo_Uhrzeit.ipynb#Y124sZmlsZQ%3D%3D?line=7'>8</a>\u001b[0m       \u001b[39m#jitter= 0.5,\u001b[39;00m\n\u001b[0;32m   (...)\u001b[0m\n\u001b[1;32m     <a href='vscode-notebook-cell:/Users/florian/Documents/GitHub/3%20Semester/K-ppers-Projekt1-1/Paul/Monat_flo_Uhrzeit.ipynb#Y124sZmlsZQ%3D%3D?line=66'>67</a>\u001b[0m \u001b[39m# fig1.update_yaxes(title_text=\"Total Customers\", title_font= dict(size= 14))\u001b[39;00m\n\u001b[1;32m     <a href='vscode-notebook-cell:/Users/florian/Documents/GitHub/3%20Semester/K-ppers-Projekt1-1/Paul/Monat_flo_Uhrzeit.ipynb#Y124sZmlsZQ%3D%3D?line=67'>68</a>\u001b[0m \u001b[39m# fig1.update_xaxes(title_text=\"Month\", title_font= dict(size= 14))\u001b[39;00m\n\u001b[1;32m     <a href='vscode-notebook-cell:/Users/florian/Documents/GitHub/3%20Semester/K-ppers-Projekt1-1/Paul/Monat_flo_Uhrzeit.ipynb#Y124sZmlsZQ%3D%3D?line=69'>70</a>\u001b[0m fig1\u001b[39m.\u001b[39mshow()\n",
      "File \u001b[0;32m/Library/Frameworks/Python.framework/Versions/3.9/lib/python3.9/site-packages/plotly/express/_chart_types.py:663\u001b[0m, in \u001b[0;36mbox\u001b[0;34m(data_frame, x, y, color, facet_row, facet_col, facet_col_wrap, facet_row_spacing, facet_col_spacing, hover_name, hover_data, custom_data, animation_frame, animation_group, category_orders, labels, color_discrete_sequence, color_discrete_map, orientation, boxmode, log_x, log_y, range_x, range_y, points, notched, title, template, width, height)\u001b[0m\n\u001b[1;32m    622\u001b[0m \u001b[39mdef\u001b[39;00m \u001b[39mbox\u001b[39m(\n\u001b[1;32m    623\u001b[0m     data_frame\u001b[39m=\u001b[39m\u001b[39mNone\u001b[39;00m,\n\u001b[1;32m    624\u001b[0m     x\u001b[39m=\u001b[39m\u001b[39mNone\u001b[39;00m,\n\u001b[0;32m   (...)\u001b[0m\n\u001b[1;32m    652\u001b[0m     height\u001b[39m=\u001b[39m\u001b[39mNone\u001b[39;00m,\n\u001b[1;32m    653\u001b[0m ):\n\u001b[1;32m    654\u001b[0m     \u001b[39m\"\"\"\u001b[39;00m\n\u001b[1;32m    655\u001b[0m \u001b[39m    In a box plot, rows of `data_frame` are grouped together into a\u001b[39;00m\n\u001b[1;32m    656\u001b[0m \u001b[39m    box-and-whisker mark to visualize their distribution.\u001b[39;00m\n\u001b[0;32m   (...)\u001b[0m\n\u001b[1;32m    661\u001b[0m \u001b[39m    range (IQR: Q3-Q1), see \"points\" for other options.\u001b[39;00m\n\u001b[1;32m    662\u001b[0m \u001b[39m    \"\"\"\u001b[39;00m\n\u001b[0;32m--> 663\u001b[0m     \u001b[39mreturn\u001b[39;00m make_figure(\n\u001b[1;32m    664\u001b[0m         args\u001b[39m=\u001b[39;49m\u001b[39mlocals\u001b[39;49m(),\n\u001b[1;32m    665\u001b[0m         constructor\u001b[39m=\u001b[39;49mgo\u001b[39m.\u001b[39;49mBox,\n\u001b[1;32m    666\u001b[0m         trace_patch\u001b[39m=\u001b[39;49m\u001b[39mdict\u001b[39;49m(boxpoints\u001b[39m=\u001b[39;49mpoints, notched\u001b[39m=\u001b[39;49mnotched, x0\u001b[39m=\u001b[39;49m\u001b[39m\"\u001b[39;49m\u001b[39m \u001b[39;49m\u001b[39m\"\u001b[39;49m, y0\u001b[39m=\u001b[39;49m\u001b[39m\"\u001b[39;49m\u001b[39m \u001b[39;49m\u001b[39m\"\u001b[39;49m),\n\u001b[1;32m    667\u001b[0m         layout_patch\u001b[39m=\u001b[39;49m\u001b[39mdict\u001b[39;49m(boxmode\u001b[39m=\u001b[39;49mboxmode),\n\u001b[1;32m    668\u001b[0m     )\n",
      "File \u001b[0;32m/Library/Frameworks/Python.framework/Versions/3.9/lib/python3.9/site-packages/plotly/express/_core.py:1991\u001b[0m, in \u001b[0;36mmake_figure\u001b[0;34m(args, constructor, trace_patch, layout_patch)\u001b[0m\n\u001b[1;32m   1989\u001b[0m facet_col_wrap \u001b[39m=\u001b[39m args\u001b[39m.\u001b[39mget(\u001b[39m\"\u001b[39m\u001b[39mfacet_col_wrap\u001b[39m\u001b[39m\"\u001b[39m, \u001b[39m0\u001b[39m)\n\u001b[1;32m   1990\u001b[0m \u001b[39mfor\u001b[39;00m group_name \u001b[39min\u001b[39;00m sorted_group_names:\n\u001b[0;32m-> 1991\u001b[0m     group \u001b[39m=\u001b[39m grouped\u001b[39m.\u001b[39;49mget_group(group_name \u001b[39mif\u001b[39;49;00m \u001b[39mlen\u001b[39;49m(group_name) \u001b[39m>\u001b[39;49m \u001b[39m1\u001b[39;49m \u001b[39melse\u001b[39;49;00m group_name[\u001b[39m0\u001b[39;49m])\n\u001b[1;32m   1992\u001b[0m     mapping_labels \u001b[39m=\u001b[39m OrderedDict()\n\u001b[1;32m   1993\u001b[0m     trace_name_labels \u001b[39m=\u001b[39m OrderedDict()\n",
      "File \u001b[0;32m/Library/Frameworks/Python.framework/Versions/3.9/lib/python3.9/site-packages/pandas/core/groupby/groupby.py:747\u001b[0m, in \u001b[0;36mBaseGroupBy.get_group\u001b[0;34m(self, name, obj)\u001b[0m\n\u001b[1;32m    745\u001b[0m inds \u001b[39m=\u001b[39m \u001b[39mself\u001b[39m\u001b[39m.\u001b[39m_get_index(name)\n\u001b[1;32m    746\u001b[0m \u001b[39mif\u001b[39;00m \u001b[39mnot\u001b[39;00m \u001b[39mlen\u001b[39m(inds):\n\u001b[0;32m--> 747\u001b[0m     \u001b[39mraise\u001b[39;00m \u001b[39mKeyError\u001b[39;00m(name)\n\u001b[1;32m    749\u001b[0m \u001b[39mreturn\u001b[39;00m obj\u001b[39m.\u001b[39m_take_with_is_copy(inds, axis\u001b[39m=\u001b[39m\u001b[39mself\u001b[39m\u001b[39m.\u001b[39maxis)\n",
      "\u001b[0;31mKeyError\u001b[0m: (nan, '', '', '')"
     ]
    }
   ],
   "source": [
    "#fig1 = go.Figure()\n",
    "\n",
    "\n",
    "fig1 = px.box(\n",
    "  x= df_box_2020.month, y= df_box_2020.registered_customer, points= \"all\")\n",
    "      #marker=dict(size=2, color='rgb(0, 0, 0)'),\n",
    "      #line= dict(width= 1),\n",
    "      #jitter= 0.5,\n",
    "      #whiskerwidth=0.2,\n",
    "\n",
    "# fig1.add_trace(\n",
    "#     go.Box(\n",
    "#       x= df_box_2020.month,\n",
    "#       y= df_box_2020.registered_customer,\n",
    "#       boxpoints= \"all\",\n",
    "#       marker=dict(size=2, color='rgb(0, 0, 0)'),\n",
    "#       line= dict(width= 1),\n",
    "#       jitter= 0.5,\n",
    "#       whiskerwidth=0.2,\n",
    "#       fillcolor= df_box_2020.higher_lower\n",
    "#     )\n",
    "#   )\n",
    "\n",
    "# fig1.add_trace(\n",
    "#     go.Box(\n",
    "#       x= df_box_2020.month,\n",
    "#       y= df_box_2020.registered_customer,\n",
    "#       boxpoints= \"all\",\n",
    "#       marker=dict(size=2, color='rgb(0, 0, 0)'),\n",
    "#       line= dict(width= 1),\n",
    "#       jitter= 0.5,\n",
    "#       whiskerwidth=0.2,\n",
    "#       fillcolor = \"grey\"\n",
    "#       )\n",
    "# )\n",
    "\n",
    "# for month in df_box_2020.month.unique():\n",
    "#   prefix= \"same as\"\n",
    "#   color= \"grey\"\n",
    "#   if df_box_2020.registered_customer.median() < df_box_2020[df_box_2020.month == month].registered_customer.median():\n",
    "#    prefix= \"above\"\n",
    "#    color= \"darkgreen\"\n",
    "#   elif df_box_2020.registered_customer.median() > df_box_2020[df_box_2020.month == month].registered_customer.median():\n",
    "#    prefix= \"below\"\n",
    "#    color= \"darkred\"\n",
    "   \n",
    "#   fig1.add_annotation(\n",
    "#     text=f\"{prefix} total median!\", x=month, y= df_box_2020[df_box_2020.month == month].registered_customer.median(),\n",
    "#         arrowhead=1, showarrow=True, arrowcolor=color,        \n",
    "#         bgcolor='white',\n",
    "#         font=dict(size=10, color=color)\n",
    "#    )\n",
    "\n",
    "# fig1.add_hline(\n",
    "#  y= df_box_2020.registered_customer.median(),\n",
    "#  opacity = 0.5,\n",
    "#  line_dash= \"dot\",\n",
    "#  line_color= \"black\",\n",
    "#  layer= \"below\",\n",
    "#  annotation_text= \"Total Median 2020\",\n",
    "#  annotation_position= \"top left\",\n",
    "#  annotation_font_color= \"black\",\n",
    "# )\n",
    "\n",
    "# fig1.update_annotations(opacity= 0.6)\n",
    "# fig1.update_layout(title= dict(text= \"<b>Boxplot of total monthly Customers</b>\"))\n",
    "# fig1.update_yaxes(title_text=\"Total Customers\", title_font= dict(size= 14))\n",
    "# fig1.update_xaxes(title_text=\"Month\", title_font= dict(size= 14))\n",
    "\n",
    "fig1.show()"
   ]
  }
 ],
 "metadata": {
  "kernelspec": {
   "display_name": "Python 3.9.7 64-bit",
   "language": "python",
   "name": "python3"
  },
  "language_info": {
   "codemirror_mode": {
    "name": "ipython",
    "version": 3
   },
   "file_extension": ".py",
   "mimetype": "text/x-python",
   "name": "python",
   "nbconvert_exporter": "python",
   "pygments_lexer": "ipython3",
   "version": "3.9.7"
  },
  "orig_nbformat": 4,
  "vscode": {
   "interpreter": {
    "hash": "aee8b7b246df8f9039afb4144a1f6fd8d2ca17a180786b69acc140d282b71a49"
   }
  }
 },
 "nbformat": 4,
 "nbformat_minor": 2
}
