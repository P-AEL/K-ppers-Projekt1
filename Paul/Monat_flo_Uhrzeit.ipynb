{
 "cells": [
  {
   "cell_type": "code",
   "execution_count": 2,
   "metadata": {},
   "outputs": [],
   "source": [
    "import pandas as pd\n",
    "import plotly.express as px\n",
    "import matplotlib\n",
    "import plotly.graph_objects as go\n",
    "from plotly.subplots import make_subplots"
   ]
  },
  {
   "cell_type": "code",
   "execution_count": 3,
   "metadata": {},
   "outputs": [
    {
     "data": {
      "text/html": [
       "<style>.container { width:100% !important; }</style>"
      ],
      "text/plain": [
       "<IPython.core.display.HTML object>"
      ]
     },
     "metadata": {},
     "output_type": "display_data"
    }
   ],
   "source": [
    "from IPython.display import display, HTML\n",
    "display(HTML(\"<style>.container { width:100% !important; }</style>\"))"
   ]
  },
  {
   "cell_type": "code",
   "execution_count": 4,
   "metadata": {},
   "outputs": [],
   "source": [
    "df_org_data = pd.read_parquet(\"escooter_history_2022.parquet\")"
   ]
  },
  {
   "cell_type": "code",
   "execution_count": 5,
   "metadata": {},
   "outputs": [],
   "source": [
    "df_org_data.holiday = df_org_data.holiday.astype(bool)\n",
    "df_org_data.workingday = df_org_data.workingday.astype(bool)\n",
    "df_org_data.loc[df_org_data.temp >45, \"temp\"] = df_org_data.temp.div(100)"
   ]
  },
  {
   "cell_type": "code",
   "execution_count": 6,
   "metadata": {},
   "outputs": [],
   "source": [
    "df = df_org_data.copy()\n",
    "df = pd.get_dummies(df, prefix=[\"w\"])"
   ]
  },
  {
   "cell_type": "code",
   "execution_count": 7,
   "metadata": {},
   "outputs": [
    {
     "data": {
      "text/html": [
       "<div>\n",
       "<style scoped>\n",
       "    .dataframe tbody tr th:only-of-type {\n",
       "        vertical-align: middle;\n",
       "    }\n",
       "\n",
       "    .dataframe tbody tr th {\n",
       "        vertical-align: top;\n",
       "    }\n",
       "\n",
       "    .dataframe thead th {\n",
       "        text-align: right;\n",
       "    }\n",
       "</style>\n",
       "<table border=\"1\" class=\"dataframe\">\n",
       "  <thead>\n",
       "    <tr style=\"text-align: right;\">\n",
       "      <th></th>\n",
       "      <th>datetime</th>\n",
       "      <th>registered_customer</th>\n",
       "      <th>month</th>\n",
       "      <th>year</th>\n",
       "    </tr>\n",
       "  </thead>\n",
       "  <tbody>\n",
       "    <tr>\n",
       "      <th>0</th>\n",
       "      <td>2020-01-04</td>\n",
       "      <td>985</td>\n",
       "      <td>1</td>\n",
       "      <td>2020</td>\n",
       "    </tr>\n",
       "    <tr>\n",
       "      <th>1</th>\n",
       "      <td>2020-01-05</td>\n",
       "      <td>801</td>\n",
       "      <td>1</td>\n",
       "      <td>2020</td>\n",
       "    </tr>\n",
       "    <tr>\n",
       "      <th>2</th>\n",
       "      <td>2020-01-06</td>\n",
       "      <td>1349</td>\n",
       "      <td>1</td>\n",
       "      <td>2020</td>\n",
       "    </tr>\n",
       "    <tr>\n",
       "      <th>3</th>\n",
       "      <td>2020-01-07</td>\n",
       "      <td>1562</td>\n",
       "      <td>1</td>\n",
       "      <td>2020</td>\n",
       "    </tr>\n",
       "    <tr>\n",
       "      <th>4</th>\n",
       "      <td>2020-01-08</td>\n",
       "      <td>1600</td>\n",
       "      <td>1</td>\n",
       "      <td>2020</td>\n",
       "    </tr>\n",
       "    <tr>\n",
       "      <th>...</th>\n",
       "      <td>...</td>\n",
       "      <td>...</td>\n",
       "      <td>...</td>\n",
       "      <td>...</td>\n",
       "    </tr>\n",
       "    <tr>\n",
       "      <th>726</th>\n",
       "      <td>2021-12-30</td>\n",
       "      <td>4231</td>\n",
       "      <td>12</td>\n",
       "      <td>2021</td>\n",
       "    </tr>\n",
       "    <tr>\n",
       "      <th>727</th>\n",
       "      <td>2021-12-31</td>\n",
       "      <td>8144</td>\n",
       "      <td>12</td>\n",
       "      <td>2021</td>\n",
       "    </tr>\n",
       "    <tr>\n",
       "      <th>728</th>\n",
       "      <td>2022-01-01</td>\n",
       "      <td>5932</td>\n",
       "      <td>1</td>\n",
       "      <td>2022</td>\n",
       "    </tr>\n",
       "    <tr>\n",
       "      <th>729</th>\n",
       "      <td>2022-01-02</td>\n",
       "      <td>5182</td>\n",
       "      <td>1</td>\n",
       "      <td>2022</td>\n",
       "    </tr>\n",
       "    <tr>\n",
       "      <th>730</th>\n",
       "      <td>2022-01-03</td>\n",
       "      <td>6302</td>\n",
       "      <td>1</td>\n",
       "      <td>2022</td>\n",
       "    </tr>\n",
       "  </tbody>\n",
       "</table>\n",
       "<p>731 rows × 4 columns</p>\n",
       "</div>"
      ],
      "text/plain": [
       "      datetime  registered_customer  month  year\n",
       "0   2020-01-04                  985      1  2020\n",
       "1   2020-01-05                  801      1  2020\n",
       "2   2020-01-06                 1349      1  2020\n",
       "3   2020-01-07                 1562      1  2020\n",
       "4   2020-01-08                 1600      1  2020\n",
       "..         ...                  ...    ...   ...\n",
       "726 2021-12-30                 4231     12  2021\n",
       "727 2021-12-31                 8144     12  2021\n",
       "728 2022-01-01                 5932      1  2022\n",
       "729 2022-01-02                 5182      1  2022\n",
       "730 2022-01-03                 6302      1  2022\n",
       "\n",
       "[731 rows x 4 columns]"
      ]
     },
     "execution_count": 7,
     "metadata": {},
     "output_type": "execute_result"
    }
   ],
   "source": [
    "df_box = df.groupby(pd.Grouper(key=\"datetime\",freq=\"D\")).agg({\"registered_customer\": \"count\"}).reset_index()\n",
    "df_box[\"month\"] = df_box.datetime.dt.month\n",
    "df_box[\"year\"] = df_box.datetime.dt.year\n",
    "df_box"
   ]
  },
  {
   "cell_type": "code",
   "execution_count": 8,
   "metadata": {},
   "outputs": [],
   "source": [
    "df_box_2020 = df_box.loc[df_box.year == 2020]\n",
    "df_box_2021 = df_box.loc[df_box.year == 2021]\n",
    "df_box_2022 = df_box.loc[df_box.year == 2022]"
   ]
  },
  {
   "cell_type": "code",
   "execution_count": 9,
   "metadata": {},
   "outputs": [
    {
     "data": {
      "application/vnd.plotly.v1+json": {
       "config": {
        "plotlyServerURL": "https://plot.ly"
       },
       "data": [
        {
         "alignmentgroup": "True",
         "boxpoints": "all",
         "hovertemplate": "Month=%{x}<br>Total Customers=%{y}<extra></extra>",
         "legendgroup": "",
         "marker": {
          "color": "#636efa"
         },
         "name": "",
         "notched": false,
         "offsetgroup": "",
         "orientation": "v",
         "showlegend": false,
         "type": "box",
         "x": [
          1,
          1,
          1,
          1,
          1,
          1,
          1,
          1,
          1,
          1,
          1,
          1,
          1,
          1,
          1,
          1,
          1,
          1,
          1,
          1,
          1,
          1,
          1,
          1,
          1,
          1,
          1,
          1,
          2,
          2,
          2,
          2,
          2,
          2,
          2,
          2,
          2,
          2,
          2,
          2,
          2,
          2,
          2,
          2,
          2,
          2,
          2,
          2,
          2,
          2,
          2,
          2,
          2,
          2,
          2,
          2,
          2,
          3,
          3,
          3,
          3,
          3,
          3,
          3,
          3,
          3,
          3,
          3,
          3,
          3,
          3,
          3,
          3,
          3,
          3,
          3,
          3,
          3,
          3,
          3,
          3,
          3,
          3,
          3,
          3,
          3,
          3,
          3,
          4,
          4,
          4,
          4,
          4,
          4,
          4,
          4,
          4,
          4,
          4,
          4,
          4,
          4,
          4,
          4,
          4,
          4,
          4,
          4,
          4,
          4,
          4,
          4,
          4,
          4,
          4,
          4,
          4,
          4,
          5,
          5,
          5,
          5,
          5,
          5,
          5,
          5,
          5,
          5,
          5,
          5,
          5,
          5,
          5,
          5,
          5,
          5,
          5,
          5,
          5,
          5,
          5,
          5,
          5,
          5,
          5,
          5,
          5,
          5,
          5,
          6,
          6,
          6,
          6,
          6,
          6,
          6,
          6,
          6,
          6,
          6,
          6,
          6,
          6,
          6,
          6,
          6,
          6,
          6,
          6,
          6,
          6,
          6,
          6,
          6,
          6,
          6,
          6,
          6,
          6,
          7,
          7,
          7,
          7,
          7,
          7,
          7,
          7,
          7,
          7,
          7,
          7,
          7,
          7,
          7,
          7,
          7,
          7,
          7,
          7,
          7,
          7,
          7,
          7,
          7,
          7,
          7,
          7,
          7,
          7,
          7,
          8,
          8,
          8,
          8,
          8,
          8,
          8,
          8,
          8,
          8,
          8,
          8,
          8,
          8,
          8,
          8,
          8,
          8,
          8,
          8,
          8,
          8,
          8,
          8,
          8,
          8,
          8,
          8,
          8,
          8,
          8,
          9,
          9,
          9,
          9,
          9,
          9,
          9,
          9,
          9,
          9,
          9,
          9,
          9,
          9,
          9,
          9,
          9,
          9,
          9,
          9,
          9,
          9,
          9,
          9,
          9,
          9,
          9,
          9,
          9,
          9,
          10,
          10,
          10,
          10,
          10,
          10,
          10,
          10,
          10,
          10,
          10,
          10,
          10,
          10,
          10,
          10,
          10,
          10,
          10,
          10,
          10,
          10,
          10,
          10,
          10,
          10,
          10,
          10,
          10,
          10,
          10,
          11,
          11,
          11,
          11,
          11,
          11,
          11,
          11,
          11,
          11,
          11,
          11,
          11,
          11,
          11,
          11,
          11,
          11,
          11,
          11,
          11,
          11,
          11,
          11,
          11,
          11,
          11,
          11,
          11,
          11,
          12,
          12,
          12,
          12,
          12,
          12,
          12,
          12,
          12,
          12,
          12,
          12,
          12,
          12,
          12,
          12,
          12,
          12,
          12,
          12,
          12,
          12,
          12,
          12,
          12,
          12,
          12,
          12,
          12,
          12,
          12
         ],
         "x0": " ",
         "xaxis": "x",
         "y": [
          985,
          801,
          1349,
          1562,
          1600,
          1606,
          1510,
          959,
          822,
          1321,
          1263,
          1162,
          1406,
          1421,
          1248,
          1204,
          1000,
          683,
          1650,
          1487,
          1283,
          863,
          818,
          1206,
          1515,
          412,
          674,
          2510,
          2106,
          1917,
          1924,
          1879,
          1932,
          1895,
          1972,
          1229,
          1781,
          1712,
          1530,
          1605,
          1538,
          1746,
          1472,
          1589,
          1913,
          1815,
          2115,
          2475,
          2927,
          1635,
          1584,
          1359,
          1636,
          1788,
          1565,
          1592,
          3339,
          3104,
          2254,
          2649,
          2795,
          2229,
          2352,
          2412,
          884,
          2106,
          2133,
          1891,
          623,
          1977,
          2132,
          2417,
          2046,
          2056,
          2192,
          2744,
          3239,
          3117,
          2029,
          2713,
          2889,
          1733,
          1995,
          2271,
          2158,
          2025,
          2142,
          4837,
          3767,
          3191,
          3451,
          3262,
          4037,
          3692,
          2295,
          3218,
          3435,
          1471,
          2455,
          2895,
          3348,
          2034,
          2162,
          3267,
          3126,
          795,
          3744,
          3429,
          3204,
          3516,
          3149,
          1583,
          3165,
          3560,
          3493,
          3429,
          2726,
          7114,
          6532,
          6207,
          5267,
          5920,
          5711,
          3610,
          5193,
          5204,
          5229,
          4333,
          4362,
          4803,
          4182,
          4864,
          4105,
          3409,
          4553,
          3958,
          4123,
          3855,
          4575,
          4985,
          5472,
          4868,
          3829,
          4242,
          4660,
          4439,
          4787,
          5230,
          8904,
          8688,
          7059,
          6351,
          6806,
          6844,
          6499,
          5890,
          5324,
          5446,
          4401,
          3915,
          4586,
          4966,
          4460,
          5020,
          4891,
          5180,
          3767,
          4844,
          5119,
          4744,
          4272,
          4198,
          4472,
          4561,
          5213,
          5606,
          5402,
          4617,
          9164,
          8607,
          7953,
          7850,
          7055,
          6179,
          7318,
          5621,
          5373,
          5256,
          4040,
          5336,
          4881,
          4086,
          4258,
          4342,
          5084,
          5538,
          5923,
          5302,
          4458,
          4541,
          4279,
          3967,
          3973,
          3874,
          4040,
          3975,
          4613,
          4743,
          4570,
          8111,
          8002,
          6796,
          6371,
          6574,
          4914,
          5620,
          5755,
          4979,
          4338,
          4326,
          4602,
          4780,
          4792,
          4905,
          4150,
          3820,
          4338,
          4725,
          4694,
          3805,
          4153,
          4903,
          4054,
          4547,
          4848,
          4642,
          3704,
          4357,
          1737,
          4369,
          8666,
          7872,
          7150,
          7100,
          6396,
          5784,
          5976,
          4206,
          3321,
          2558,
          1842,
          3544,
          5345,
          5046,
          4713,
          4763,
          4785,
          3659,
          4760,
          4511,
          4274,
          4539,
          3026,
          2788,
          2933,
          2299,
          4072,
          4123,
          3835,
          3405,
          7146,
          8070,
          7486,
          4494,
          4527,
          4827,
          5561,
          5626,
          5453,
          5489,
          5409,
          5511,
          5117,
          4563,
          2416,
          2913,
          3644,
          5217,
          5041,
          4570,
          4748,
          2424,
          3966,
          4438,
          4388,
          4286,
          4120,
          4593,
          3987,
          3217,
          3567,
          4920,
          6436,
          5934,
          5852,
          5600,
          5109,
          4952,
          4651,
          4242,
          4474,
          4205,
          4109,
          2933,
          3368,
          4067,
          3717,
          4486,
          4195,
          1817,
          3053,
          3392,
          3663,
          4043,
          2693,
          2420,
          3045,
          3493,
          4291,
          3827,
          4388,
          7538,
          5400,
          5489,
          5372,
          5236,
          4602,
          4321,
          4431,
          3150,
          1132,
          3322,
          3620,
          3190,
          2743,
          3310,
          3523,
          3740,
          3709,
          3577,
          2739,
          2431,
          3403,
          3967,
          1730,
          3030,
          2924,
          2589,
          2344,
          2514,
          2225,
          2792,
          5554
         ],
         "y0": " ",
         "yaxis": "y"
        }
       ],
       "layout": {
        "annotations": [
         {
          "font": {
           "color": "black"
          },
          "opacity": 0.3,
          "showarrow": false,
          "text": "Total Median 2020",
          "x": 0,
          "xanchor": "left",
          "xref": "x domain",
          "y": 3973,
          "yanchor": "bottom",
          "yref": "y"
         },
         {
          "arrowcolor": "darkred",
          "arrowhead": 1,
          "bgcolor": "white",
          "font": {
           "color": "darkred",
           "size": 10
          },
          "showarrow": true,
          "text": "below total median!",
          "x": 1,
          "y": 1255.5
         },
         {
          "arrowcolor": "darkred",
          "arrowhead": 1,
          "bgcolor": "white",
          "font": {
           "color": "darkred",
           "size": 10
          },
          "showarrow": true,
          "text": "below total median!",
          "x": 2,
          "y": 1781
         },
         {
          "arrowcolor": "darkred",
          "arrowhead": 1,
          "bgcolor": "white",
          "font": {
           "color": "darkred",
           "size": 10
          },
          "showarrow": true,
          "text": "below total median!",
          "x": 3,
          "y": 2192
         },
         {
          "arrowcolor": "darkred",
          "arrowhead": 1,
          "bgcolor": "white",
          "font": {
           "color": "darkred",
           "size": 10
          },
          "showarrow": true,
          "text": "below total median!",
          "x": 4,
          "y": 3240
         },
         {
          "arrowcolor": "darkgreen",
          "arrowhead": 1,
          "bgcolor": "white",
          "font": {
           "color": "darkgreen",
           "size": 10
          },
          "showarrow": true,
          "text": "above total median!",
          "x": 5,
          "y": 4787
         },
         {
          "arrowcolor": "darkgreen",
          "arrowhead": 1,
          "bgcolor": "white",
          "font": {
           "color": "darkgreen",
           "size": 10
          },
          "showarrow": true,
          "text": "above total median!",
          "x": 6,
          "y": 5069.5
         },
         {
          "arrowcolor": "darkgreen",
          "arrowhead": 1,
          "bgcolor": "white",
          "font": {
           "color": "darkgreen",
           "size": 10
          },
          "showarrow": true,
          "text": "above total median!",
          "x": 7,
          "y": 4881
         },
         {
          "arrowcolor": "darkgreen",
          "arrowhead": 1,
          "bgcolor": "white",
          "font": {
           "color": "darkgreen",
           "size": 10
          },
          "showarrow": true,
          "text": "above total median!",
          "x": 8,
          "y": 4694
         },
         {
          "arrowcolor": "darkgreen",
          "arrowhead": 1,
          "bgcolor": "white",
          "font": {
           "color": "darkgreen",
           "size": 10
          },
          "showarrow": true,
          "text": "above total median!",
          "x": 9,
          "y": 4392.5
         },
         {
          "arrowcolor": "darkgreen",
          "arrowhead": 1,
          "bgcolor": "white",
          "font": {
           "color": "darkgreen",
           "size": 10
          },
          "showarrow": true,
          "text": "above total median!",
          "x": 10,
          "y": 4570
         },
         {
          "arrowcolor": "darkgreen",
          "arrowhead": 1,
          "bgcolor": "white",
          "font": {
           "color": "darkgreen",
           "size": 10
          },
          "showarrow": true,
          "text": "above total median!",
          "x": 11,
          "y": 4152
         },
         {
          "arrowcolor": "darkred",
          "arrowhead": 1,
          "bgcolor": "white",
          "font": {
           "color": "darkred",
           "size": 10
          },
          "showarrow": true,
          "text": "below total median!",
          "x": 12,
          "y": 3322
         }
        ],
        "boxmode": "group",
        "legend": {
         "tracegroupgap": 0
        },
        "margin": {
         "t": 60
        },
        "shapes": [
         {
          "layer": "below",
          "line": {
           "color": "black",
           "dash": "dot"
          },
          "opacity": 0.3,
          "type": "line",
          "x0": 0,
          "x1": 1,
          "xref": "x domain",
          "y0": 3973,
          "y1": 3973,
          "yref": "y"
         }
        ],
        "template": {
         "data": {
          "bar": [
           {
            "error_x": {
             "color": "#2a3f5f"
            },
            "error_y": {
             "color": "#2a3f5f"
            },
            "marker": {
             "line": {
              "color": "#E5ECF6",
              "width": 0.5
             },
             "pattern": {
              "fillmode": "overlay",
              "size": 10,
              "solidity": 0.2
             }
            },
            "type": "bar"
           }
          ],
          "barpolar": [
           {
            "marker": {
             "line": {
              "color": "#E5ECF6",
              "width": 0.5
             },
             "pattern": {
              "fillmode": "overlay",
              "size": 10,
              "solidity": 0.2
             }
            },
            "type": "barpolar"
           }
          ],
          "carpet": [
           {
            "aaxis": {
             "endlinecolor": "#2a3f5f",
             "gridcolor": "white",
             "linecolor": "white",
             "minorgridcolor": "white",
             "startlinecolor": "#2a3f5f"
            },
            "baxis": {
             "endlinecolor": "#2a3f5f",
             "gridcolor": "white",
             "linecolor": "white",
             "minorgridcolor": "white",
             "startlinecolor": "#2a3f5f"
            },
            "type": "carpet"
           }
          ],
          "choropleth": [
           {
            "colorbar": {
             "outlinewidth": 0,
             "ticks": ""
            },
            "type": "choropleth"
           }
          ],
          "contour": [
           {
            "colorbar": {
             "outlinewidth": 0,
             "ticks": ""
            },
            "colorscale": [
             [
              0,
              "#0d0887"
             ],
             [
              0.1111111111111111,
              "#46039f"
             ],
             [
              0.2222222222222222,
              "#7201a8"
             ],
             [
              0.3333333333333333,
              "#9c179e"
             ],
             [
              0.4444444444444444,
              "#bd3786"
             ],
             [
              0.5555555555555556,
              "#d8576b"
             ],
             [
              0.6666666666666666,
              "#ed7953"
             ],
             [
              0.7777777777777778,
              "#fb9f3a"
             ],
             [
              0.8888888888888888,
              "#fdca26"
             ],
             [
              1,
              "#f0f921"
             ]
            ],
            "type": "contour"
           }
          ],
          "contourcarpet": [
           {
            "colorbar": {
             "outlinewidth": 0,
             "ticks": ""
            },
            "type": "contourcarpet"
           }
          ],
          "heatmap": [
           {
            "colorbar": {
             "outlinewidth": 0,
             "ticks": ""
            },
            "colorscale": [
             [
              0,
              "#0d0887"
             ],
             [
              0.1111111111111111,
              "#46039f"
             ],
             [
              0.2222222222222222,
              "#7201a8"
             ],
             [
              0.3333333333333333,
              "#9c179e"
             ],
             [
              0.4444444444444444,
              "#bd3786"
             ],
             [
              0.5555555555555556,
              "#d8576b"
             ],
             [
              0.6666666666666666,
              "#ed7953"
             ],
             [
              0.7777777777777778,
              "#fb9f3a"
             ],
             [
              0.8888888888888888,
              "#fdca26"
             ],
             [
              1,
              "#f0f921"
             ]
            ],
            "type": "heatmap"
           }
          ],
          "heatmapgl": [
           {
            "colorbar": {
             "outlinewidth": 0,
             "ticks": ""
            },
            "colorscale": [
             [
              0,
              "#0d0887"
             ],
             [
              0.1111111111111111,
              "#46039f"
             ],
             [
              0.2222222222222222,
              "#7201a8"
             ],
             [
              0.3333333333333333,
              "#9c179e"
             ],
             [
              0.4444444444444444,
              "#bd3786"
             ],
             [
              0.5555555555555556,
              "#d8576b"
             ],
             [
              0.6666666666666666,
              "#ed7953"
             ],
             [
              0.7777777777777778,
              "#fb9f3a"
             ],
             [
              0.8888888888888888,
              "#fdca26"
             ],
             [
              1,
              "#f0f921"
             ]
            ],
            "type": "heatmapgl"
           }
          ],
          "histogram": [
           {
            "marker": {
             "pattern": {
              "fillmode": "overlay",
              "size": 10,
              "solidity": 0.2
             }
            },
            "type": "histogram"
           }
          ],
          "histogram2d": [
           {
            "colorbar": {
             "outlinewidth": 0,
             "ticks": ""
            },
            "colorscale": [
             [
              0,
              "#0d0887"
             ],
             [
              0.1111111111111111,
              "#46039f"
             ],
             [
              0.2222222222222222,
              "#7201a8"
             ],
             [
              0.3333333333333333,
              "#9c179e"
             ],
             [
              0.4444444444444444,
              "#bd3786"
             ],
             [
              0.5555555555555556,
              "#d8576b"
             ],
             [
              0.6666666666666666,
              "#ed7953"
             ],
             [
              0.7777777777777778,
              "#fb9f3a"
             ],
             [
              0.8888888888888888,
              "#fdca26"
             ],
             [
              1,
              "#f0f921"
             ]
            ],
            "type": "histogram2d"
           }
          ],
          "histogram2dcontour": [
           {
            "colorbar": {
             "outlinewidth": 0,
             "ticks": ""
            },
            "colorscale": [
             [
              0,
              "#0d0887"
             ],
             [
              0.1111111111111111,
              "#46039f"
             ],
             [
              0.2222222222222222,
              "#7201a8"
             ],
             [
              0.3333333333333333,
              "#9c179e"
             ],
             [
              0.4444444444444444,
              "#bd3786"
             ],
             [
              0.5555555555555556,
              "#d8576b"
             ],
             [
              0.6666666666666666,
              "#ed7953"
             ],
             [
              0.7777777777777778,
              "#fb9f3a"
             ],
             [
              0.8888888888888888,
              "#fdca26"
             ],
             [
              1,
              "#f0f921"
             ]
            ],
            "type": "histogram2dcontour"
           }
          ],
          "mesh3d": [
           {
            "colorbar": {
             "outlinewidth": 0,
             "ticks": ""
            },
            "type": "mesh3d"
           }
          ],
          "parcoords": [
           {
            "line": {
             "colorbar": {
              "outlinewidth": 0,
              "ticks": ""
             }
            },
            "type": "parcoords"
           }
          ],
          "pie": [
           {
            "automargin": true,
            "type": "pie"
           }
          ],
          "scatter": [
           {
            "fillpattern": {
             "fillmode": "overlay",
             "size": 10,
             "solidity": 0.2
            },
            "type": "scatter"
           }
          ],
          "scatter3d": [
           {
            "line": {
             "colorbar": {
              "outlinewidth": 0,
              "ticks": ""
             }
            },
            "marker": {
             "colorbar": {
              "outlinewidth": 0,
              "ticks": ""
             }
            },
            "type": "scatter3d"
           }
          ],
          "scattercarpet": [
           {
            "marker": {
             "colorbar": {
              "outlinewidth": 0,
              "ticks": ""
             }
            },
            "type": "scattercarpet"
           }
          ],
          "scattergeo": [
           {
            "marker": {
             "colorbar": {
              "outlinewidth": 0,
              "ticks": ""
             }
            },
            "type": "scattergeo"
           }
          ],
          "scattergl": [
           {
            "marker": {
             "colorbar": {
              "outlinewidth": 0,
              "ticks": ""
             }
            },
            "type": "scattergl"
           }
          ],
          "scattermapbox": [
           {
            "marker": {
             "colorbar": {
              "outlinewidth": 0,
              "ticks": ""
             }
            },
            "type": "scattermapbox"
           }
          ],
          "scatterpolar": [
           {
            "marker": {
             "colorbar": {
              "outlinewidth": 0,
              "ticks": ""
             }
            },
            "type": "scatterpolar"
           }
          ],
          "scatterpolargl": [
           {
            "marker": {
             "colorbar": {
              "outlinewidth": 0,
              "ticks": ""
             }
            },
            "type": "scatterpolargl"
           }
          ],
          "scatterternary": [
           {
            "marker": {
             "colorbar": {
              "outlinewidth": 0,
              "ticks": ""
             }
            },
            "type": "scatterternary"
           }
          ],
          "surface": [
           {
            "colorbar": {
             "outlinewidth": 0,
             "ticks": ""
            },
            "colorscale": [
             [
              0,
              "#0d0887"
             ],
             [
              0.1111111111111111,
              "#46039f"
             ],
             [
              0.2222222222222222,
              "#7201a8"
             ],
             [
              0.3333333333333333,
              "#9c179e"
             ],
             [
              0.4444444444444444,
              "#bd3786"
             ],
             [
              0.5555555555555556,
              "#d8576b"
             ],
             [
              0.6666666666666666,
              "#ed7953"
             ],
             [
              0.7777777777777778,
              "#fb9f3a"
             ],
             [
              0.8888888888888888,
              "#fdca26"
             ],
             [
              1,
              "#f0f921"
             ]
            ],
            "type": "surface"
           }
          ],
          "table": [
           {
            "cells": {
             "fill": {
              "color": "#EBF0F8"
             },
             "line": {
              "color": "white"
             }
            },
            "header": {
             "fill": {
              "color": "#C8D4E3"
             },
             "line": {
              "color": "white"
             }
            },
            "type": "table"
           }
          ]
         },
         "layout": {
          "annotationdefaults": {
           "arrowcolor": "#2a3f5f",
           "arrowhead": 0,
           "arrowwidth": 1
          },
          "autotypenumbers": "strict",
          "coloraxis": {
           "colorbar": {
            "outlinewidth": 0,
            "ticks": ""
           }
          },
          "colorscale": {
           "diverging": [
            [
             0,
             "#8e0152"
            ],
            [
             0.1,
             "#c51b7d"
            ],
            [
             0.2,
             "#de77ae"
            ],
            [
             0.3,
             "#f1b6da"
            ],
            [
             0.4,
             "#fde0ef"
            ],
            [
             0.5,
             "#f7f7f7"
            ],
            [
             0.6,
             "#e6f5d0"
            ],
            [
             0.7,
             "#b8e186"
            ],
            [
             0.8,
             "#7fbc41"
            ],
            [
             0.9,
             "#4d9221"
            ],
            [
             1,
             "#276419"
            ]
           ],
           "sequential": [
            [
             0,
             "#0d0887"
            ],
            [
             0.1111111111111111,
             "#46039f"
            ],
            [
             0.2222222222222222,
             "#7201a8"
            ],
            [
             0.3333333333333333,
             "#9c179e"
            ],
            [
             0.4444444444444444,
             "#bd3786"
            ],
            [
             0.5555555555555556,
             "#d8576b"
            ],
            [
             0.6666666666666666,
             "#ed7953"
            ],
            [
             0.7777777777777778,
             "#fb9f3a"
            ],
            [
             0.8888888888888888,
             "#fdca26"
            ],
            [
             1,
             "#f0f921"
            ]
           ],
           "sequentialminus": [
            [
             0,
             "#0d0887"
            ],
            [
             0.1111111111111111,
             "#46039f"
            ],
            [
             0.2222222222222222,
             "#7201a8"
            ],
            [
             0.3333333333333333,
             "#9c179e"
            ],
            [
             0.4444444444444444,
             "#bd3786"
            ],
            [
             0.5555555555555556,
             "#d8576b"
            ],
            [
             0.6666666666666666,
             "#ed7953"
            ],
            [
             0.7777777777777778,
             "#fb9f3a"
            ],
            [
             0.8888888888888888,
             "#fdca26"
            ],
            [
             1,
             "#f0f921"
            ]
           ]
          },
          "colorway": [
           "#636efa",
           "#EF553B",
           "#00cc96",
           "#ab63fa",
           "#FFA15A",
           "#19d3f3",
           "#FF6692",
           "#B6E880",
           "#FF97FF",
           "#FECB52"
          ],
          "font": {
           "color": "#2a3f5f"
          },
          "geo": {
           "bgcolor": "white",
           "lakecolor": "white",
           "landcolor": "#E5ECF6",
           "showlakes": true,
           "showland": true,
           "subunitcolor": "white"
          },
          "hoverlabel": {
           "align": "left"
          },
          "hovermode": "closest",
          "mapbox": {
           "style": "light"
          },
          "paper_bgcolor": "white",
          "plot_bgcolor": "#E5ECF6",
          "polar": {
           "angularaxis": {
            "gridcolor": "white",
            "linecolor": "white",
            "ticks": ""
           },
           "bgcolor": "#E5ECF6",
           "radialaxis": {
            "gridcolor": "white",
            "linecolor": "white",
            "ticks": ""
           }
          },
          "scene": {
           "xaxis": {
            "backgroundcolor": "#E5ECF6",
            "gridcolor": "white",
            "gridwidth": 2,
            "linecolor": "white",
            "showbackground": true,
            "ticks": "",
            "zerolinecolor": "white"
           },
           "yaxis": {
            "backgroundcolor": "#E5ECF6",
            "gridcolor": "white",
            "gridwidth": 2,
            "linecolor": "white",
            "showbackground": true,
            "ticks": "",
            "zerolinecolor": "white"
           },
           "zaxis": {
            "backgroundcolor": "#E5ECF6",
            "gridcolor": "white",
            "gridwidth": 2,
            "linecolor": "white",
            "showbackground": true,
            "ticks": "",
            "zerolinecolor": "white"
           }
          },
          "shapedefaults": {
           "line": {
            "color": "#2a3f5f"
           }
          },
          "ternary": {
           "aaxis": {
            "gridcolor": "white",
            "linecolor": "white",
            "ticks": ""
           },
           "baxis": {
            "gridcolor": "white",
            "linecolor": "white",
            "ticks": ""
           },
           "bgcolor": "#E5ECF6",
           "caxis": {
            "gridcolor": "white",
            "linecolor": "white",
            "ticks": ""
           }
          },
          "title": {
           "x": 0.05
          },
          "xaxis": {
           "automargin": true,
           "gridcolor": "white",
           "linecolor": "white",
           "ticks": "",
           "title": {
            "standoff": 15
           },
           "zerolinecolor": "white",
           "zerolinewidth": 2
          },
          "yaxis": {
           "automargin": true,
           "gridcolor": "white",
           "linecolor": "white",
           "ticks": "",
           "title": {
            "standoff": 15
           },
           "zerolinecolor": "white",
           "zerolinewidth": 2
          }
         }
        },
        "title": {
         "text": "<b>Boxplot of total monthly Customers</b>"
        },
        "xaxis": {
         "anchor": "y",
         "domain": [
          0,
          1
         ],
         "title": {
          "text": "Month"
         }
        },
        "yaxis": {
         "anchor": "x",
         "domain": [
          0,
          1
         ],
         "title": {
          "text": "Total Customers"
         }
        }
       }
      }
     },
     "metadata": {},
     "output_type": "display_data"
    }
   ],
   "source": [
    "fig= px.box(\n",
    " x= df_box_2020.month,\n",
    " y=df_box_2020.registered_customer,\n",
    " points= \"all\",\n",
    " labels= dict(x= \"Month\", y= \"Total Customers\"),\n",
    " color_discrete_map= dict(df_box_2020 = \"rot\")\n",
    ")\n",
    "\n",
    "fig.add_hline(\n",
    " y= df_box_2020.registered_customer.median(),\n",
    " opacity = 0.3,\n",
    " line_dash= \"dot\",\n",
    " line_color= \"black\",\n",
    " layer= \"below\",\n",
    " annotation_text= \"Total Median 2020\",\n",
    " annotation_position= \"top left\",\n",
    " annotation_font_color= \"black\",\n",
    ")\n",
    "\n",
    "fig.update_annotations(opacity= 0.3)\n",
    "\n",
    "for month in df_box_2020.month.unique():\n",
    "  prefix= \"same as\"\n",
    "  color= \"grey\"\n",
    "  if df_box_2020.registered_customer.median() < df_box_2020[df_box_2020.month == month].registered_customer.median():\n",
    "   prefix= \"above\"\n",
    "   color= \"darkgreen\"\n",
    "  elif df_box_2020.registered_customer.median() > df_box_2020[df_box_2020.month == month].registered_customer.median():\n",
    "   prefix= \"below\"\n",
    "   color= \"darkred\"\n",
    "\n",
    "  fig.add_annotation(\n",
    "    text=f\"{prefix} total median!\", x=month, y= df_box_2020[df_box_2020.month == month].registered_customer.median(),\n",
    "        arrowhead=1, showarrow=True, arrowcolor=color,        \n",
    "        bgcolor='white',\n",
    "        font=dict(size=10, color=color)\n",
    "  )\n",
    "  \n",
    "\n",
    "\n",
    "\n",
    "\n",
    "\n",
    "\n",
    "fig.update_layout(title= dict(text= \"<b>Boxplot of total monthly Customers</b>\"))\n",
    "fig.show()\n"
   ]
  },
  {
   "cell_type": "markdown",
   "metadata": {},
   "source": [
    "#### kann ich noch ohne annotations sondern mit color vom boxplot zu machen "
   ]
  },
  {
   "cell_type": "code",
   "execution_count": 10,
   "metadata": {},
   "outputs": [],
   "source": [
    "color = []\n",
    "for month in df_box_2020.month.unique():\n",
    "  color= \"grey\"\n",
    "  if df_box_2020.registered_customer.median() < df_box_2020[df_box_2020.month == month].registered_customer.median():\n",
    "   color= \"red\"\n",
    "  elif df_box_2020.registered_customer.median() > df_box_2020[df_box_2020.month == month].registered_customer.median():\n",
    "   color= \"green\""
   ]
  },
  {
   "cell_type": "code",
   "execution_count": 11,
   "metadata": {},
   "outputs": [
    {
     "name": "stderr",
     "output_type": "stream",
     "text": [
      "/var/folders/f6/gs3z1yx9005b5dmpnd_z3t3m0000gn/T/ipykernel_41835/4193406647.py:1: SettingWithCopyWarning:\n",
      "\n",
      "\n",
      "A value is trying to be set on a copy of a slice from a DataFrame.\n",
      "Try using .loc[row_indexer,col_indexer] = value instead\n",
      "\n",
      "See the caveats in the documentation: https://pandas.pydata.org/pandas-docs/stable/user_guide/indexing.html#returning-a-view-versus-a-copy\n",
      "\n"
     ]
    }
   ],
   "source": [
    "df_box_2020[\"color\"] = color"
   ]
  },
  {
   "cell_type": "code",
   "execution_count": 12,
   "metadata": {},
   "outputs": [
    {
     "data": {
      "application/vnd.plotly.v1+json": {
       "config": {
        "plotlyServerURL": "https://plot.ly"
       },
       "data": [
        {
         "boxpoints": "all",
         "fillcolor": "lightgrey",
         "hoveron": "boxes+points",
         "jitter": 0.5,
         "line": {
          "width": 1
         },
         "marker": {
          "color": "rgb(0, 0, 0)",
          "size": 2
         },
         "name": "2020",
         "type": "box",
         "whiskerwidth": 0.2,
         "x": [
          1,
          1,
          1,
          1,
          1,
          1,
          1,
          1,
          1,
          1,
          1,
          1,
          1,
          1,
          1,
          1,
          1,
          1,
          1,
          1,
          1,
          1,
          1,
          1,
          1,
          1,
          1,
          1,
          2,
          2,
          2,
          2,
          2,
          2,
          2,
          2,
          2,
          2,
          2,
          2,
          2,
          2,
          2,
          2,
          2,
          2,
          2,
          2,
          2,
          2,
          2,
          2,
          2,
          2,
          2,
          2,
          2,
          3,
          3,
          3,
          3,
          3,
          3,
          3,
          3,
          3,
          3,
          3,
          3,
          3,
          3,
          3,
          3,
          3,
          3,
          3,
          3,
          3,
          3,
          3,
          3,
          3,
          3,
          3,
          3,
          3,
          3,
          3,
          4,
          4,
          4,
          4,
          4,
          4,
          4,
          4,
          4,
          4,
          4,
          4,
          4,
          4,
          4,
          4,
          4,
          4,
          4,
          4,
          4,
          4,
          4,
          4,
          4,
          4,
          4,
          4,
          4,
          4,
          5,
          5,
          5,
          5,
          5,
          5,
          5,
          5,
          5,
          5,
          5,
          5,
          5,
          5,
          5,
          5,
          5,
          5,
          5,
          5,
          5,
          5,
          5,
          5,
          5,
          5,
          5,
          5,
          5,
          5,
          5,
          6,
          6,
          6,
          6,
          6,
          6,
          6,
          6,
          6,
          6,
          6,
          6,
          6,
          6,
          6,
          6,
          6,
          6,
          6,
          6,
          6,
          6,
          6,
          6,
          6,
          6,
          6,
          6,
          6,
          6,
          7,
          7,
          7,
          7,
          7,
          7,
          7,
          7,
          7,
          7,
          7,
          7,
          7,
          7,
          7,
          7,
          7,
          7,
          7,
          7,
          7,
          7,
          7,
          7,
          7,
          7,
          7,
          7,
          7,
          7,
          7,
          8,
          8,
          8,
          8,
          8,
          8,
          8,
          8,
          8,
          8,
          8,
          8,
          8,
          8,
          8,
          8,
          8,
          8,
          8,
          8,
          8,
          8,
          8,
          8,
          8,
          8,
          8,
          8,
          8,
          8,
          8,
          9,
          9,
          9,
          9,
          9,
          9,
          9,
          9,
          9,
          9,
          9,
          9,
          9,
          9,
          9,
          9,
          9,
          9,
          9,
          9,
          9,
          9,
          9,
          9,
          9,
          9,
          9,
          9,
          9,
          9,
          10,
          10,
          10,
          10,
          10,
          10,
          10,
          10,
          10,
          10,
          10,
          10,
          10,
          10,
          10,
          10,
          10,
          10,
          10,
          10,
          10,
          10,
          10,
          10,
          10,
          10,
          10,
          10,
          10,
          10,
          10,
          11,
          11,
          11,
          11,
          11,
          11,
          11,
          11,
          11,
          11,
          11,
          11,
          11,
          11,
          11,
          11,
          11,
          11,
          11,
          11,
          11,
          11,
          11,
          11,
          11,
          11,
          11,
          11,
          11,
          11,
          12,
          12,
          12,
          12,
          12,
          12,
          12,
          12,
          12,
          12,
          12,
          12,
          12,
          12,
          12,
          12,
          12,
          12,
          12,
          12,
          12,
          12,
          12,
          12,
          12,
          12,
          12,
          12,
          12,
          12,
          12
         ],
         "xaxis": "x",
         "y": [
          985,
          801,
          1349,
          1562,
          1600,
          1606,
          1510,
          959,
          822,
          1321,
          1263,
          1162,
          1406,
          1421,
          1248,
          1204,
          1000,
          683,
          1650,
          1487,
          1283,
          863,
          818,
          1206,
          1515,
          412,
          674,
          2510,
          2106,
          1917,
          1924,
          1879,
          1932,
          1895,
          1972,
          1229,
          1781,
          1712,
          1530,
          1605,
          1538,
          1746,
          1472,
          1589,
          1913,
          1815,
          2115,
          2475,
          2927,
          1635,
          1584,
          1359,
          1636,
          1788,
          1565,
          1592,
          3339,
          3104,
          2254,
          2649,
          2795,
          2229,
          2352,
          2412,
          884,
          2106,
          2133,
          1891,
          623,
          1977,
          2132,
          2417,
          2046,
          2056,
          2192,
          2744,
          3239,
          3117,
          2029,
          2713,
          2889,
          1733,
          1995,
          2271,
          2158,
          2025,
          2142,
          4837,
          3767,
          3191,
          3451,
          3262,
          4037,
          3692,
          2295,
          3218,
          3435,
          1471,
          2455,
          2895,
          3348,
          2034,
          2162,
          3267,
          3126,
          795,
          3744,
          3429,
          3204,
          3516,
          3149,
          1583,
          3165,
          3560,
          3493,
          3429,
          2726,
          7114,
          6532,
          6207,
          5267,
          5920,
          5711,
          3610,
          5193,
          5204,
          5229,
          4333,
          4362,
          4803,
          4182,
          4864,
          4105,
          3409,
          4553,
          3958,
          4123,
          3855,
          4575,
          4985,
          5472,
          4868,
          3829,
          4242,
          4660,
          4439,
          4787,
          5230,
          8904,
          8688,
          7059,
          6351,
          6806,
          6844,
          6499,
          5890,
          5324,
          5446,
          4401,
          3915,
          4586,
          4966,
          4460,
          5020,
          4891,
          5180,
          3767,
          4844,
          5119,
          4744,
          4272,
          4198,
          4472,
          4561,
          5213,
          5606,
          5402,
          4617,
          9164,
          8607,
          7953,
          7850,
          7055,
          6179,
          7318,
          5621,
          5373,
          5256,
          4040,
          5336,
          4881,
          4086,
          4258,
          4342,
          5084,
          5538,
          5923,
          5302,
          4458,
          4541,
          4279,
          3967,
          3973,
          3874,
          4040,
          3975,
          4613,
          4743,
          4570,
          8111,
          8002,
          6796,
          6371,
          6574,
          4914,
          5620,
          5755,
          4979,
          4338,
          4326,
          4602,
          4780,
          4792,
          4905,
          4150,
          3820,
          4338,
          4725,
          4694,
          3805,
          4153,
          4903,
          4054,
          4547,
          4848,
          4642,
          3704,
          4357,
          1737,
          4369,
          8666,
          7872,
          7150,
          7100,
          6396,
          5784,
          5976,
          4206,
          3321,
          2558,
          1842,
          3544,
          5345,
          5046,
          4713,
          4763,
          4785,
          3659,
          4760,
          4511,
          4274,
          4539,
          3026,
          2788,
          2933,
          2299,
          4072,
          4123,
          3835,
          3405,
          7146,
          8070,
          7486,
          4494,
          4527,
          4827,
          5561,
          5626,
          5453,
          5489,
          5409,
          5511,
          5117,
          4563,
          2416,
          2913,
          3644,
          5217,
          5041,
          4570,
          4748,
          2424,
          3966,
          4438,
          4388,
          4286,
          4120,
          4593,
          3987,
          3217,
          3567,
          4920,
          6436,
          5934,
          5852,
          5600,
          5109,
          4952,
          4651,
          4242,
          4474,
          4205,
          4109,
          2933,
          3368,
          4067,
          3717,
          4486,
          4195,
          1817,
          3053,
          3392,
          3663,
          4043,
          2693,
          2420,
          3045,
          3493,
          4291,
          3827,
          4388,
          7538,
          5400,
          5489,
          5372,
          5236,
          4602,
          4321,
          4431,
          3150,
          1132,
          3322,
          3620,
          3190,
          2743,
          3310,
          3523,
          3740,
          3709,
          3577,
          2739,
          2431,
          3403,
          3967,
          1730,
          3030,
          2924,
          2589,
          2344,
          2514,
          2225,
          2792,
          5554
         ],
         "yaxis": "y"
        },
        {
         "boxpoints": "all",
         "fillcolor": "grey",
         "hoveron": "boxes+points",
         "jitter": 0.5,
         "line": {
          "width": 1
         },
         "marker": {
          "color": "rgb(0, 0, 0)",
          "size": 2
         },
         "name": "2021",
         "type": "box",
         "whiskerwidth": 0.2,
         "x": [
          1,
          1,
          1,
          1,
          1,
          1,
          1,
          1,
          1,
          1,
          1,
          1,
          1,
          1,
          1,
          1,
          1,
          1,
          1,
          1,
          1,
          1,
          1,
          1,
          1,
          1,
          1,
          1,
          1,
          1,
          1,
          2,
          2,
          2,
          2,
          2,
          2,
          2,
          2,
          2,
          2,
          2,
          2,
          2,
          2,
          2,
          2,
          2,
          2,
          2,
          2,
          2,
          2,
          2,
          2,
          2,
          2,
          2,
          2,
          3,
          3,
          3,
          3,
          3,
          3,
          3,
          3,
          3,
          3,
          3,
          3,
          3,
          3,
          3,
          3,
          3,
          3,
          3,
          3,
          3,
          3,
          3,
          3,
          3,
          3,
          3,
          3,
          3,
          3,
          3,
          4,
          4,
          4,
          4,
          4,
          4,
          4,
          4,
          4,
          4,
          4,
          4,
          4,
          4,
          4,
          4,
          4,
          4,
          4,
          4,
          4,
          4,
          4,
          4,
          4,
          4,
          4,
          4,
          4,
          4,
          5,
          5,
          5,
          5,
          5,
          5,
          5,
          5,
          5,
          5,
          5,
          5,
          5,
          5,
          5,
          5,
          5,
          5,
          5,
          5,
          5,
          5,
          5,
          5,
          5,
          5,
          5,
          5,
          5,
          5,
          5,
          6,
          6,
          6,
          6,
          6,
          6,
          6,
          6,
          6,
          6,
          6,
          6,
          6,
          6,
          6,
          6,
          6,
          6,
          6,
          6,
          6,
          6,
          6,
          6,
          6,
          6,
          6,
          6,
          6,
          6,
          7,
          7,
          7,
          7,
          7,
          7,
          7,
          7,
          7,
          7,
          7,
          7,
          7,
          7,
          7,
          7,
          7,
          7,
          7,
          7,
          7,
          7,
          7,
          7,
          7,
          7,
          7,
          7,
          7,
          7,
          7,
          8,
          8,
          8,
          8,
          8,
          8,
          8,
          8,
          8,
          8,
          8,
          8,
          8,
          8,
          8,
          8,
          8,
          8,
          8,
          8,
          8,
          8,
          8,
          8,
          8,
          8,
          8,
          8,
          8,
          8,
          8,
          9,
          9,
          9,
          9,
          9,
          9,
          9,
          9,
          9,
          9,
          9,
          9,
          9,
          9,
          9,
          9,
          9,
          9,
          9,
          9,
          9,
          9,
          9,
          9,
          9,
          9,
          9,
          9,
          9,
          9,
          10,
          10,
          10,
          10,
          10,
          10,
          10,
          10,
          10,
          10,
          10,
          10,
          10,
          10,
          10,
          10,
          10,
          10,
          10,
          10,
          10,
          10,
          10,
          10,
          10,
          10,
          10,
          10,
          10,
          10,
          10,
          11,
          11,
          11,
          11,
          11,
          11,
          11,
          11,
          11,
          11,
          11,
          11,
          11,
          11,
          11,
          11,
          11,
          11,
          11,
          11,
          11,
          11,
          11,
          11,
          11,
          11,
          11,
          11,
          11,
          11,
          12,
          12,
          12,
          12,
          12,
          12,
          12,
          12,
          12,
          12,
          12,
          12,
          12,
          12,
          12,
          12,
          12,
          12,
          12,
          12,
          12,
          12,
          12,
          12,
          12,
          12,
          12,
          12,
          12,
          12,
          12
         ],
         "xaxis": "x2",
         "y": [
          5227,
          5010,
          3782,
          3147,
          3199,
          3162,
          3861,
          4556,
          4886,
          3425,
          2376,
          3598,
          2177,
          4097,
          3214,
          2493,
          2311,
          2298,
          2935,
          3376,
          3292,
          3090,
          1877,
          2279,
          2683,
          3474,
          3638,
          3514,
          3221,
          3283,
          6002,
          5748,
          6126,
          6307,
          5206,
          5314,
          3754,
          3713,
          4370,
          4861,
          2802,
          3830,
          3831,
          2169,
          1529,
          3422,
          3922,
          4169,
          3005,
          4154,
          4318,
          2689,
          2750,
          3658,
          4130,
          4738,
          3421,
          2724,
          6563,
          6815,
          6111,
          4705,
          6450,
          4363,
          5008,
          4152,
          3930,
          4422,
          4916,
          5382,
          4569,
          4118,
          4911,
          5298,
          5847,
          6312,
          6192,
          4378,
          7836,
          5892,
          6153,
          5573,
          5580,
          6398,
          6675,
          2847,
          4277,
          5223,
          5138,
          11899,
          10183,
          8550,
          8265,
          8414,
          7848,
          8317,
          7675,
          7450,
          7239,
          6857,
          5169,
          5585,
          5918,
          4862,
          5409,
          6398,
          7460,
          7132,
          6370,
          6691,
          4367,
          6565,
          6903,
          6853,
          1855,
          2922,
          5739,
          6226,
          5254,
          12161,
          10031,
          10188,
          8523,
          8107,
          8123,
          7979,
          7500,
          7839,
          7189,
          6273,
          5728,
          4717,
          6572,
          7030,
          7429,
          6118,
          2843,
          5115,
          7424,
          7384,
          7639,
          8294,
          6875,
          4686,
          5943,
          5228,
          6622,
          6793,
          6803,
          6002,
          12915,
          10951,
          10754,
          10483,
          6681,
          10152,
          9288,
          8347,
          8146,
          7942,
          7494,
          7736,
          7498,
          6598,
          6664,
          4972,
          7421,
          7363,
          7665,
          7702,
          6978,
          5099,
          6825,
          6481,
          6500,
          6615,
          7522,
          6594,
          6892,
          7254,
          13542,
          12247,
          9727,
          9467,
          8066,
          8221,
          8262,
          8692,
          7281,
          7008,
          4840,
          4672,
          6569,
          6290,
          7264,
          7446,
          7499,
          6969,
          6031,
          6830,
          6786,
          5713,
          6591,
          4955,
          3468,
          6139,
          6475,
          6758,
          7289,
          6460,
          6797,
          13405,
          11662,
          10877,
          10167,
          10279,
          9360,
          8851,
          8228,
          6576,
          7871,
          7273,
          7534,
          7286,
          5786,
          6299,
          6544,
          6883,
          6784,
          7347,
          7605,
          7148,
          7865,
          4549,
          5948,
          6901,
          6623,
          7278,
          7249,
          6402,
          4258,
          6583,
          13678,
          12681,
          11590,
          10607,
          8804,
          7931,
          7747,
          8228,
          8174,
          7033,
          7504,
          5976,
          8227,
          7525,
          7767,
          7870,
          7804,
          8009,
          8714,
          7333,
          6869,
          4073,
          7591,
          7724,
          7972,
          8088,
          7178,
          7311,
          7950,
          7703,
          13822,
          13023,
          12188,
          10362,
          9519,
          6925,
          9441,
          8809,
          9347,
          8917,
          3510,
          5478,
          6392,
          7691,
          7570,
          7282,
          7109,
          6639,
          5875,
          7534,
          7461,
          7509,
          5424,
          7678,
          6965,
          7473,
          7942,
          7785,
          6170,
          6321,
          7181,
          8902,
          3476,
          4520,
          8271,
          7797,
          7178,
          6269,
          6007,
          5994,
          6272,
          5035,
          5315,
          5992,
          6536,
          6852,
          6269,
          4094,
          5495,
          5445,
          5698,
          5629,
          4669,
          5499,
          5912,
          6012,
          5309,
          6153,
          4122,
          3762,
          5507,
          8736,
          9563,
          8883,
          8315,
          7255,
          6280,
          7566,
          7757,
          6598,
          6046,
          5008,
          5582,
          3228,
          5170,
          5501,
          5319,
          5532,
          5611,
          5047,
          3786,
          4585,
          5557,
          5267,
          4821,
          4476,
          3360,
          3805,
          3322,
          4577,
          1424,
          4231,
          8144
         ],
         "yaxis": "y2"
        }
       ],
       "layout": {
        "annotations": [
         {
          "font": {
           "size": 16
          },
          "showarrow": false,
          "text": "2020",
          "x": 0.5,
          "xanchor": "center",
          "xref": "paper",
          "y": 1,
          "yanchor": "bottom",
          "yref": "paper"
         },
         {
          "font": {
           "size": 16
          },
          "showarrow": false,
          "text": "2021",
          "x": 0.5,
          "xanchor": "center",
          "xref": "paper",
          "y": 0.375,
          "yanchor": "bottom",
          "yref": "paper"
         },
         {
          "arrowcolor": "darkred",
          "arrowhead": 1,
          "bgcolor": "white",
          "font": {
           "color": "darkred",
           "size": 10
          },
          "showarrow": true,
          "text": "below median 2020!",
          "x": 1,
          "y": 1255.5
         },
         {
          "arrowcolor": "darkred",
          "arrowhead": 1,
          "bgcolor": "white",
          "font": {
           "color": "darkred",
           "size": 10
          },
          "showarrow": true,
          "text": "below median 2020!",
          "x": 2,
          "y": 1781
         },
         {
          "arrowcolor": "darkred",
          "arrowhead": 1,
          "bgcolor": "white",
          "font": {
           "color": "darkred",
           "size": 10
          },
          "showarrow": true,
          "text": "below median 2020!",
          "x": 3,
          "y": 2192
         },
         {
          "arrowcolor": "darkred",
          "arrowhead": 1,
          "bgcolor": "white",
          "font": {
           "color": "darkred",
           "size": 10
          },
          "showarrow": true,
          "text": "below median 2020!",
          "x": 4,
          "y": 3240
         },
         {
          "arrowcolor": "darkgreen",
          "arrowhead": 1,
          "bgcolor": "white",
          "font": {
           "color": "darkgreen",
           "size": 10
          },
          "showarrow": true,
          "text": "above median 2020!",
          "x": 5,
          "y": 4787
         },
         {
          "arrowcolor": "darkgreen",
          "arrowhead": 1,
          "bgcolor": "white",
          "font": {
           "color": "darkgreen",
           "size": 10
          },
          "showarrow": true,
          "text": "above median 2020!",
          "x": 6,
          "y": 5069.5
         },
         {
          "arrowcolor": "darkgreen",
          "arrowhead": 1,
          "bgcolor": "white",
          "font": {
           "color": "darkgreen",
           "size": 10
          },
          "showarrow": true,
          "text": "above median 2020!",
          "x": 7,
          "y": 4881
         },
         {
          "arrowcolor": "darkgreen",
          "arrowhead": 1,
          "bgcolor": "white",
          "font": {
           "color": "darkgreen",
           "size": 10
          },
          "showarrow": true,
          "text": "above median 2020!",
          "x": 8,
          "y": 4694
         },
         {
          "arrowcolor": "darkgreen",
          "arrowhead": 1,
          "bgcolor": "white",
          "font": {
           "color": "darkgreen",
           "size": 10
          },
          "showarrow": true,
          "text": "above median 2020!",
          "x": 9,
          "y": 4392.5
         },
         {
          "arrowcolor": "darkgreen",
          "arrowhead": 1,
          "bgcolor": "white",
          "font": {
           "color": "darkgreen",
           "size": 10
          },
          "showarrow": true,
          "text": "above median 2020!",
          "x": 10,
          "y": 4570
         },
         {
          "arrowcolor": "darkgreen",
          "arrowhead": 1,
          "bgcolor": "white",
          "font": {
           "color": "darkgreen",
           "size": 10
          },
          "showarrow": true,
          "text": "above median 2020!",
          "x": 11,
          "y": 4152
         },
         {
          "arrowcolor": "darkred",
          "arrowhead": 1,
          "bgcolor": "white",
          "font": {
           "color": "darkred",
           "size": 10
          },
          "showarrow": true,
          "text": "below median 2020!",
          "x": 12,
          "y": 3322
         },
         {
          "font": {
           "color": "grey"
          },
          "opacity": 0.5,
          "showarrow": false,
          "text": "Total Median 2020",
          "x": 0,
          "xanchor": "left",
          "xref": "x domain",
          "y": 3973,
          "yanchor": "bottom",
          "yref": "y"
         },
         {
          "font": {
           "color": "black"
          },
          "opacity": 0.5,
          "showarrow": false,
          "text": "Total Median 2021",
          "x": 0,
          "xanchor": "left",
          "xref": "x domain",
          "y": 6481,
          "yanchor": "bottom",
          "yref": "y"
         },
         {
          "arrowcolor": "darkred",
          "arrowhead": 1,
          "bgcolor": "white",
          "font": {
           "color": "darkred",
           "size": 10
          },
          "showarrow": true,
          "text": "below median 2021!",
          "x": 1,
          "xref": "x2",
          "y": 3283,
          "yref": "y2"
         },
         {
          "arrowcolor": "darkred",
          "arrowhead": 1,
          "bgcolor": "white",
          "font": {
           "color": "darkred",
           "size": 10
          },
          "showarrow": true,
          "text": "below median 2021!",
          "x": 2,
          "xref": "x2",
          "y": 3876.5,
          "yref": "y2"
         },
         {
          "arrowcolor": "darkred",
          "arrowhead": 1,
          "bgcolor": "white",
          "font": {
           "color": "darkred",
           "size": 10
          },
          "showarrow": true,
          "text": "below median 2021!",
          "x": 3,
          "xref": "x2",
          "y": 5298,
          "yref": "y2"
         },
         {
          "arrowcolor": "darkgreen",
          "arrowhead": 1,
          "bgcolor": "white",
          "font": {
           "color": "darkgreen",
           "size": 10
          },
          "showarrow": true,
          "text": "above median 2021!",
          "x": 4,
          "xref": "x2",
          "y": 6772,
          "yref": "y2"
         },
         {
          "arrowcolor": "darkgreen",
          "arrowhead": 1,
          "bgcolor": "white",
          "font": {
           "color": "darkgreen",
           "size": 10
          },
          "showarrow": true,
          "text": "above median 2021!",
          "x": 5,
          "xref": "x2",
          "y": 7030,
          "yref": "y2"
         },
         {
          "arrowcolor": "darkgreen",
          "arrowhead": 1,
          "bgcolor": "white",
          "font": {
           "color": "darkgreen",
           "size": 10
          },
          "showarrow": true,
          "text": "above median 2021!",
          "x": 6,
          "xref": "x2",
          "y": 7457.5,
          "yref": "y2"
         },
         {
          "arrowcolor": "darkgreen",
          "arrowhead": 1,
          "bgcolor": "white",
          "font": {
           "color": "darkgreen",
           "size": 10
          },
          "showarrow": true,
          "text": "above median 2021!",
          "x": 7,
          "xref": "x2",
          "y": 6830,
          "yref": "y2"
         },
         {
          "arrowcolor": "darkgreen",
          "arrowhead": 1,
          "bgcolor": "white",
          "font": {
           "color": "darkgreen",
           "size": 10
          },
          "showarrow": true,
          "text": "above median 2021!",
          "x": 8,
          "xref": "x2",
          "y": 7273,
          "yref": "y2"
         },
         {
          "arrowcolor": "darkgreen",
          "arrowhead": 1,
          "bgcolor": "white",
          "font": {
           "color": "darkgreen",
           "size": 10
          },
          "showarrow": true,
          "text": "above median 2021!",
          "x": 9,
          "xref": "x2",
          "y": 7837,
          "yref": "y2"
         },
         {
          "arrowcolor": "darkgreen",
          "arrowhead": 1,
          "bgcolor": "white",
          "font": {
           "color": "darkgreen",
           "size": 10
          },
          "showarrow": true,
          "text": "above median 2021!",
          "x": 10,
          "xref": "x2",
          "y": 7509,
          "yref": "y2"
         },
         {
          "arrowcolor": "darkred",
          "arrowhead": 1,
          "bgcolor": "white",
          "font": {
           "color": "darkred",
           "size": 10
          },
          "showarrow": true,
          "text": "below median 2021!",
          "x": 11,
          "xref": "x2",
          "y": 5805,
          "yref": "y2"
         },
         {
          "arrowcolor": "darkred",
          "arrowhead": 1,
          "bgcolor": "white",
          "font": {
           "color": "darkred",
           "size": 10
          },
          "showarrow": true,
          "text": "below median 2021!",
          "x": 12,
          "xref": "x2",
          "y": 5319,
          "yref": "y2"
         },
         {
          "font": {
           "color": "black"
          },
          "opacity": 0.5,
          "showarrow": false,
          "text": "Total Median 2021",
          "x": 0,
          "xanchor": "left",
          "xref": "x2 domain",
          "y": 6481,
          "yanchor": "bottom",
          "yref": "y2"
         },
         {
          "font": {
           "color": "grey"
          },
          "opacity": 0.5,
          "showarrow": false,
          "text": "Total Median 2020",
          "x": 0,
          "xanchor": "left",
          "xref": "x2 domain",
          "y": 3973,
          "yanchor": "bottom",
          "yref": "y2"
         }
        ],
        "height": 770,
        "legend": {
         "title": {
          "text": "Year"
         }
        },
        "shapes": [
         {
          "layer": "below",
          "line": {
           "color": "grey",
           "dash": "dot"
          },
          "opacity": 0.5,
          "type": "line",
          "x0": 0,
          "x1": 1,
          "xref": "x domain",
          "y0": 3973,
          "y1": 3973,
          "yref": "y"
         },
         {
          "layer": "below",
          "line": {
           "color": "black",
           "dash": "dot"
          },
          "opacity": 0.5,
          "type": "line",
          "x0": 0,
          "x1": 1,
          "xref": "x domain",
          "y0": 6481,
          "y1": 6481,
          "yref": "y"
         },
         {
          "layer": "below",
          "line": {
           "color": "black",
           "dash": "dot"
          },
          "opacity": 0.5,
          "type": "line",
          "x0": 0,
          "x1": 1,
          "xref": "x2 domain",
          "y0": 6481,
          "y1": 6481,
          "yref": "y2"
         },
         {
          "layer": "below",
          "line": {
           "color": "grey",
           "dash": "dot"
          },
          "opacity": 0.5,
          "type": "line",
          "x0": 0,
          "x1": 1,
          "xref": "x2 domain",
          "y0": 3973,
          "y1": 3973,
          "yref": "y2"
         }
        ],
        "template": {
         "data": {
          "bar": [
           {
            "error_x": {
             "color": "#2a3f5f"
            },
            "error_y": {
             "color": "#2a3f5f"
            },
            "marker": {
             "line": {
              "color": "#E5ECF6",
              "width": 0.5
             },
             "pattern": {
              "fillmode": "overlay",
              "size": 10,
              "solidity": 0.2
             }
            },
            "type": "bar"
           }
          ],
          "barpolar": [
           {
            "marker": {
             "line": {
              "color": "#E5ECF6",
              "width": 0.5
             },
             "pattern": {
              "fillmode": "overlay",
              "size": 10,
              "solidity": 0.2
             }
            },
            "type": "barpolar"
           }
          ],
          "carpet": [
           {
            "aaxis": {
             "endlinecolor": "#2a3f5f",
             "gridcolor": "white",
             "linecolor": "white",
             "minorgridcolor": "white",
             "startlinecolor": "#2a3f5f"
            },
            "baxis": {
             "endlinecolor": "#2a3f5f",
             "gridcolor": "white",
             "linecolor": "white",
             "minorgridcolor": "white",
             "startlinecolor": "#2a3f5f"
            },
            "type": "carpet"
           }
          ],
          "choropleth": [
           {
            "colorbar": {
             "outlinewidth": 0,
             "ticks": ""
            },
            "type": "choropleth"
           }
          ],
          "contour": [
           {
            "colorbar": {
             "outlinewidth": 0,
             "ticks": ""
            },
            "colorscale": [
             [
              0,
              "#0d0887"
             ],
             [
              0.1111111111111111,
              "#46039f"
             ],
             [
              0.2222222222222222,
              "#7201a8"
             ],
             [
              0.3333333333333333,
              "#9c179e"
             ],
             [
              0.4444444444444444,
              "#bd3786"
             ],
             [
              0.5555555555555556,
              "#d8576b"
             ],
             [
              0.6666666666666666,
              "#ed7953"
             ],
             [
              0.7777777777777778,
              "#fb9f3a"
             ],
             [
              0.8888888888888888,
              "#fdca26"
             ],
             [
              1,
              "#f0f921"
             ]
            ],
            "type": "contour"
           }
          ],
          "contourcarpet": [
           {
            "colorbar": {
             "outlinewidth": 0,
             "ticks": ""
            },
            "type": "contourcarpet"
           }
          ],
          "heatmap": [
           {
            "colorbar": {
             "outlinewidth": 0,
             "ticks": ""
            },
            "colorscale": [
             [
              0,
              "#0d0887"
             ],
             [
              0.1111111111111111,
              "#46039f"
             ],
             [
              0.2222222222222222,
              "#7201a8"
             ],
             [
              0.3333333333333333,
              "#9c179e"
             ],
             [
              0.4444444444444444,
              "#bd3786"
             ],
             [
              0.5555555555555556,
              "#d8576b"
             ],
             [
              0.6666666666666666,
              "#ed7953"
             ],
             [
              0.7777777777777778,
              "#fb9f3a"
             ],
             [
              0.8888888888888888,
              "#fdca26"
             ],
             [
              1,
              "#f0f921"
             ]
            ],
            "type": "heatmap"
           }
          ],
          "heatmapgl": [
           {
            "colorbar": {
             "outlinewidth": 0,
             "ticks": ""
            },
            "colorscale": [
             [
              0,
              "#0d0887"
             ],
             [
              0.1111111111111111,
              "#46039f"
             ],
             [
              0.2222222222222222,
              "#7201a8"
             ],
             [
              0.3333333333333333,
              "#9c179e"
             ],
             [
              0.4444444444444444,
              "#bd3786"
             ],
             [
              0.5555555555555556,
              "#d8576b"
             ],
             [
              0.6666666666666666,
              "#ed7953"
             ],
             [
              0.7777777777777778,
              "#fb9f3a"
             ],
             [
              0.8888888888888888,
              "#fdca26"
             ],
             [
              1,
              "#f0f921"
             ]
            ],
            "type": "heatmapgl"
           }
          ],
          "histogram": [
           {
            "marker": {
             "pattern": {
              "fillmode": "overlay",
              "size": 10,
              "solidity": 0.2
             }
            },
            "type": "histogram"
           }
          ],
          "histogram2d": [
           {
            "colorbar": {
             "outlinewidth": 0,
             "ticks": ""
            },
            "colorscale": [
             [
              0,
              "#0d0887"
             ],
             [
              0.1111111111111111,
              "#46039f"
             ],
             [
              0.2222222222222222,
              "#7201a8"
             ],
             [
              0.3333333333333333,
              "#9c179e"
             ],
             [
              0.4444444444444444,
              "#bd3786"
             ],
             [
              0.5555555555555556,
              "#d8576b"
             ],
             [
              0.6666666666666666,
              "#ed7953"
             ],
             [
              0.7777777777777778,
              "#fb9f3a"
             ],
             [
              0.8888888888888888,
              "#fdca26"
             ],
             [
              1,
              "#f0f921"
             ]
            ],
            "type": "histogram2d"
           }
          ],
          "histogram2dcontour": [
           {
            "colorbar": {
             "outlinewidth": 0,
             "ticks": ""
            },
            "colorscale": [
             [
              0,
              "#0d0887"
             ],
             [
              0.1111111111111111,
              "#46039f"
             ],
             [
              0.2222222222222222,
              "#7201a8"
             ],
             [
              0.3333333333333333,
              "#9c179e"
             ],
             [
              0.4444444444444444,
              "#bd3786"
             ],
             [
              0.5555555555555556,
              "#d8576b"
             ],
             [
              0.6666666666666666,
              "#ed7953"
             ],
             [
              0.7777777777777778,
              "#fb9f3a"
             ],
             [
              0.8888888888888888,
              "#fdca26"
             ],
             [
              1,
              "#f0f921"
             ]
            ],
            "type": "histogram2dcontour"
           }
          ],
          "mesh3d": [
           {
            "colorbar": {
             "outlinewidth": 0,
             "ticks": ""
            },
            "type": "mesh3d"
           }
          ],
          "parcoords": [
           {
            "line": {
             "colorbar": {
              "outlinewidth": 0,
              "ticks": ""
             }
            },
            "type": "parcoords"
           }
          ],
          "pie": [
           {
            "automargin": true,
            "type": "pie"
           }
          ],
          "scatter": [
           {
            "fillpattern": {
             "fillmode": "overlay",
             "size": 10,
             "solidity": 0.2
            },
            "type": "scatter"
           }
          ],
          "scatter3d": [
           {
            "line": {
             "colorbar": {
              "outlinewidth": 0,
              "ticks": ""
             }
            },
            "marker": {
             "colorbar": {
              "outlinewidth": 0,
              "ticks": ""
             }
            },
            "type": "scatter3d"
           }
          ],
          "scattercarpet": [
           {
            "marker": {
             "colorbar": {
              "outlinewidth": 0,
              "ticks": ""
             }
            },
            "type": "scattercarpet"
           }
          ],
          "scattergeo": [
           {
            "marker": {
             "colorbar": {
              "outlinewidth": 0,
              "ticks": ""
             }
            },
            "type": "scattergeo"
           }
          ],
          "scattergl": [
           {
            "marker": {
             "colorbar": {
              "outlinewidth": 0,
              "ticks": ""
             }
            },
            "type": "scattergl"
           }
          ],
          "scattermapbox": [
           {
            "marker": {
             "colorbar": {
              "outlinewidth": 0,
              "ticks": ""
             }
            },
            "type": "scattermapbox"
           }
          ],
          "scatterpolar": [
           {
            "marker": {
             "colorbar": {
              "outlinewidth": 0,
              "ticks": ""
             }
            },
            "type": "scatterpolar"
           }
          ],
          "scatterpolargl": [
           {
            "marker": {
             "colorbar": {
              "outlinewidth": 0,
              "ticks": ""
             }
            },
            "type": "scatterpolargl"
           }
          ],
          "scatterternary": [
           {
            "marker": {
             "colorbar": {
              "outlinewidth": 0,
              "ticks": ""
             }
            },
            "type": "scatterternary"
           }
          ],
          "surface": [
           {
            "colorbar": {
             "outlinewidth": 0,
             "ticks": ""
            },
            "colorscale": [
             [
              0,
              "#0d0887"
             ],
             [
              0.1111111111111111,
              "#46039f"
             ],
             [
              0.2222222222222222,
              "#7201a8"
             ],
             [
              0.3333333333333333,
              "#9c179e"
             ],
             [
              0.4444444444444444,
              "#bd3786"
             ],
             [
              0.5555555555555556,
              "#d8576b"
             ],
             [
              0.6666666666666666,
              "#ed7953"
             ],
             [
              0.7777777777777778,
              "#fb9f3a"
             ],
             [
              0.8888888888888888,
              "#fdca26"
             ],
             [
              1,
              "#f0f921"
             ]
            ],
            "type": "surface"
           }
          ],
          "table": [
           {
            "cells": {
             "fill": {
              "color": "#EBF0F8"
             },
             "line": {
              "color": "white"
             }
            },
            "header": {
             "fill": {
              "color": "#C8D4E3"
             },
             "line": {
              "color": "white"
             }
            },
            "type": "table"
           }
          ]
         },
         "layout": {
          "annotationdefaults": {
           "arrowcolor": "#2a3f5f",
           "arrowhead": 0,
           "arrowwidth": 1
          },
          "autotypenumbers": "strict",
          "coloraxis": {
           "colorbar": {
            "outlinewidth": 0,
            "ticks": ""
           }
          },
          "colorscale": {
           "diverging": [
            [
             0,
             "#8e0152"
            ],
            [
             0.1,
             "#c51b7d"
            ],
            [
             0.2,
             "#de77ae"
            ],
            [
             0.3,
             "#f1b6da"
            ],
            [
             0.4,
             "#fde0ef"
            ],
            [
             0.5,
             "#f7f7f7"
            ],
            [
             0.6,
             "#e6f5d0"
            ],
            [
             0.7,
             "#b8e186"
            ],
            [
             0.8,
             "#7fbc41"
            ],
            [
             0.9,
             "#4d9221"
            ],
            [
             1,
             "#276419"
            ]
           ],
           "sequential": [
            [
             0,
             "#0d0887"
            ],
            [
             0.1111111111111111,
             "#46039f"
            ],
            [
             0.2222222222222222,
             "#7201a8"
            ],
            [
             0.3333333333333333,
             "#9c179e"
            ],
            [
             0.4444444444444444,
             "#bd3786"
            ],
            [
             0.5555555555555556,
             "#d8576b"
            ],
            [
             0.6666666666666666,
             "#ed7953"
            ],
            [
             0.7777777777777778,
             "#fb9f3a"
            ],
            [
             0.8888888888888888,
             "#fdca26"
            ],
            [
             1,
             "#f0f921"
            ]
           ],
           "sequentialminus": [
            [
             0,
             "#0d0887"
            ],
            [
             0.1111111111111111,
             "#46039f"
            ],
            [
             0.2222222222222222,
             "#7201a8"
            ],
            [
             0.3333333333333333,
             "#9c179e"
            ],
            [
             0.4444444444444444,
             "#bd3786"
            ],
            [
             0.5555555555555556,
             "#d8576b"
            ],
            [
             0.6666666666666666,
             "#ed7953"
            ],
            [
             0.7777777777777778,
             "#fb9f3a"
            ],
            [
             0.8888888888888888,
             "#fdca26"
            ],
            [
             1,
             "#f0f921"
            ]
           ]
          },
          "colorway": [
           "#636efa",
           "#EF553B",
           "#00cc96",
           "#ab63fa",
           "#FFA15A",
           "#19d3f3",
           "#FF6692",
           "#B6E880",
           "#FF97FF",
           "#FECB52"
          ],
          "font": {
           "color": "#2a3f5f"
          },
          "geo": {
           "bgcolor": "white",
           "lakecolor": "white",
           "landcolor": "#E5ECF6",
           "showlakes": true,
           "showland": true,
           "subunitcolor": "white"
          },
          "hoverlabel": {
           "align": "left"
          },
          "hovermode": "closest",
          "mapbox": {
           "style": "light"
          },
          "paper_bgcolor": "white",
          "plot_bgcolor": "#E5ECF6",
          "polar": {
           "angularaxis": {
            "gridcolor": "white",
            "linecolor": "white",
            "ticks": ""
           },
           "bgcolor": "#E5ECF6",
           "radialaxis": {
            "gridcolor": "white",
            "linecolor": "white",
            "ticks": ""
           }
          },
          "scene": {
           "xaxis": {
            "backgroundcolor": "#E5ECF6",
            "gridcolor": "white",
            "gridwidth": 2,
            "linecolor": "white",
            "showbackground": true,
            "ticks": "",
            "zerolinecolor": "white"
           },
           "yaxis": {
            "backgroundcolor": "#E5ECF6",
            "gridcolor": "white",
            "gridwidth": 2,
            "linecolor": "white",
            "showbackground": true,
            "ticks": "",
            "zerolinecolor": "white"
           },
           "zaxis": {
            "backgroundcolor": "#E5ECF6",
            "gridcolor": "white",
            "gridwidth": 2,
            "linecolor": "white",
            "showbackground": true,
            "ticks": "",
            "zerolinecolor": "white"
           }
          },
          "shapedefaults": {
           "line": {
            "color": "#2a3f5f"
           }
          },
          "ternary": {
           "aaxis": {
            "gridcolor": "white",
            "linecolor": "white",
            "ticks": ""
           },
           "baxis": {
            "gridcolor": "white",
            "linecolor": "white",
            "ticks": ""
           },
           "bgcolor": "#E5ECF6",
           "caxis": {
            "gridcolor": "white",
            "linecolor": "white",
            "ticks": ""
           }
          },
          "title": {
           "x": 0.05
          },
          "xaxis": {
           "automargin": true,
           "gridcolor": "white",
           "linecolor": "white",
           "ticks": "",
           "title": {
            "standoff": 15
           },
           "zerolinecolor": "white",
           "zerolinewidth": 2
          },
          "yaxis": {
           "automargin": true,
           "gridcolor": "white",
           "linecolor": "white",
           "ticks": "",
           "title": {
            "standoff": 15
           },
           "zerolinecolor": "white",
           "zerolinewidth": 2
          }
         }
        },
        "title": {
         "text": "<b>Boxplot of total monthly Customers 2020 and 2021</b>"
        },
        "xaxis": {
         "anchor": "y",
         "domain": [
          0,
          1
         ],
         "title": {
          "font": {
           "size": 14
          },
          "text": "Month"
         }
        },
        "xaxis2": {
         "anchor": "y2",
         "domain": [
          0,
          1
         ],
         "title": {
          "font": {
           "size": 14
          },
          "text": "Month"
         }
        },
        "yaxis": {
         "anchor": "x",
         "domain": [
          0.625,
          1
         ],
         "title": {
          "font": {
           "size": 14
          },
          "text": "Total Customers"
         }
        },
        "yaxis2": {
         "anchor": "x2",
         "domain": [
          0,
          0.375
         ],
         "title": {
          "font": {
           "size": 14
          },
          "text": "Total Customers"
         }
        }
       }
      }
     },
     "metadata": {},
     "output_type": "display_data"
    }
   ],
   "source": [
    "fig1 = make_subplots(rows= 2, cols=1, subplot_titles= (\"2020\", \"2021\"))    # 2021 noch dazumachen\n",
    "\n",
    "fig1.add_trace(\n",
    "    go.Box(\n",
    "      name= \"2020\",\n",
    "      x= df_box_2020.month,\n",
    "      y= df_box_2020.registered_customer,\n",
    "      boxpoints= \"all\",\n",
    "      marker=dict(size=2, color='rgb(0, 0, 0)'),\n",
    "      line= dict(width= 1),\n",
    "      jitter= 0.5,\n",
    "      whiskerwidth=0.2,\n",
    "      fillcolor = \"lightgrey\",\n",
    "      hoveron = \"boxes+points\"\n",
    "      ),\n",
    "      col= 1,\n",
    "      row= 1\n",
    ")\n",
    "\n",
    "for month in df_box_2020.month.unique():\n",
    "  prefix= \"same as\"\n",
    "  color= \"grey\"\n",
    "  if df_box_2020.registered_customer.median() < df_box_2020[df_box_2020.month == month].registered_customer.median():\n",
    "   prefix= \"above\"\n",
    "   color= \"darkgreen\"\n",
    "  elif df_box_2020.registered_customer.median() > df_box_2020[df_box_2020.month == month].registered_customer.median():\n",
    "   prefix= \"below\"\n",
    "   color= \"darkred\"\n",
    "   \n",
    "  fig1.add_annotation(\n",
    "    text=f\"{prefix} median 2020!\", x=month, y= df_box_2020[df_box_2020.month == month].registered_customer.median(),\n",
    "        arrowhead=1, showarrow=True, arrowcolor=color,        \n",
    "        bgcolor='white',\n",
    "        font=dict(size=10, color=color)\n",
    "   )\n",
    "\n",
    "fig1.add_hline(\n",
    " y= df_box_2020.registered_customer.median(),\n",
    " opacity= 0.5,\n",
    " line_dash= \"dot\",\n",
    " line_color= \"grey\",\n",
    " layer= \"below\",\n",
    " annotation_text= \"Total Median 2020\",\n",
    " annotation_position= \"top left\",\n",
    " annotation_font_color= \"grey\",\n",
    " annotation_opacity = 0.5,\n",
    " col= 1,\n",
    " row= 1\n",
    ")\n",
    "\n",
    "fig1.add_hline(\n",
    " y= df_box_2021.registered_customer.median(),\n",
    " opacity= 0.5,\n",
    " line_dash= \"dot\",\n",
    " line_color= \"black\",\n",
    " layer= \"below\",\n",
    " annotation_text= \"Total Median 2021\",\n",
    " annotation_position= \"top left\",\n",
    " annotation_font_color= \"black\",\n",
    " annotation_opacity = 0.5,\n",
    " col= 1,\n",
    " row= 1\n",
    ")\n",
    "\n",
    "\n",
    "fig1.add_trace(\n",
    "    go.Box(\n",
    "      name= \"2021\",\n",
    "      x= df_box_2021.month,\n",
    "      y= df_box_2021.registered_customer,\n",
    "      boxpoints= \"all\",\n",
    "      marker=dict(size=2, color='rgb(0, 0, 0)'),\n",
    "      line= dict(width= 1),\n",
    "      jitter= 0.5,\n",
    "      whiskerwidth=0.2,\n",
    "      fillcolor = \"grey\",\n",
    "      hoveron = \"boxes+points\"\n",
    "      ),\n",
    "      col= 1,\n",
    "      row= 2\n",
    ")\n",
    "\n",
    "for month in df_box_2021.month.unique():\n",
    "  prefix= \"same as\"\n",
    "  color= \"grey\"\n",
    "  if df_box_2021.registered_customer.median() < df_box_2021[df_box_2021.month == month].registered_customer.median():\n",
    "   prefix= \"above\"\n",
    "   color= \"darkgreen\"\n",
    "  elif df_box_2021.registered_customer.median() > df_box_2021[df_box_2021.month == month].registered_customer.median():\n",
    "   prefix= \"below\"\n",
    "   color= \"darkred\"\n",
    "   \n",
    "  fig1.add_annotation(\n",
    "    text=f\"{prefix} median 2021!\", x=month, y= df_box_2021[df_box_2021.month == month].registered_customer.median(),\n",
    "        arrowhead=1, showarrow=True, arrowcolor=color,        \n",
    "        bgcolor='white',\n",
    "        font=dict(size=10, color=color),\n",
    "        col= 1,\n",
    "        row= 2\n",
    "   )\n",
    "\n",
    "\n",
    "\n",
    "fig1.add_hline(\n",
    " y= df_box_2021.registered_customer.median(),\n",
    " opacity= 0.5,\n",
    " line_dash= \"dot\",\n",
    " line_color= \"black\",\n",
    " layer= \"below\",\n",
    " annotation_text= \"Total Median 2021\",\n",
    " annotation_position= \"top left\",\n",
    " annotation_font_color= \"black\",\n",
    " annotation_opacity = 0.5,\n",
    " col= 1,\n",
    " row= 2\n",
    ")\n",
    "\n",
    "fig1.add_hline(\n",
    " y= df_box_2020.registered_customer.median(),\n",
    " opacity= 0.5,\n",
    " line_dash= \"dot\",\n",
    " line_color= \"grey\",\n",
    " layer= \"below\",\n",
    " annotation_text= \"Total Median 2020\",\n",
    " annotation_position= \"top left\",\n",
    " annotation_font_color= \"grey\",\n",
    " annotation_opacity = 0.5,\n",
    " col= 1,\n",
    " row= 2\n",
    ")\n",
    "\n",
    "\n",
    "fig1.update_layout(title= dict(text= \"<b>Boxplot of total monthly Customers 2020 and 2021</b>\"), height= 770, legend_title_text= \"Year\")\n",
    "#fig1.update_traces(visible= \"legendonly\")\n",
    "fig1.update_yaxes(title_text=\"Total Customers\", title_font= dict(size= 14)) #, showgrid= False)\n",
    "fig1.update_xaxes(title_text=\"Month\", title_font= dict(size= 14))\n",
    "\n",
    "fig1.show()"
   ]
  },
  {
   "cell_type": "code",
   "execution_count": 37,
   "metadata": {},
   "outputs": [
    {
     "data": {
      "application/vnd.plotly.v1+json": {
       "config": {
        "plotlyServerURL": "https://plot.ly"
       },
       "data": [
        {
         "boxpoints": "all",
         "fillcolor": "darkred",
         "hoveron": "boxes+points",
         "jitter": 0.5,
         "legendgroup": "group1",
         "legendgrouptitle": {
          "text": "2020"
         },
         "line": {
          "width": 1
         },
         "marker": {
          "color": "rgb(0,0,0)",
          "size": 2
         },
         "name": "1",
         "type": "box",
         "whiskerwidth": 0.2,
         "x": [
          1,
          1,
          1,
          1,
          1,
          1,
          1,
          1,
          1,
          1,
          1,
          1,
          1,
          1,
          1,
          1,
          1,
          1,
          1,
          1,
          1,
          1,
          1,
          1,
          1,
          1,
          1,
          1
         ],
         "xaxis": "x",
         "y": [
          985,
          801,
          1349,
          1562,
          1600,
          1606,
          1510,
          959,
          822,
          1321,
          1263,
          1162,
          1406,
          1421,
          1248,
          1204,
          1000,
          683,
          1650,
          1487,
          1283,
          863,
          818,
          1206,
          1515,
          412,
          674,
          2510
         ],
         "yaxis": "y"
        },
        {
         "boxpoints": "all",
         "fillcolor": "darkred",
         "hoveron": "boxes+points",
         "jitter": 0.5,
         "legendgroup": "group1",
         "legendgrouptitle": {
          "text": "2020"
         },
         "line": {
          "width": 1
         },
         "marker": {
          "color": "rgb(0,0,0)",
          "size": 2
         },
         "name": "2",
         "type": "box",
         "whiskerwidth": 0.2,
         "x": [
          2,
          2,
          2,
          2,
          2,
          2,
          2,
          2,
          2,
          2,
          2,
          2,
          2,
          2,
          2,
          2,
          2,
          2,
          2,
          2,
          2,
          2,
          2,
          2,
          2,
          2,
          2,
          2,
          2
         ],
         "xaxis": "x",
         "y": [
          2106,
          1917,
          1924,
          1879,
          1932,
          1895,
          1972,
          1229,
          1781,
          1712,
          1530,
          1605,
          1538,
          1746,
          1472,
          1589,
          1913,
          1815,
          2115,
          2475,
          2927,
          1635,
          1584,
          1359,
          1636,
          1788,
          1565,
          1592,
          3339
         ],
         "yaxis": "y"
        },
        {
         "boxpoints": "all",
         "fillcolor": "darkred",
         "hoveron": "boxes+points",
         "jitter": 0.5,
         "legendgroup": "group1",
         "legendgrouptitle": {
          "text": "2020"
         },
         "line": {
          "width": 1
         },
         "marker": {
          "color": "rgb(0,0,0)",
          "size": 2
         },
         "name": "3",
         "type": "box",
         "whiskerwidth": 0.2,
         "x": [
          3,
          3,
          3,
          3,
          3,
          3,
          3,
          3,
          3,
          3,
          3,
          3,
          3,
          3,
          3,
          3,
          3,
          3,
          3,
          3,
          3,
          3,
          3,
          3,
          3,
          3,
          3,
          3,
          3,
          3,
          3
         ],
         "xaxis": "x",
         "y": [
          3104,
          2254,
          2649,
          2795,
          2229,
          2352,
          2412,
          884,
          2106,
          2133,
          1891,
          623,
          1977,
          2132,
          2417,
          2046,
          2056,
          2192,
          2744,
          3239,
          3117,
          2029,
          2713,
          2889,
          1733,
          1995,
          2271,
          2158,
          2025,
          2142,
          4837
         ],
         "yaxis": "y"
        },
        {
         "boxpoints": "all",
         "fillcolor": "darkred",
         "hoveron": "boxes+points",
         "jitter": 0.5,
         "legendgroup": "group1",
         "legendgrouptitle": {
          "text": "2020"
         },
         "line": {
          "width": 1
         },
         "marker": {
          "color": "rgb(0,0,0)",
          "size": 2
         },
         "name": "4",
         "type": "box",
         "whiskerwidth": 0.2,
         "x": [
          4,
          4,
          4,
          4,
          4,
          4,
          4,
          4,
          4,
          4,
          4,
          4,
          4,
          4,
          4,
          4,
          4,
          4,
          4,
          4,
          4,
          4,
          4,
          4,
          4,
          4,
          4,
          4,
          4,
          4
         ],
         "xaxis": "x",
         "y": [
          3767,
          3191,
          3451,
          3262,
          4037,
          3692,
          2295,
          3218,
          3435,
          1471,
          2455,
          2895,
          3348,
          2034,
          2162,
          3267,
          3126,
          795,
          3744,
          3429,
          3204,
          3516,
          3149,
          1583,
          3165,
          3560,
          3493,
          3429,
          2726,
          7114
         ],
         "yaxis": "y"
        },
        {
         "boxpoints": "all",
         "fillcolor": "darkgreen",
         "hoveron": "boxes+points",
         "jitter": 0.5,
         "legendgroup": "group1",
         "legendgrouptitle": {
          "text": "2020"
         },
         "line": {
          "width": 1
         },
         "marker": {
          "color": "rgb(0,0,0)",
          "size": 2
         },
         "name": "5",
         "type": "box",
         "whiskerwidth": 0.2,
         "x": [
          5,
          5,
          5,
          5,
          5,
          5,
          5,
          5,
          5,
          5,
          5,
          5,
          5,
          5,
          5,
          5,
          5,
          5,
          5,
          5,
          5,
          5,
          5,
          5,
          5,
          5,
          5,
          5,
          5,
          5,
          5
         ],
         "xaxis": "x",
         "y": [
          6532,
          6207,
          5267,
          5920,
          5711,
          3610,
          5193,
          5204,
          5229,
          4333,
          4362,
          4803,
          4182,
          4864,
          4105,
          3409,
          4553,
          3958,
          4123,
          3855,
          4575,
          4985,
          5472,
          4868,
          3829,
          4242,
          4660,
          4439,
          4787,
          5230,
          8904
         ],
         "yaxis": "y"
        },
        {
         "boxpoints": "all",
         "fillcolor": "darkgreen",
         "hoveron": "boxes+points",
         "jitter": 0.5,
         "legendgroup": "group1",
         "legendgrouptitle": {
          "text": "2020"
         },
         "line": {
          "width": 1
         },
         "marker": {
          "color": "rgb(0,0,0)",
          "size": 2
         },
         "name": "6",
         "type": "box",
         "whiskerwidth": 0.2,
         "x": [
          6,
          6,
          6,
          6,
          6,
          6,
          6,
          6,
          6,
          6,
          6,
          6,
          6,
          6,
          6,
          6,
          6,
          6,
          6,
          6,
          6,
          6,
          6,
          6,
          6,
          6,
          6,
          6,
          6,
          6
         ],
         "xaxis": "x",
         "y": [
          8688,
          7059,
          6351,
          6806,
          6844,
          6499,
          5890,
          5324,
          5446,
          4401,
          3915,
          4586,
          4966,
          4460,
          5020,
          4891,
          5180,
          3767,
          4844,
          5119,
          4744,
          4272,
          4198,
          4472,
          4561,
          5213,
          5606,
          5402,
          4617,
          9164
         ],
         "yaxis": "y"
        },
        {
         "boxpoints": "all",
         "fillcolor": "darkgreen",
         "hoveron": "boxes+points",
         "jitter": 0.5,
         "legendgroup": "group1",
         "legendgrouptitle": {
          "text": "2020"
         },
         "line": {
          "width": 1
         },
         "marker": {
          "color": "rgb(0,0,0)",
          "size": 2
         },
         "name": "7",
         "type": "box",
         "whiskerwidth": 0.2,
         "x": [
          7,
          7,
          7,
          7,
          7,
          7,
          7,
          7,
          7,
          7,
          7,
          7,
          7,
          7,
          7,
          7,
          7,
          7,
          7,
          7,
          7,
          7,
          7,
          7,
          7,
          7,
          7,
          7,
          7,
          7,
          7
         ],
         "xaxis": "x",
         "y": [
          8607,
          7953,
          7850,
          7055,
          6179,
          7318,
          5621,
          5373,
          5256,
          4040,
          5336,
          4881,
          4086,
          4258,
          4342,
          5084,
          5538,
          5923,
          5302,
          4458,
          4541,
          4279,
          3967,
          3973,
          3874,
          4040,
          3975,
          4613,
          4743,
          4570,
          8111
         ],
         "yaxis": "y"
        },
        {
         "boxpoints": "all",
         "fillcolor": "darkgreen",
         "hoveron": "boxes+points",
         "jitter": 0.5,
         "legendgroup": "group1",
         "legendgrouptitle": {
          "text": "2020"
         },
         "line": {
          "width": 1
         },
         "marker": {
          "color": "rgb(0,0,0)",
          "size": 2
         },
         "name": "8",
         "type": "box",
         "whiskerwidth": 0.2,
         "x": [
          8,
          8,
          8,
          8,
          8,
          8,
          8,
          8,
          8,
          8,
          8,
          8,
          8,
          8,
          8,
          8,
          8,
          8,
          8,
          8,
          8,
          8,
          8,
          8,
          8,
          8,
          8,
          8,
          8,
          8,
          8
         ],
         "xaxis": "x",
         "y": [
          8002,
          6796,
          6371,
          6574,
          4914,
          5620,
          5755,
          4979,
          4338,
          4326,
          4602,
          4780,
          4792,
          4905,
          4150,
          3820,
          4338,
          4725,
          4694,
          3805,
          4153,
          4903,
          4054,
          4547,
          4848,
          4642,
          3704,
          4357,
          1737,
          4369,
          8666
         ],
         "yaxis": "y"
        },
        {
         "boxpoints": "all",
         "fillcolor": "darkgreen",
         "hoveron": "boxes+points",
         "jitter": 0.5,
         "legendgroup": "group1",
         "legendgrouptitle": {
          "text": "2020"
         },
         "line": {
          "width": 1
         },
         "marker": {
          "color": "rgb(0,0,0)",
          "size": 2
         },
         "name": "9",
         "type": "box",
         "whiskerwidth": 0.2,
         "x": [
          9,
          9,
          9,
          9,
          9,
          9,
          9,
          9,
          9,
          9,
          9,
          9,
          9,
          9,
          9,
          9,
          9,
          9,
          9,
          9,
          9,
          9,
          9,
          9,
          9,
          9,
          9,
          9,
          9,
          9
         ],
         "xaxis": "x",
         "y": [
          7872,
          7150,
          7100,
          6396,
          5784,
          5976,
          4206,
          3321,
          2558,
          1842,
          3544,
          5345,
          5046,
          4713,
          4763,
          4785,
          3659,
          4760,
          4511,
          4274,
          4539,
          3026,
          2788,
          2933,
          2299,
          4072,
          4123,
          3835,
          3405,
          7146
         ],
         "yaxis": "y"
        },
        {
         "boxpoints": "all",
         "fillcolor": "darkgreen",
         "hoveron": "boxes+points",
         "jitter": 0.5,
         "legendgroup": "group1",
         "legendgrouptitle": {
          "text": "2020"
         },
         "line": {
          "width": 1
         },
         "marker": {
          "color": "rgb(0,0,0)",
          "size": 2
         },
         "name": "10",
         "type": "box",
         "whiskerwidth": 0.2,
         "x": [
          10,
          10,
          10,
          10,
          10,
          10,
          10,
          10,
          10,
          10,
          10,
          10,
          10,
          10,
          10,
          10,
          10,
          10,
          10,
          10,
          10,
          10,
          10,
          10,
          10,
          10,
          10,
          10,
          10,
          10,
          10
         ],
         "xaxis": "x",
         "y": [
          8070,
          7486,
          4494,
          4527,
          4827,
          5561,
          5626,
          5453,
          5489,
          5409,
          5511,
          5117,
          4563,
          2416,
          2913,
          3644,
          5217,
          5041,
          4570,
          4748,
          2424,
          3966,
          4438,
          4388,
          4286,
          4120,
          4593,
          3987,
          3217,
          3567,
          4920
         ],
         "yaxis": "y"
        },
        {
         "boxpoints": "all",
         "fillcolor": "darkgreen",
         "hoveron": "boxes+points",
         "jitter": 0.5,
         "legendgroup": "group1",
         "legendgrouptitle": {
          "text": "2020"
         },
         "line": {
          "width": 1
         },
         "marker": {
          "color": "rgb(0,0,0)",
          "size": 2
         },
         "name": "11",
         "type": "box",
         "whiskerwidth": 0.2,
         "x": [
          11,
          11,
          11,
          11,
          11,
          11,
          11,
          11,
          11,
          11,
          11,
          11,
          11,
          11,
          11,
          11,
          11,
          11,
          11,
          11,
          11,
          11,
          11,
          11,
          11,
          11,
          11,
          11,
          11,
          11
         ],
         "xaxis": "x",
         "y": [
          6436,
          5934,
          5852,
          5600,
          5109,
          4952,
          4651,
          4242,
          4474,
          4205,
          4109,
          2933,
          3368,
          4067,
          3717,
          4486,
          4195,
          1817,
          3053,
          3392,
          3663,
          4043,
          2693,
          2420,
          3045,
          3493,
          4291,
          3827,
          4388,
          7538
         ],
         "yaxis": "y"
        },
        {
         "boxpoints": "all",
         "fillcolor": "darkred",
         "hoveron": "boxes+points",
         "jitter": 0.5,
         "legendgroup": "group1",
         "legendgrouptitle": {
          "text": "2020"
         },
         "line": {
          "width": 1
         },
         "marker": {
          "color": "rgb(0,0,0)",
          "size": 2
         },
         "name": "12",
         "type": "box",
         "whiskerwidth": 0.2,
         "x": [
          12,
          12,
          12,
          12,
          12,
          12,
          12,
          12,
          12,
          12,
          12,
          12,
          12,
          12,
          12,
          12,
          12,
          12,
          12,
          12,
          12,
          12,
          12,
          12,
          12,
          12,
          12,
          12,
          12,
          12,
          12
         ],
         "xaxis": "x",
         "y": [
          5400,
          5489,
          5372,
          5236,
          4602,
          4321,
          4431,
          3150,
          1132,
          3322,
          3620,
          3190,
          2743,
          3310,
          3523,
          3740,
          3709,
          3577,
          2739,
          2431,
          3403,
          3967,
          1730,
          3030,
          2924,
          2589,
          2344,
          2514,
          2225,
          2792,
          5554
         ],
         "yaxis": "y"
        },
        {
         "boxpoints": "all",
         "fillcolor": "darkred",
         "hoveron": "boxes+points",
         "jitter": 0.5,
         "legendgroup": "group2",
         "legendgrouptitle": {
          "text": "2021"
         },
         "line": {
          "width": 1
         },
         "marker": {
          "color": "rgb(0,0,0)",
          "size": 2
         },
         "name": "1",
         "type": "box",
         "whiskerwidth": 0.2,
         "x": [
          1,
          1,
          1,
          1,
          1,
          1,
          1,
          1,
          1,
          1,
          1,
          1,
          1,
          1,
          1,
          1,
          1,
          1,
          1,
          1,
          1,
          1,
          1,
          1,
          1,
          1,
          1,
          1,
          1,
          1,
          1
         ],
         "xaxis": "x2",
         "y": [
          5227,
          5010,
          3782,
          3147,
          3199,
          3162,
          3861,
          4556,
          4886,
          3425,
          2376,
          3598,
          2177,
          4097,
          3214,
          2493,
          2311,
          2298,
          2935,
          3376,
          3292,
          3090,
          1877,
          2279,
          2683,
          3474,
          3638,
          3514,
          3221,
          3283,
          6002
         ],
         "yaxis": "y2"
        },
        {
         "boxpoints": "all",
         "fillcolor": "darkred",
         "hoveron": "boxes+points",
         "jitter": 0.5,
         "legendgroup": "group2",
         "legendgrouptitle": {
          "text": "2021"
         },
         "line": {
          "width": 1
         },
         "marker": {
          "color": "rgb(0,0,0)",
          "size": 2
         },
         "name": "2",
         "type": "box",
         "whiskerwidth": 0.2,
         "x": [
          2,
          2,
          2,
          2,
          2,
          2,
          2,
          2,
          2,
          2,
          2,
          2,
          2,
          2,
          2,
          2,
          2,
          2,
          2,
          2,
          2,
          2,
          2,
          2,
          2,
          2,
          2,
          2
         ],
         "xaxis": "x2",
         "y": [
          5748,
          6126,
          6307,
          5206,
          5314,
          3754,
          3713,
          4370,
          4861,
          2802,
          3830,
          3831,
          2169,
          1529,
          3422,
          3922,
          4169,
          3005,
          4154,
          4318,
          2689,
          2750,
          3658,
          4130,
          4738,
          3421,
          2724,
          6563
         ],
         "yaxis": "y2"
        },
        {
         "boxpoints": "all",
         "fillcolor": "orange",
         "hoveron": "boxes+points",
         "jitter": 0.5,
         "legendgroup": "group2",
         "legendgrouptitle": {
          "text": "2021"
         },
         "line": {
          "width": 1
         },
         "marker": {
          "color": "rgb(0,0,0)",
          "size": 2
         },
         "name": "3",
         "type": "box",
         "whiskerwidth": 0.2,
         "x": [
          3,
          3,
          3,
          3,
          3,
          3,
          3,
          3,
          3,
          3,
          3,
          3,
          3,
          3,
          3,
          3,
          3,
          3,
          3,
          3,
          3,
          3,
          3,
          3,
          3,
          3,
          3,
          3,
          3,
          3,
          3
         ],
         "xaxis": "x2",
         "y": [
          6815,
          6111,
          4705,
          6450,
          4363,
          5008,
          4152,
          3930,
          4422,
          4916,
          5382,
          4569,
          4118,
          4911,
          5298,
          5847,
          6312,
          6192,
          4378,
          7836,
          5892,
          6153,
          5573,
          5580,
          6398,
          6675,
          2847,
          4277,
          5223,
          5138,
          11899
         ],
         "yaxis": "y2"
        },
        {
         "boxpoints": "all",
         "fillcolor": "darkgreen",
         "hoveron": "boxes+points",
         "jitter": 0.5,
         "legendgroup": "group2",
         "legendgrouptitle": {
          "text": "2021"
         },
         "line": {
          "width": 1
         },
         "marker": {
          "color": "rgb(0,0,0)",
          "size": 2
         },
         "name": "4",
         "type": "box",
         "whiskerwidth": 0.2,
         "x": [
          4,
          4,
          4,
          4,
          4,
          4,
          4,
          4,
          4,
          4,
          4,
          4,
          4,
          4,
          4,
          4,
          4,
          4,
          4,
          4,
          4,
          4,
          4,
          4,
          4,
          4,
          4,
          4,
          4,
          4
         ],
         "xaxis": "x2",
         "y": [
          10183,
          8550,
          8265,
          8414,
          7848,
          8317,
          7675,
          7450,
          7239,
          6857,
          5169,
          5585,
          5918,
          4862,
          5409,
          6398,
          7460,
          7132,
          6370,
          6691,
          4367,
          6565,
          6903,
          6853,
          1855,
          2922,
          5739,
          6226,
          5254,
          12161
         ],
         "yaxis": "y2"
        },
        {
         "boxpoints": "all",
         "fillcolor": "darkgreen",
         "hoveron": "boxes+points",
         "jitter": 0.5,
         "legendgroup": "group2",
         "legendgrouptitle": {
          "text": "2021"
         },
         "line": {
          "width": 1
         },
         "marker": {
          "color": "rgb(0,0,0)",
          "size": 2
         },
         "name": "5",
         "type": "box",
         "whiskerwidth": 0.2,
         "x": [
          5,
          5,
          5,
          5,
          5,
          5,
          5,
          5,
          5,
          5,
          5,
          5,
          5,
          5,
          5,
          5,
          5,
          5,
          5,
          5,
          5,
          5,
          5,
          5,
          5,
          5,
          5,
          5,
          5,
          5,
          5
         ],
         "xaxis": "x2",
         "y": [
          10031,
          10188,
          8523,
          8107,
          8123,
          7979,
          7500,
          7839,
          7189,
          6273,
          5728,
          4717,
          6572,
          7030,
          7429,
          6118,
          2843,
          5115,
          7424,
          7384,
          7639,
          8294,
          6875,
          4686,
          5943,
          5228,
          6622,
          6793,
          6803,
          6002,
          12915
         ],
         "yaxis": "y2"
        },
        {
         "boxpoints": "all",
         "fillcolor": "darkgreen",
         "hoveron": "boxes+points",
         "jitter": 0.5,
         "legendgroup": "group2",
         "legendgrouptitle": {
          "text": "2021"
         },
         "line": {
          "width": 1
         },
         "marker": {
          "color": "rgb(0,0,0)",
          "size": 2
         },
         "name": "6",
         "type": "box",
         "whiskerwidth": 0.2,
         "x": [
          6,
          6,
          6,
          6,
          6,
          6,
          6,
          6,
          6,
          6,
          6,
          6,
          6,
          6,
          6,
          6,
          6,
          6,
          6,
          6,
          6,
          6,
          6,
          6,
          6,
          6,
          6,
          6,
          6,
          6
         ],
         "xaxis": "x2",
         "y": [
          10951,
          10754,
          10483,
          6681,
          10152,
          9288,
          8347,
          8146,
          7942,
          7494,
          7736,
          7498,
          6598,
          6664,
          4972,
          7421,
          7363,
          7665,
          7702,
          6978,
          5099,
          6825,
          6481,
          6500,
          6615,
          7522,
          6594,
          6892,
          7254,
          13542
         ],
         "yaxis": "y2"
        },
        {
         "boxpoints": "all",
         "fillcolor": "darkgreen",
         "hoveron": "boxes+points",
         "jitter": 0.5,
         "legendgroup": "group2",
         "legendgrouptitle": {
          "text": "2021"
         },
         "line": {
          "width": 1
         },
         "marker": {
          "color": "rgb(0,0,0)",
          "size": 2
         },
         "name": "7",
         "type": "box",
         "whiskerwidth": 0.2,
         "x": [
          7,
          7,
          7,
          7,
          7,
          7,
          7,
          7,
          7,
          7,
          7,
          7,
          7,
          7,
          7,
          7,
          7,
          7,
          7,
          7,
          7,
          7,
          7,
          7,
          7,
          7,
          7,
          7,
          7,
          7,
          7
         ],
         "xaxis": "x2",
         "y": [
          12247,
          9727,
          9467,
          8066,
          8221,
          8262,
          8692,
          7281,
          7008,
          4840,
          4672,
          6569,
          6290,
          7264,
          7446,
          7499,
          6969,
          6031,
          6830,
          6786,
          5713,
          6591,
          4955,
          3468,
          6139,
          6475,
          6758,
          7289,
          6460,
          6797,
          13405
         ],
         "yaxis": "y2"
        },
        {
         "boxpoints": "all",
         "fillcolor": "darkgreen",
         "hoveron": "boxes+points",
         "jitter": 0.5,
         "legendgroup": "group2",
         "legendgrouptitle": {
          "text": "2021"
         },
         "line": {
          "width": 1
         },
         "marker": {
          "color": "rgb(0,0,0)",
          "size": 2
         },
         "name": "8",
         "type": "box",
         "whiskerwidth": 0.2,
         "x": [
          8,
          8,
          8,
          8,
          8,
          8,
          8,
          8,
          8,
          8,
          8,
          8,
          8,
          8,
          8,
          8,
          8,
          8,
          8,
          8,
          8,
          8,
          8,
          8,
          8,
          8,
          8,
          8,
          8,
          8,
          8
         ],
         "xaxis": "x2",
         "y": [
          11662,
          10877,
          10167,
          10279,
          9360,
          8851,
          8228,
          6576,
          7871,
          7273,
          7534,
          7286,
          5786,
          6299,
          6544,
          6883,
          6784,
          7347,
          7605,
          7148,
          7865,
          4549,
          5948,
          6901,
          6623,
          7278,
          7249,
          6402,
          4258,
          6583,
          13678
         ],
         "yaxis": "y2"
        },
        {
         "boxpoints": "all",
         "fillcolor": "darkgreen",
         "hoveron": "boxes+points",
         "jitter": 0.5,
         "legendgroup": "group2",
         "legendgrouptitle": {
          "text": "2021"
         },
         "line": {
          "width": 1
         },
         "marker": {
          "color": "rgb(0,0,0)",
          "size": 2
         },
         "name": "9",
         "type": "box",
         "whiskerwidth": 0.2,
         "x": [
          9,
          9,
          9,
          9,
          9,
          9,
          9,
          9,
          9,
          9,
          9,
          9,
          9,
          9,
          9,
          9,
          9,
          9,
          9,
          9,
          9,
          9,
          9,
          9,
          9,
          9,
          9,
          9,
          9,
          9
         ],
         "xaxis": "x2",
         "y": [
          12681,
          11590,
          10607,
          8804,
          7931,
          7747,
          8228,
          8174,
          7033,
          7504,
          5976,
          8227,
          7525,
          7767,
          7870,
          7804,
          8009,
          8714,
          7333,
          6869,
          4073,
          7591,
          7724,
          7972,
          8088,
          7178,
          7311,
          7950,
          7703,
          13822
         ],
         "yaxis": "y2"
        },
        {
         "boxpoints": "all",
         "fillcolor": "darkgreen",
         "hoveron": "boxes+points",
         "jitter": 0.5,
         "legendgroup": "group2",
         "legendgrouptitle": {
          "text": "2021"
         },
         "line": {
          "width": 1
         },
         "marker": {
          "color": "rgb(0,0,0)",
          "size": 2
         },
         "name": "10",
         "type": "box",
         "whiskerwidth": 0.2,
         "x": [
          10,
          10,
          10,
          10,
          10,
          10,
          10,
          10,
          10,
          10,
          10,
          10,
          10,
          10,
          10,
          10,
          10,
          10,
          10,
          10,
          10,
          10,
          10,
          10,
          10,
          10,
          10,
          10,
          10,
          10,
          10
         ],
         "xaxis": "x2",
         "y": [
          13023,
          12188,
          10362,
          9519,
          6925,
          9441,
          8809,
          9347,
          8917,
          3510,
          5478,
          6392,
          7691,
          7570,
          7282,
          7109,
          6639,
          5875,
          7534,
          7461,
          7509,
          5424,
          7678,
          6965,
          7473,
          7942,
          7785,
          6170,
          6321,
          7181,
          8902
         ],
         "yaxis": "y2"
        },
        {
         "boxpoints": "all",
         "fillcolor": "orange",
         "hoveron": "boxes+points",
         "jitter": 0.5,
         "legendgroup": "group2",
         "legendgrouptitle": {
          "text": "2021"
         },
         "line": {
          "width": 1
         },
         "marker": {
          "color": "rgb(0,0,0)",
          "size": 2
         },
         "name": "11",
         "type": "box",
         "whiskerwidth": 0.2,
         "x": [
          11,
          11,
          11,
          11,
          11,
          11,
          11,
          11,
          11,
          11,
          11,
          11,
          11,
          11,
          11,
          11,
          11,
          11,
          11,
          11,
          11,
          11,
          11,
          11,
          11,
          11,
          11,
          11,
          11,
          11
         ],
         "xaxis": "x2",
         "y": [
          3476,
          4520,
          8271,
          7797,
          7178,
          6269,
          6007,
          5994,
          6272,
          5035,
          5315,
          5992,
          6536,
          6852,
          6269,
          4094,
          5495,
          5445,
          5698,
          5629,
          4669,
          5499,
          5912,
          6012,
          5309,
          6153,
          4122,
          3762,
          5507,
          8736
         ],
         "yaxis": "y2"
        },
        {
         "boxpoints": "all",
         "fillcolor": "orange",
         "hoveron": "boxes+points",
         "jitter": 0.5,
         "legendgroup": "group2",
         "legendgrouptitle": {
          "text": "2021"
         },
         "line": {
          "width": 1
         },
         "marker": {
          "color": "rgb(0,0,0)",
          "size": 2
         },
         "name": "12",
         "type": "box",
         "whiskerwidth": 0.2,
         "x": [
          12,
          12,
          12,
          12,
          12,
          12,
          12,
          12,
          12,
          12,
          12,
          12,
          12,
          12,
          12,
          12,
          12,
          12,
          12,
          12,
          12,
          12,
          12,
          12,
          12,
          12,
          12,
          12,
          12,
          12,
          12
         ],
         "xaxis": "x2",
         "y": [
          9563,
          8883,
          8315,
          7255,
          6280,
          7566,
          7757,
          6598,
          6046,
          5008,
          5582,
          3228,
          5170,
          5501,
          5319,
          5532,
          5611,
          5047,
          3786,
          4585,
          5557,
          5267,
          4821,
          4476,
          3360,
          3805,
          3322,
          4577,
          1424,
          4231,
          8144
         ],
         "yaxis": "y2"
        }
       ],
       "layout": {
        "annotations": [
         {
          "font": {
           "size": 16
          },
          "showarrow": false,
          "text": "2020",
          "x": 0.5,
          "xanchor": "center",
          "xref": "paper",
          "y": 1,
          "yanchor": "bottom",
          "yref": "paper"
         },
         {
          "font": {
           "size": 16
          },
          "showarrow": false,
          "text": "2021",
          "x": 0.5,
          "xanchor": "center",
          "xref": "paper",
          "y": 0.375,
          "yanchor": "bottom",
          "yref": "paper"
         },
         {
          "font": {
           "color": "black"
          },
          "opacity": 0.5,
          "showarrow": false,
          "text": "Median 2021: 6481.0",
          "x": 0,
          "xanchor": "left",
          "xref": "x domain",
          "y": 6481,
          "yanchor": "bottom",
          "yref": "y"
         },
         {
          "font": {
           "color": "black"
          },
          "opacity": 0.5,
          "showarrow": false,
          "text": "Median 2020: 3973.0",
          "x": 0,
          "xanchor": "left",
          "xref": "x domain",
          "y": 3973,
          "yanchor": "bottom",
          "yref": "y"
         },
         {
          "font": {
           "color": "black"
          },
          "opacity": 0.5,
          "showarrow": false,
          "text": "Median 2021: 6481.0",
          "x": 0,
          "xanchor": "left",
          "xref": "x2 domain",
          "y": 6481,
          "yanchor": "bottom",
          "yref": "y2"
         },
         {
          "font": {
           "color": "black"
          },
          "opacity": 0.5,
          "showarrow": false,
          "text": "Median 2020: 3973.0",
          "x": 0,
          "xanchor": "left",
          "xref": "x2 domain",
          "y": 3973,
          "yanchor": "bottom",
          "yref": "y2"
         }
        ],
        "height": 770,
        "legend": {
         "groupclick": "toggleitem",
         "title": {
          "font": {
           "size": 15
          },
          "text": "<b>Year</b>"
         }
        },
        "shapes": [
         {
          "layer": "below",
          "line": {
           "color": "black",
           "dash": "dot"
          },
          "opacity": 0.5,
          "type": "line",
          "x0": 0,
          "x1": 1,
          "xref": "x domain",
          "y0": 6481,
          "y1": 6481,
          "yref": "y"
         },
         {
          "layer": "below",
          "line": {
           "color": "black",
           "dash": "dot"
          },
          "opacity": 0.5,
          "type": "line",
          "x0": 0,
          "x1": 1,
          "xref": "x domain",
          "y0": 3973,
          "y1": 3973,
          "yref": "y"
         },
         {
          "layer": "below",
          "line": {
           "color": "black",
           "dash": "dot"
          },
          "opacity": 0.5,
          "type": "line",
          "x0": 0,
          "x1": 1,
          "xref": "x2 domain",
          "y0": 6481,
          "y1": 6481,
          "yref": "y2"
         },
         {
          "layer": "below",
          "line": {
           "color": "black",
           "dash": "dot"
          },
          "opacity": 0.5,
          "type": "line",
          "x0": 0,
          "x1": 1,
          "xref": "x2 domain",
          "y0": 3973,
          "y1": 3973,
          "yref": "y2"
         }
        ],
        "template": {
         "data": {
          "bar": [
           {
            "error_x": {
             "color": "#2a3f5f"
            },
            "error_y": {
             "color": "#2a3f5f"
            },
            "marker": {
             "line": {
              "color": "#E5ECF6",
              "width": 0.5
             },
             "pattern": {
              "fillmode": "overlay",
              "size": 10,
              "solidity": 0.2
             }
            },
            "type": "bar"
           }
          ],
          "barpolar": [
           {
            "marker": {
             "line": {
              "color": "#E5ECF6",
              "width": 0.5
             },
             "pattern": {
              "fillmode": "overlay",
              "size": 10,
              "solidity": 0.2
             }
            },
            "type": "barpolar"
           }
          ],
          "carpet": [
           {
            "aaxis": {
             "endlinecolor": "#2a3f5f",
             "gridcolor": "white",
             "linecolor": "white",
             "minorgridcolor": "white",
             "startlinecolor": "#2a3f5f"
            },
            "baxis": {
             "endlinecolor": "#2a3f5f",
             "gridcolor": "white",
             "linecolor": "white",
             "minorgridcolor": "white",
             "startlinecolor": "#2a3f5f"
            },
            "type": "carpet"
           }
          ],
          "choropleth": [
           {
            "colorbar": {
             "outlinewidth": 0,
             "ticks": ""
            },
            "type": "choropleth"
           }
          ],
          "contour": [
           {
            "colorbar": {
             "outlinewidth": 0,
             "ticks": ""
            },
            "colorscale": [
             [
              0,
              "#0d0887"
             ],
             [
              0.1111111111111111,
              "#46039f"
             ],
             [
              0.2222222222222222,
              "#7201a8"
             ],
             [
              0.3333333333333333,
              "#9c179e"
             ],
             [
              0.4444444444444444,
              "#bd3786"
             ],
             [
              0.5555555555555556,
              "#d8576b"
             ],
             [
              0.6666666666666666,
              "#ed7953"
             ],
             [
              0.7777777777777778,
              "#fb9f3a"
             ],
             [
              0.8888888888888888,
              "#fdca26"
             ],
             [
              1,
              "#f0f921"
             ]
            ],
            "type": "contour"
           }
          ],
          "contourcarpet": [
           {
            "colorbar": {
             "outlinewidth": 0,
             "ticks": ""
            },
            "type": "contourcarpet"
           }
          ],
          "heatmap": [
           {
            "colorbar": {
             "outlinewidth": 0,
             "ticks": ""
            },
            "colorscale": [
             [
              0,
              "#0d0887"
             ],
             [
              0.1111111111111111,
              "#46039f"
             ],
             [
              0.2222222222222222,
              "#7201a8"
             ],
             [
              0.3333333333333333,
              "#9c179e"
             ],
             [
              0.4444444444444444,
              "#bd3786"
             ],
             [
              0.5555555555555556,
              "#d8576b"
             ],
             [
              0.6666666666666666,
              "#ed7953"
             ],
             [
              0.7777777777777778,
              "#fb9f3a"
             ],
             [
              0.8888888888888888,
              "#fdca26"
             ],
             [
              1,
              "#f0f921"
             ]
            ],
            "type": "heatmap"
           }
          ],
          "heatmapgl": [
           {
            "colorbar": {
             "outlinewidth": 0,
             "ticks": ""
            },
            "colorscale": [
             [
              0,
              "#0d0887"
             ],
             [
              0.1111111111111111,
              "#46039f"
             ],
             [
              0.2222222222222222,
              "#7201a8"
             ],
             [
              0.3333333333333333,
              "#9c179e"
             ],
             [
              0.4444444444444444,
              "#bd3786"
             ],
             [
              0.5555555555555556,
              "#d8576b"
             ],
             [
              0.6666666666666666,
              "#ed7953"
             ],
             [
              0.7777777777777778,
              "#fb9f3a"
             ],
             [
              0.8888888888888888,
              "#fdca26"
             ],
             [
              1,
              "#f0f921"
             ]
            ],
            "type": "heatmapgl"
           }
          ],
          "histogram": [
           {
            "marker": {
             "pattern": {
              "fillmode": "overlay",
              "size": 10,
              "solidity": 0.2
             }
            },
            "type": "histogram"
           }
          ],
          "histogram2d": [
           {
            "colorbar": {
             "outlinewidth": 0,
             "ticks": ""
            },
            "colorscale": [
             [
              0,
              "#0d0887"
             ],
             [
              0.1111111111111111,
              "#46039f"
             ],
             [
              0.2222222222222222,
              "#7201a8"
             ],
             [
              0.3333333333333333,
              "#9c179e"
             ],
             [
              0.4444444444444444,
              "#bd3786"
             ],
             [
              0.5555555555555556,
              "#d8576b"
             ],
             [
              0.6666666666666666,
              "#ed7953"
             ],
             [
              0.7777777777777778,
              "#fb9f3a"
             ],
             [
              0.8888888888888888,
              "#fdca26"
             ],
             [
              1,
              "#f0f921"
             ]
            ],
            "type": "histogram2d"
           }
          ],
          "histogram2dcontour": [
           {
            "colorbar": {
             "outlinewidth": 0,
             "ticks": ""
            },
            "colorscale": [
             [
              0,
              "#0d0887"
             ],
             [
              0.1111111111111111,
              "#46039f"
             ],
             [
              0.2222222222222222,
              "#7201a8"
             ],
             [
              0.3333333333333333,
              "#9c179e"
             ],
             [
              0.4444444444444444,
              "#bd3786"
             ],
             [
              0.5555555555555556,
              "#d8576b"
             ],
             [
              0.6666666666666666,
              "#ed7953"
             ],
             [
              0.7777777777777778,
              "#fb9f3a"
             ],
             [
              0.8888888888888888,
              "#fdca26"
             ],
             [
              1,
              "#f0f921"
             ]
            ],
            "type": "histogram2dcontour"
           }
          ],
          "mesh3d": [
           {
            "colorbar": {
             "outlinewidth": 0,
             "ticks": ""
            },
            "type": "mesh3d"
           }
          ],
          "parcoords": [
           {
            "line": {
             "colorbar": {
              "outlinewidth": 0,
              "ticks": ""
             }
            },
            "type": "parcoords"
           }
          ],
          "pie": [
           {
            "automargin": true,
            "type": "pie"
           }
          ],
          "scatter": [
           {
            "fillpattern": {
             "fillmode": "overlay",
             "size": 10,
             "solidity": 0.2
            },
            "type": "scatter"
           }
          ],
          "scatter3d": [
           {
            "line": {
             "colorbar": {
              "outlinewidth": 0,
              "ticks": ""
             }
            },
            "marker": {
             "colorbar": {
              "outlinewidth": 0,
              "ticks": ""
             }
            },
            "type": "scatter3d"
           }
          ],
          "scattercarpet": [
           {
            "marker": {
             "colorbar": {
              "outlinewidth": 0,
              "ticks": ""
             }
            },
            "type": "scattercarpet"
           }
          ],
          "scattergeo": [
           {
            "marker": {
             "colorbar": {
              "outlinewidth": 0,
              "ticks": ""
             }
            },
            "type": "scattergeo"
           }
          ],
          "scattergl": [
           {
            "marker": {
             "colorbar": {
              "outlinewidth": 0,
              "ticks": ""
             }
            },
            "type": "scattergl"
           }
          ],
          "scattermapbox": [
           {
            "marker": {
             "colorbar": {
              "outlinewidth": 0,
              "ticks": ""
             }
            },
            "type": "scattermapbox"
           }
          ],
          "scatterpolar": [
           {
            "marker": {
             "colorbar": {
              "outlinewidth": 0,
              "ticks": ""
             }
            },
            "type": "scatterpolar"
           }
          ],
          "scatterpolargl": [
           {
            "marker": {
             "colorbar": {
              "outlinewidth": 0,
              "ticks": ""
             }
            },
            "type": "scatterpolargl"
           }
          ],
          "scatterternary": [
           {
            "marker": {
             "colorbar": {
              "outlinewidth": 0,
              "ticks": ""
             }
            },
            "type": "scatterternary"
           }
          ],
          "surface": [
           {
            "colorbar": {
             "outlinewidth": 0,
             "ticks": ""
            },
            "colorscale": [
             [
              0,
              "#0d0887"
             ],
             [
              0.1111111111111111,
              "#46039f"
             ],
             [
              0.2222222222222222,
              "#7201a8"
             ],
             [
              0.3333333333333333,
              "#9c179e"
             ],
             [
              0.4444444444444444,
              "#bd3786"
             ],
             [
              0.5555555555555556,
              "#d8576b"
             ],
             [
              0.6666666666666666,
              "#ed7953"
             ],
             [
              0.7777777777777778,
              "#fb9f3a"
             ],
             [
              0.8888888888888888,
              "#fdca26"
             ],
             [
              1,
              "#f0f921"
             ]
            ],
            "type": "surface"
           }
          ],
          "table": [
           {
            "cells": {
             "fill": {
              "color": "#EBF0F8"
             },
             "line": {
              "color": "white"
             }
            },
            "header": {
             "fill": {
              "color": "#C8D4E3"
             },
             "line": {
              "color": "white"
             }
            },
            "type": "table"
           }
          ]
         },
         "layout": {
          "annotationdefaults": {
           "arrowcolor": "#2a3f5f",
           "arrowhead": 0,
           "arrowwidth": 1
          },
          "autotypenumbers": "strict",
          "coloraxis": {
           "colorbar": {
            "outlinewidth": 0,
            "ticks": ""
           }
          },
          "colorscale": {
           "diverging": [
            [
             0,
             "#8e0152"
            ],
            [
             0.1,
             "#c51b7d"
            ],
            [
             0.2,
             "#de77ae"
            ],
            [
             0.3,
             "#f1b6da"
            ],
            [
             0.4,
             "#fde0ef"
            ],
            [
             0.5,
             "#f7f7f7"
            ],
            [
             0.6,
             "#e6f5d0"
            ],
            [
             0.7,
             "#b8e186"
            ],
            [
             0.8,
             "#7fbc41"
            ],
            [
             0.9,
             "#4d9221"
            ],
            [
             1,
             "#276419"
            ]
           ],
           "sequential": [
            [
             0,
             "#0d0887"
            ],
            [
             0.1111111111111111,
             "#46039f"
            ],
            [
             0.2222222222222222,
             "#7201a8"
            ],
            [
             0.3333333333333333,
             "#9c179e"
            ],
            [
             0.4444444444444444,
             "#bd3786"
            ],
            [
             0.5555555555555556,
             "#d8576b"
            ],
            [
             0.6666666666666666,
             "#ed7953"
            ],
            [
             0.7777777777777778,
             "#fb9f3a"
            ],
            [
             0.8888888888888888,
             "#fdca26"
            ],
            [
             1,
             "#f0f921"
            ]
           ],
           "sequentialminus": [
            [
             0,
             "#0d0887"
            ],
            [
             0.1111111111111111,
             "#46039f"
            ],
            [
             0.2222222222222222,
             "#7201a8"
            ],
            [
             0.3333333333333333,
             "#9c179e"
            ],
            [
             0.4444444444444444,
             "#bd3786"
            ],
            [
             0.5555555555555556,
             "#d8576b"
            ],
            [
             0.6666666666666666,
             "#ed7953"
            ],
            [
             0.7777777777777778,
             "#fb9f3a"
            ],
            [
             0.8888888888888888,
             "#fdca26"
            ],
            [
             1,
             "#f0f921"
            ]
           ]
          },
          "colorway": [
           "#636efa",
           "#EF553B",
           "#00cc96",
           "#ab63fa",
           "#FFA15A",
           "#19d3f3",
           "#FF6692",
           "#B6E880",
           "#FF97FF",
           "#FECB52"
          ],
          "font": {
           "color": "#2a3f5f"
          },
          "geo": {
           "bgcolor": "white",
           "lakecolor": "white",
           "landcolor": "#E5ECF6",
           "showlakes": true,
           "showland": true,
           "subunitcolor": "white"
          },
          "hoverlabel": {
           "align": "left"
          },
          "hovermode": "closest",
          "mapbox": {
           "style": "light"
          },
          "paper_bgcolor": "white",
          "plot_bgcolor": "#E5ECF6",
          "polar": {
           "angularaxis": {
            "gridcolor": "white",
            "linecolor": "white",
            "ticks": ""
           },
           "bgcolor": "#E5ECF6",
           "radialaxis": {
            "gridcolor": "white",
            "linecolor": "white",
            "ticks": ""
           }
          },
          "scene": {
           "xaxis": {
            "backgroundcolor": "#E5ECF6",
            "gridcolor": "white",
            "gridwidth": 2,
            "linecolor": "white",
            "showbackground": true,
            "ticks": "",
            "zerolinecolor": "white"
           },
           "yaxis": {
            "backgroundcolor": "#E5ECF6",
            "gridcolor": "white",
            "gridwidth": 2,
            "linecolor": "white",
            "showbackground": true,
            "ticks": "",
            "zerolinecolor": "white"
           },
           "zaxis": {
            "backgroundcolor": "#E5ECF6",
            "gridcolor": "white",
            "gridwidth": 2,
            "linecolor": "white",
            "showbackground": true,
            "ticks": "",
            "zerolinecolor": "white"
           }
          },
          "shapedefaults": {
           "line": {
            "color": "#2a3f5f"
           }
          },
          "ternary": {
           "aaxis": {
            "gridcolor": "white",
            "linecolor": "white",
            "ticks": ""
           },
           "baxis": {
            "gridcolor": "white",
            "linecolor": "white",
            "ticks": ""
           },
           "bgcolor": "#E5ECF6",
           "caxis": {
            "gridcolor": "white",
            "linecolor": "white",
            "ticks": ""
           }
          },
          "title": {
           "x": 0.05
          },
          "xaxis": {
           "automargin": true,
           "gridcolor": "white",
           "linecolor": "white",
           "ticks": "",
           "title": {
            "standoff": 15
           },
           "zerolinecolor": "white",
           "zerolinewidth": 2
          },
          "yaxis": {
           "automargin": true,
           "gridcolor": "white",
           "linecolor": "white",
           "ticks": "",
           "title": {
            "standoff": 15
           },
           "zerolinecolor": "white",
           "zerolinewidth": 2
          }
         }
        },
        "title": {
         "font": {
          "size": 20
         },
         "text": "<b>Boxplot of total monthly Customers 2020 and 2021</b>"
        },
        "xaxis": {
         "anchor": "y",
         "domain": [
          0,
          1
         ],
         "title": {
          "font": {
           "size": 14
          },
          "text": "<b>Month</b>"
         }
        },
        "xaxis2": {
         "anchor": "y2",
         "domain": [
          0,
          1
         ],
         "title": {
          "font": {
           "size": 14
          },
          "text": "<b>Month</b>"
         }
        },
        "yaxis": {
         "anchor": "x",
         "domain": [
          0.625,
          1
         ],
         "showgrid": false,
         "title": {
          "font": {
           "size": 14
          },
          "text": "<b>Total Customers</b>"
         }
        },
        "yaxis2": {
         "anchor": "x2",
         "domain": [
          0,
          0.375
         ],
         "showgrid": false,
         "title": {
          "font": {
           "size": 14
          },
          "text": "<b>Total Customers</b>"
         }
        }
       }
      }
     },
     "metadata": {},
     "output_type": "display_data"
    }
   ],
   "source": [
    "fig1 = make_subplots(rows= 2, cols=1, subplot_titles= (\"2020\", \"2021\"))    # 2021 noch dazumachen\n",
    "\n",
    "for month in df_box_2020.month.unique():\n",
    "\n",
    "  if df_box_2020.registered_customer.median() < df_box_2020[df_box_2020.month == month].registered_customer.median():\n",
    "    color = \"darkgreen\"\n",
    "\n",
    "  elif df_box_2020.registered_customer.median() > df_box_2020[df_box_2020.month == month].registered_customer.median():\n",
    "    color = \"darkred\"\n",
    "\n",
    "\n",
    "  fig1.add_trace(\n",
    "    go.Box(\n",
    "      name= f\"{month}\",\n",
    "      legendgroup= \"group1\",\n",
    "      legendgrouptitle_text= \"2020\",\n",
    "      x= df_box_2020.loc[df_box_2020.month == month].month,\n",
    "      y= df_box_2020.loc[df_box_2020.month == month].registered_customer,\n",
    "      boxpoints= \"all\",\n",
    "      line= dict(width= 1),\n",
    "      marker= dict(size=2, color= \"rgb(0,0,0)\"),\n",
    "      jitter= 0.5,\n",
    "      whiskerwidth=0.2,\n",
    "      fillcolor = color,\n",
    "      hoveron = \"boxes+points\",\n",
    "      ),\n",
    "      col= 1,\n",
    "      row= 1\n",
    "  )\n",
    "\n",
    "fig1.add_hline(\n",
    " y= df_box_2021.registered_customer.median(),\n",
    " opacity= 0.5,\n",
    " line_dash= \"dot\",\n",
    " line_color= \"black\",\n",
    " layer= \"below\",\n",
    " annotation_text= \"Median 2021: \"f'{df_box_2021.registered_customer.median()}',\n",
    " annotation_position= \"top left\",\n",
    " annotation_font_color= \"black\",\n",
    " annotation_opacity = 0.5,\n",
    " col= 1,\n",
    " row= 1\n",
    ")\n",
    "\n",
    "fig1.add_hline(\n",
    " y= df_box_2020.registered_customer.median(),\n",
    " opacity= 0.5,\n",
    " line_dash= \"dot\",\n",
    " line_color= \"black\",\n",
    " layer= \"below\",\n",
    " annotation_text= \"Median 2020: \"f'{df_box_2020.registered_customer.median()}',\n",
    " annotation_position= \"top left\",\n",
    " annotation_font_color= \"black\",\n",
    " annotation_opacity = 0.5,\n",
    " col= 1,\n",
    " row= 1\n",
    ")\n",
    "\n",
    "\n",
    "for month in df_box_2021.month.unique():\n",
    "\n",
    "  if df_box_2021.registered_customer.median() < df_box_2021[df_box_2021.month == month].registered_customer.median():\n",
    "    color = \"darkgreen\"\n",
    "\n",
    "  elif df_box_2021.registered_customer.median() > df_box_2021[df_box_2021.month == month].registered_customer.median():\n",
    "    color = \"darkred\"\n",
    "\n",
    "    if df_box_2020.registered_customer.median() < df_box_2021[df_box_2021.month == month].registered_customer.median():\n",
    "      color = \"orange\"\n",
    "\n",
    "  fig1.add_trace(\n",
    "    go.Box(\n",
    "      name= f\"{month}\",\n",
    "      legendgroup= \"group2\",\n",
    "      legendgrouptitle_text= \"2021\",\n",
    "      x= df_box_2021.loc[df_box_2021.month == month].month,\n",
    "      y= df_box_2021.loc[df_box_2021.month == month].registered_customer,\n",
    "      boxpoints= \"all\",\n",
    "      line= dict(width= 1),\n",
    "      marker= dict(size=2, color= \"rgb(0,0,0)\"),\n",
    "      jitter= 0.5,\n",
    "      whiskerwidth=0.2,\n",
    "      fillcolor = color,\n",
    "      hoveron = \"boxes+points\"\n",
    "      ),\n",
    "      col= 1,\n",
    "      row= 2\n",
    "  )\n",
    "\n",
    "fig1.add_hline(\n",
    " y= df_box_2021.registered_customer.median(),\n",
    " opacity= 0.5,\n",
    " line_dash= \"dot\",\n",
    " line_color= \"black\",\n",
    " layer= \"below\",\n",
    " annotation_text= \"Median 2021: \"f'{df_box_2021.registered_customer.median()}',\n",
    " annotation_position= \"top left\",\n",
    " annotation_font_color= \"black\",\n",
    " annotation_opacity = 0.5,\n",
    " col= 1,\n",
    " row= 2\n",
    ")\n",
    "\n",
    "fig1.add_hline(\n",
    " y= df_box_2020.registered_customer.median(),\n",
    " opacity= 0.5,\n",
    " line_dash= \"dot\",\n",
    " line_color= \"black\",\n",
    " layer= \"below\",\n",
    " annotation_text= \"Median 2020: \"f'{df_box_2020.registered_customer.median()}',\n",
    " annotation_position= \"top left\",\n",
    " annotation_font_color= \"black\",\n",
    " annotation_opacity = 0.5,\n",
    " col= 1,\n",
    " row= 2\n",
    ")\n",
    "\n",
    "\n",
    "fig1.update_layout(title= dict(text= \"<b>Boxplot of total monthly Customers 2020 and 2021</b>\", font_size= 20), height= 770, legend_title_text= \"<b>Year</b>\", legend_title_font_size= 15, legend= dict(groupclick= \"toggleitem\"))\n",
    "fig1.update_yaxes(title_text=\"<b>Total Customers</b>\", title_font= dict(size= 14), showgrid= False)\n",
    "fig1.update_xaxes(title_text=\"<b>Month</b>\", title_font= dict(size= 14))\n",
    "\n",
    "fig1.show()"
   ]
  }
 ],
 "metadata": {
  "kernelspec": {
   "display_name": "Python 3.9.7 64-bit",
   "language": "python",
   "name": "python3"
  },
  "language_info": {
   "codemirror_mode": {
    "name": "ipython",
    "version": 3
   },
   "file_extension": ".py",
   "mimetype": "text/x-python",
   "name": "python",
   "nbconvert_exporter": "python",
   "pygments_lexer": "ipython3",
   "version": "3.9.7"
  },
  "orig_nbformat": 4,
  "vscode": {
   "interpreter": {
    "hash": "aee8b7b246df8f9039afb4144a1f6fd8d2ca17a180786b69acc140d282b71a49"
   }
  }
 },
 "nbformat": 4,
 "nbformat_minor": 2
}
