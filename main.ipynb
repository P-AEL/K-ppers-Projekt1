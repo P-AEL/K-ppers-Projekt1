{
 "cells": [
  {
   "cell_type": "markdown",
   "metadata": {},
   "source": [
    "DSCB310 – Abgabe Übungsblatt 1 (WS202/23)\n",
    "\n",
    "\n",
    "Matrikelnummern: 80001"
   ]
  },
  {
   "cell_type": "markdown",
   "metadata": {},
   "source": [
    "# Data Quality"
   ]
  },
  {
   "cell_type": "markdown",
   "metadata": {},
   "source": [
    "# Vorgebenen Aufgaben"
   ]
  },
  {
   "cell_type": "markdown",
   "metadata": {},
   "source": [
    "# Geschäftsführung"
   ]
  },
  {
   "cell_type": "markdown",
   "metadata": {},
   "source": [
    "# Abteilungsleiter"
   ]
  }
 ],
 "metadata": {
  "kernelspec": {
   "display_name": "Python 3.10.8 64-bit (microsoft store)",
   "language": "python",
   "name": "python3"
  },
  "language_info": {
   "name": "python",
   "version": "3.10.8"
  },
  "orig_nbformat": 4,
  "vscode": {
   "interpreter": {
    "hash": "f057ee858b85cb61ebf4db329176c41c101b87ce182c0543c232437d49c5b088"
   }
  }
 },
 "nbformat": 4,
 "nbformat_minor": 2
}
