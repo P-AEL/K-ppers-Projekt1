{
 "cells": [
  {
   "cell_type": "code",
   "execution_count": 1,
   "metadata": {},
   "outputs": [],
   "source": [
    "import pandas as pd\n",
    "import plotly.express as px"
   ]
  },
  {
   "cell_type": "code",
   "execution_count": 16,
   "metadata": {},
   "outputs": [],
   "source": [
    "org_data = pd.read_parquet(\"escooter_history_2022.parquet\")"
   ]
  },
  {
   "cell_type": "code",
   "execution_count": 5,
   "metadata": {},
   "outputs": [
    {
     "data": {
      "text/html": [
       "<div>\n",
       "<style scoped>\n",
       "    .dataframe tbody tr th:only-of-type {\n",
       "        vertical-align: middle;\n",
       "    }\n",
       "\n",
       "    .dataframe tbody tr th {\n",
       "        vertical-align: top;\n",
       "    }\n",
       "\n",
       "    .dataframe thead th {\n",
       "        text-align: right;\n",
       "    }\n",
       "</style>\n",
       "<table border=\"1\" class=\"dataframe\">\n",
       "  <thead>\n",
       "    <tr style=\"text-align: right;\">\n",
       "      <th></th>\n",
       "      <th>datetime</th>\n",
       "      <th>holiday</th>\n",
       "      <th>workingday</th>\n",
       "      <th>weather</th>\n",
       "      <th>temp</th>\n",
       "      <th>atemp</th>\n",
       "      <th>humidity</th>\n",
       "      <th>windspeed</th>\n",
       "      <th>registered_customer</th>\n",
       "    </tr>\n",
       "  </thead>\n",
       "  <tbody>\n",
       "    <tr>\n",
       "      <th>0</th>\n",
       "      <td>2020-01-04 00:00:09</td>\n",
       "      <td>0.0</td>\n",
       "      <td>0.0</td>\n",
       "      <td>clear, few clouds</td>\n",
       "      <td>9.84</td>\n",
       "      <td>14.395</td>\n",
       "      <td>81.0</td>\n",
       "      <td>0.0</td>\n",
       "      <td>True</td>\n",
       "    </tr>\n",
       "    <tr>\n",
       "      <th>1</th>\n",
       "      <td>2020-01-04 00:00:41</td>\n",
       "      <td>0.0</td>\n",
       "      <td>0.0</td>\n",
       "      <td>clear, few clouds</td>\n",
       "      <td>9.84</td>\n",
       "      <td>14.395</td>\n",
       "      <td>81.0</td>\n",
       "      <td>0.0</td>\n",
       "      <td>True</td>\n",
       "    </tr>\n",
       "    <tr>\n",
       "      <th>2</th>\n",
       "      <td>2020-01-04 00:01:20</td>\n",
       "      <td>0.0</td>\n",
       "      <td>0.0</td>\n",
       "      <td>clear, few clouds</td>\n",
       "      <td>9.84</td>\n",
       "      <td>14.395</td>\n",
       "      <td>81.0</td>\n",
       "      <td>0.0</td>\n",
       "      <td>True</td>\n",
       "    </tr>\n",
       "    <tr>\n",
       "      <th>3</th>\n",
       "      <td>2020-01-04 00:04:12</td>\n",
       "      <td>0.0</td>\n",
       "      <td>0.0</td>\n",
       "      <td>clear, few clouds</td>\n",
       "      <td>9.84</td>\n",
       "      <td>14.395</td>\n",
       "      <td>81.0</td>\n",
       "      <td>0.0</td>\n",
       "      <td>True</td>\n",
       "    </tr>\n",
       "    <tr>\n",
       "      <th>4</th>\n",
       "      <td>2020-01-04 00:15:19</td>\n",
       "      <td>0.0</td>\n",
       "      <td>0.0</td>\n",
       "      <td>clear, few clouds</td>\n",
       "      <td>9.84</td>\n",
       "      <td>14.395</td>\n",
       "      <td>81.0</td>\n",
       "      <td>0.0</td>\n",
       "      <td>True</td>\n",
       "    </tr>\n",
       "  </tbody>\n",
       "</table>\n",
       "</div>"
      ],
      "text/plain": [
       "             datetime  holiday  workingday            weather  temp   atemp  \\\n",
       "0 2020-01-04 00:00:09      0.0         0.0  clear, few clouds  9.84  14.395   \n",
       "1 2020-01-04 00:00:41      0.0         0.0  clear, few clouds  9.84  14.395   \n",
       "2 2020-01-04 00:01:20      0.0         0.0  clear, few clouds  9.84  14.395   \n",
       "3 2020-01-04 00:04:12      0.0         0.0  clear, few clouds  9.84  14.395   \n",
       "4 2020-01-04 00:15:19      0.0         0.0  clear, few clouds  9.84  14.395   \n",
       "\n",
       "   humidity  windspeed  registered_customer  \n",
       "0      81.0        0.0                 True  \n",
       "1      81.0        0.0                 True  \n",
       "2      81.0        0.0                 True  \n",
       "3      81.0        0.0                 True  \n",
       "4      81.0        0.0                 True  "
      ]
     },
     "execution_count": 5,
     "metadata": {},
     "output_type": "execute_result"
    }
   ],
   "source": [
    "org_data.head()"
   ]
  },
  {
   "cell_type": "code",
   "execution_count": 19,
   "metadata": {},
   "outputs": [
    {
     "name": "stdout",
     "output_type": "stream",
     "text": [
      "<class 'pandas.core.frame.DataFrame'>\n",
      "RangeIndex: 3755415 entries, 0 to 3755414\n",
      "Data columns (total 9 columns):\n",
      " #   Column               Dtype         \n",
      "---  ------               -----         \n",
      " 0   datetime             datetime64[ns]\n",
      " 1   holiday              float64       \n",
      " 2   workingday           float64       \n",
      " 3   weather              object        \n",
      " 4   temp                 float64       \n",
      " 5   atemp                float64       \n",
      " 6   humidity             float64       \n",
      " 7   windspeed            float64       \n",
      " 8   registered_customer  boolean       \n",
      "dtypes: boolean(1), datetime64[ns](1), float64(6), object(1)\n",
      "memory usage: 236.4+ MB\n"
     ]
    }
   ],
   "source": [
    "org_data.info()"
   ]
  },
  {
   "cell_type": "code",
   "execution_count": 21,
   "metadata": {},
   "outputs": [
    {
     "ename": "NameError",
     "evalue": "name 'df' is not defined",
     "output_type": "error",
     "traceback": [
      "\u001b[0;31m---------------------------------------------------------------------------\u001b[0m",
      "\u001b[0;31mNameError\u001b[0m                                 Traceback (most recent call last)",
      "\u001b[1;32m/Users/florian/Documents/GitHub/3 Semester/K-ppers-Projekt1-1/Flo.ipynb Zelle 5\u001b[0m in \u001b[0;36m<cell line: 9>\u001b[0;34m()\u001b[0m\n\u001b[1;32m      <a href='vscode-notebook-cell:/Users/florian/Documents/GitHub/3%20Semester/K-ppers-Projekt1-1/Flo.ipynb#W6sZmlsZQ%3D%3D?line=6'>7</a>\u001b[0m org_data_clean\u001b[39m.\u001b[39mholiday \u001b[39m=\u001b[39m org_data\u001b[39m.\u001b[39mholiday\u001b[39m.\u001b[39mastype(\u001b[39mbool\u001b[39m)\n\u001b[1;32m      <a href='vscode-notebook-cell:/Users/florian/Documents/GitHub/3%20Semester/K-ppers-Projekt1-1/Flo.ipynb#W6sZmlsZQ%3D%3D?line=7'>8</a>\u001b[0m org_data_clean\u001b[39m.\u001b[39mworkingday \u001b[39m=\u001b[39m org_data\u001b[39m.\u001b[39mworkingday\u001b[39m.\u001b[39mastype(\u001b[39mbool\u001b[39m)\n\u001b[0;32m----> <a href='vscode-notebook-cell:/Users/florian/Documents/GitHub/3%20Semester/K-ppers-Projekt1-1/Flo.ipynb#W6sZmlsZQ%3D%3D?line=8'>9</a>\u001b[0m df_slice1 \u001b[39m=\u001b[39m df\u001b[39m.\u001b[39mgroupby(pd\u001b[39m.\u001b[39mGrouper(key\u001b[39m=\u001b[39m\u001b[39m\"\u001b[39m\u001b[39mdatetime\u001b[39m\u001b[39m\"\u001b[39m,freq\u001b[39m=\u001b[39m\u001b[39m\"\u001b[39m\u001b[39mD\u001b[39m\u001b[39m\"\u001b[39m))\u001b[39m.\u001b[39mcount()\n",
      "\u001b[0;31mNameError\u001b[0m: name 'df' is not defined"
     ]
    }
   ],
   "source": [
    "# holiday (float) -> boolean\n",
    "# wokringday (float) -> boolean\n",
    "# registered_customer (boolean) -> float\n",
    "\n",
    "org_data_clean = org_data.copy()\n",
    "\n",
    "org_data_clean.holiday = org_data.holiday.astype(bool)\n",
    "org_data_clean.workingday = org_data.workingday.astype(bool)\n"
   ]
  },
  {
   "cell_type": "code",
   "execution_count": 20,
   "metadata": {},
   "outputs": [
    {
     "name": "stdout",
     "output_type": "stream",
     "text": [
      "<class 'pandas.core.frame.DataFrame'>\n",
      "RangeIndex: 3755415 entries, 0 to 3755414\n",
      "Data columns (total 9 columns):\n",
      " #   Column               Dtype         \n",
      "---  ------               -----         \n",
      " 0   datetime             datetime64[ns]\n",
      " 1   holiday              bool          \n",
      " 2   workingday           bool          \n",
      " 3   weather              object        \n",
      " 4   temp                 float64       \n",
      " 5   atemp                float64       \n",
      " 6   humidity             float64       \n",
      " 7   windspeed            float64       \n",
      " 8   registered_customer  boolean       \n",
      "dtypes: bool(2), boolean(1), datetime64[ns](1), float64(4), object(1)\n",
      "memory usage: 186.2+ MB\n"
     ]
    }
   ],
   "source": [
    "org_data_clean.info()"
   ]
  }
 ],
 "metadata": {
  "kernelspec": {
   "display_name": "Python 3.9.7 64-bit",
   "language": "python",
   "name": "python3"
  },
  "language_info": {
   "codemirror_mode": {
    "name": "ipython",
    "version": 3
   },
   "file_extension": ".py",
   "mimetype": "text/x-python",
   "name": "python",
   "nbconvert_exporter": "python",
   "pygments_lexer": "ipython3",
   "version": "3.9.7"
  },
  "orig_nbformat": 4,
  "vscode": {
   "interpreter": {
    "hash": "aee8b7b246df8f9039afb4144a1f6fd8d2ca17a180786b69acc140d282b71a49"
   }
  }
 },
 "nbformat": 4,
 "nbformat_minor": 2
}
